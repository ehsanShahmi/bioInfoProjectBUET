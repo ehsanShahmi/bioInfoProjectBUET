{
 "cells": [
  {
   "cell_type": "code",
   "execution_count": 148,
   "metadata": {
    "collapsed": true
   },
   "outputs": [],
   "source": [
    "import pandas as pd\n",
    "import numpy as np\n",
    "import matplotlib.pyplot as plt\n",
    "import random\n",
    "\n",
    "from sklearn.decomposition import PCA\n",
    "from sklearn.svm import SVC\n",
    "from sklearn.model_selection import GridSearchCV"
   ]
  },
  {
   "cell_type": "code",
   "execution_count": 60,
   "metadata": {},
   "outputs": [
    {
     "data": {
      "text/html": [
       "<div>\n",
       "<style scoped>\n",
       "    .dataframe tbody tr th:only-of-type {\n",
       "        vertical-align: middle;\n",
       "    }\n",
       "\n",
       "    .dataframe tbody tr th {\n",
       "        vertical-align: top;\n",
       "    }\n",
       "\n",
       "    .dataframe thead th {\n",
       "        text-align: right;\n",
       "    }\n",
       "</style>\n",
       "<table border=\"1\" class=\"dataframe\">\n",
       "  <thead>\n",
       "    <tr style=\"text-align: right;\">\n",
       "      <th></th>\n",
       "      <th>2</th>\n",
       "      <th>3</th>\n",
       "      <th>4</th>\n",
       "      <th>5</th>\n",
       "      <th>6</th>\n",
       "      <th>7</th>\n",
       "      <th>8</th>\n",
       "      <th>9</th>\n",
       "      <th>10</th>\n",
       "      <th>11</th>\n",
       "      <th>...</th>\n",
       "      <th>56</th>\n",
       "      <th>57</th>\n",
       "      <th>58</th>\n",
       "      <th>59</th>\n",
       "      <th>60</th>\n",
       "      <th>61</th>\n",
       "      <th>62</th>\n",
       "      <th>63</th>\n",
       "      <th>64</th>\n",
       "      <th>65</th>\n",
       "    </tr>\n",
       "  </thead>\n",
       "  <tbody>\n",
       "    <tr>\n",
       "      <th>0</th>\n",
       "      <td>3.01670</td>\n",
       "      <td>3.28567</td>\n",
       "      <td>2.92948</td>\n",
       "      <td>2.92282</td>\n",
       "      <td>3.15950</td>\n",
       "      <td>3.16333</td>\n",
       "      <td>2.98590</td>\n",
       "      <td>3.12271</td>\n",
       "      <td>3.07095</td>\n",
       "      <td>3.07800</td>\n",
       "      <td>...</td>\n",
       "      <td>3.13427</td>\n",
       "      <td>3.20705</td>\n",
       "      <td>2.97139</td>\n",
       "      <td>2.84377</td>\n",
       "      <td>3.03760</td>\n",
       "      <td>3.04886</td>\n",
       "      <td>3.11388</td>\n",
       "      <td>3.03301</td>\n",
       "      <td>3.21275</td>\n",
       "      <td>3.44830</td>\n",
       "    </tr>\n",
       "    <tr>\n",
       "      <th>1</th>\n",
       "      <td>7.97774</td>\n",
       "      <td>6.53251</td>\n",
       "      <td>6.38801</td>\n",
       "      <td>6.46668</td>\n",
       "      <td>6.43280</td>\n",
       "      <td>6.40732</td>\n",
       "      <td>6.42647</td>\n",
       "      <td>6.37639</td>\n",
       "      <td>6.46907</td>\n",
       "      <td>6.62134</td>\n",
       "      <td>...</td>\n",
       "      <td>6.55024</td>\n",
       "      <td>6.91601</td>\n",
       "      <td>7.15575</td>\n",
       "      <td>6.47164</td>\n",
       "      <td>6.50803</td>\n",
       "      <td>6.63174</td>\n",
       "      <td>6.52861</td>\n",
       "      <td>6.68481</td>\n",
       "      <td>6.55603</td>\n",
       "      <td>6.34190</td>\n",
       "    </tr>\n",
       "    <tr>\n",
       "      <th>2</th>\n",
       "      <td>4.20728</td>\n",
       "      <td>4.99497</td>\n",
       "      <td>4.40160</td>\n",
       "      <td>4.74711</td>\n",
       "      <td>4.83005</td>\n",
       "      <td>4.21376</td>\n",
       "      <td>4.88442</td>\n",
       "      <td>4.43189</td>\n",
       "      <td>4.84967</td>\n",
       "      <td>4.43297</td>\n",
       "      <td>...</td>\n",
       "      <td>4.51884</td>\n",
       "      <td>4.19324</td>\n",
       "      <td>4.06188</td>\n",
       "      <td>4.17565</td>\n",
       "      <td>4.11509</td>\n",
       "      <td>5.09069</td>\n",
       "      <td>4.45671</td>\n",
       "      <td>3.92363</td>\n",
       "      <td>4.25868</td>\n",
       "      <td>4.32786</td>\n",
       "    </tr>\n",
       "    <tr>\n",
       "      <th>3</th>\n",
       "      <td>7.25609</td>\n",
       "      <td>7.42081</td>\n",
       "      <td>6.99934</td>\n",
       "      <td>7.09449</td>\n",
       "      <td>7.02433</td>\n",
       "      <td>7.17929</td>\n",
       "      <td>7.15990</td>\n",
       "      <td>7.00998</td>\n",
       "      <td>6.83098</td>\n",
       "      <td>7.20862</td>\n",
       "      <td>...</td>\n",
       "      <td>7.55083</td>\n",
       "      <td>7.28955</td>\n",
       "      <td>6.93698</td>\n",
       "      <td>7.13647</td>\n",
       "      <td>7.13442</td>\n",
       "      <td>7.28159</td>\n",
       "      <td>7.10976</td>\n",
       "      <td>7.11019</td>\n",
       "      <td>7.09445</td>\n",
       "      <td>7.09615</td>\n",
       "    </tr>\n",
       "    <tr>\n",
       "      <th>4</th>\n",
       "      <td>2.20496</td>\n",
       "      <td>2.33163</td>\n",
       "      <td>2.13331</td>\n",
       "      <td>2.18333</td>\n",
       "      <td>2.12778</td>\n",
       "      <td>2.26970</td>\n",
       "      <td>2.26471</td>\n",
       "      <td>2.25394</td>\n",
       "      <td>2.28792</td>\n",
       "      <td>2.23319</td>\n",
       "      <td>...</td>\n",
       "      <td>2.28651</td>\n",
       "      <td>2.24272</td>\n",
       "      <td>2.19901</td>\n",
       "      <td>2.09922</td>\n",
       "      <td>2.21429</td>\n",
       "      <td>2.19899</td>\n",
       "      <td>2.16208</td>\n",
       "      <td>2.22359</td>\n",
       "      <td>2.25645</td>\n",
       "      <td>2.24060</td>\n",
       "    </tr>\n",
       "  </tbody>\n",
       "</table>\n",
       "<p>5 rows × 64 columns</p>\n",
       "</div>"
      ],
      "text/plain": [
       "        2        3        4        5        6        7        8        9   \\\n",
       "0  3.01670  3.28567  2.92948  2.92282  3.15950  3.16333  2.98590  3.12271   \n",
       "1  7.97774  6.53251  6.38801  6.46668  6.43280  6.40732  6.42647  6.37639   \n",
       "2  4.20728  4.99497  4.40160  4.74711  4.83005  4.21376  4.88442  4.43189   \n",
       "3  7.25609  7.42081  6.99934  7.09449  7.02433  7.17929  7.15990  7.00998   \n",
       "4  2.20496  2.33163  2.13331  2.18333  2.12778  2.26970  2.26471  2.25394   \n",
       "\n",
       "        10       11   ...          56       57       58       59       60  \\\n",
       "0  3.07095  3.07800   ...     3.13427  3.20705  2.97139  2.84377  3.03760   \n",
       "1  6.46907  6.62134   ...     6.55024  6.91601  7.15575  6.47164  6.50803   \n",
       "2  4.84967  4.43297   ...     4.51884  4.19324  4.06188  4.17565  4.11509   \n",
       "3  6.83098  7.20862   ...     7.55083  7.28955  6.93698  7.13647  7.13442   \n",
       "4  2.28792  2.23319   ...     2.28651  2.24272  2.19901  2.09922  2.21429   \n",
       "\n",
       "        61       62       63       64       65  \n",
       "0  3.04886  3.11388  3.03301  3.21275  3.44830  \n",
       "1  6.63174  6.52861  6.68481  6.55603  6.34190  \n",
       "2  5.09069  4.45671  3.92363  4.25868  4.32786  \n",
       "3  7.28159  7.10976  7.11019  7.09445  7.09615  \n",
       "4  2.19899  2.16208  2.22359  2.25645  2.24060  \n",
       "\n",
       "[5 rows x 64 columns]"
      ]
     },
     "execution_count": 60,
     "metadata": {},
     "output_type": "execute_result"
    }
   ],
   "source": [
    "# Reading the full data\n",
    "# removing the header row, the sample names\n",
    "# Dropping the first 2 columns (gene ID_REF and identifiers)\n",
    "Data = pd.read_csv(\"leukemia_full.csv\", header=None, skiprows=[0], usecols=[i for i in range(2,66)])\n",
    "Data.head()"
   ]
  },
  {
   "cell_type": "code",
   "execution_count": 61,
   "metadata": {},
   "outputs": [
    {
     "data": {
      "text/html": [
       "<div>\n",
       "<style scoped>\n",
       "    .dataframe tbody tr th:only-of-type {\n",
       "        vertical-align: middle;\n",
       "    }\n",
       "\n",
       "    .dataframe tbody tr th {\n",
       "        vertical-align: top;\n",
       "    }\n",
       "\n",
       "    .dataframe thead th {\n",
       "        text-align: right;\n",
       "    }\n",
       "</style>\n",
       "<table border=\"1\" class=\"dataframe\">\n",
       "  <thead>\n",
       "    <tr style=\"text-align: right;\">\n",
       "      <th></th>\n",
       "      <th>0</th>\n",
       "      <th>1</th>\n",
       "      <th>2</th>\n",
       "      <th>3</th>\n",
       "      <th>4</th>\n",
       "      <th>5</th>\n",
       "      <th>6</th>\n",
       "      <th>7</th>\n",
       "      <th>8</th>\n",
       "      <th>9</th>\n",
       "      <th>...</th>\n",
       "      <th>22273</th>\n",
       "      <th>22274</th>\n",
       "      <th>22275</th>\n",
       "      <th>22276</th>\n",
       "      <th>22277</th>\n",
       "      <th>22278</th>\n",
       "      <th>22279</th>\n",
       "      <th>22280</th>\n",
       "      <th>22281</th>\n",
       "      <th>22282</th>\n",
       "    </tr>\n",
       "  </thead>\n",
       "  <tbody>\n",
       "    <tr>\n",
       "      <th>2</th>\n",
       "      <td>3.01670</td>\n",
       "      <td>7.97774</td>\n",
       "      <td>4.20728</td>\n",
       "      <td>7.25609</td>\n",
       "      <td>2.20496</td>\n",
       "      <td>7.28437</td>\n",
       "      <td>4.26579</td>\n",
       "      <td>2.69435</td>\n",
       "      <td>3.64630</td>\n",
       "      <td>3.04029</td>\n",
       "      <td>...</td>\n",
       "      <td>6.28502</td>\n",
       "      <td>5.66261</td>\n",
       "      <td>14.2288</td>\n",
       "      <td>13.7137</td>\n",
       "      <td>2.30830</td>\n",
       "      <td>3.31593</td>\n",
       "      <td>2.93130</td>\n",
       "      <td>2.92133</td>\n",
       "      <td>2.31095</td>\n",
       "      <td>2.97928</td>\n",
       "    </tr>\n",
       "    <tr>\n",
       "      <th>3</th>\n",
       "      <td>3.28567</td>\n",
       "      <td>6.53251</td>\n",
       "      <td>4.99497</td>\n",
       "      <td>7.42081</td>\n",
       "      <td>2.33163</td>\n",
       "      <td>6.98359</td>\n",
       "      <td>4.97068</td>\n",
       "      <td>2.91632</td>\n",
       "      <td>8.81789</td>\n",
       "      <td>3.38487</td>\n",
       "      <td>...</td>\n",
       "      <td>6.08222</td>\n",
       "      <td>6.18648</td>\n",
       "      <td>15.0424</td>\n",
       "      <td>14.4868</td>\n",
       "      <td>2.38897</td>\n",
       "      <td>3.40424</td>\n",
       "      <td>3.05727</td>\n",
       "      <td>3.21657</td>\n",
       "      <td>2.40820</td>\n",
       "      <td>3.11119</td>\n",
       "    </tr>\n",
       "    <tr>\n",
       "      <th>4</th>\n",
       "      <td>2.92948</td>\n",
       "      <td>6.38801</td>\n",
       "      <td>4.40160</td>\n",
       "      <td>6.99934</td>\n",
       "      <td>2.13331</td>\n",
       "      <td>6.86337</td>\n",
       "      <td>4.59555</td>\n",
       "      <td>2.57813</td>\n",
       "      <td>11.42490</td>\n",
       "      <td>2.95885</td>\n",
       "      <td>...</td>\n",
       "      <td>6.12891</td>\n",
       "      <td>5.82164</td>\n",
       "      <td>13.9840</td>\n",
       "      <td>13.2874</td>\n",
       "      <td>2.27367</td>\n",
       "      <td>3.19368</td>\n",
       "      <td>2.81962</td>\n",
       "      <td>2.77051</td>\n",
       "      <td>2.26641</td>\n",
       "      <td>2.85658</td>\n",
       "    </tr>\n",
       "    <tr>\n",
       "      <th>5</th>\n",
       "      <td>2.92282</td>\n",
       "      <td>6.46668</td>\n",
       "      <td>4.74711</td>\n",
       "      <td>7.09449</td>\n",
       "      <td>2.18333</td>\n",
       "      <td>6.86597</td>\n",
       "      <td>4.57555</td>\n",
       "      <td>2.65972</td>\n",
       "      <td>10.74740</td>\n",
       "      <td>3.04788</td>\n",
       "      <td>...</td>\n",
       "      <td>6.17341</td>\n",
       "      <td>6.14553</td>\n",
       "      <td>14.1282</td>\n",
       "      <td>13.7601</td>\n",
       "      <td>2.28065</td>\n",
       "      <td>3.26930</td>\n",
       "      <td>2.86089</td>\n",
       "      <td>2.87007</td>\n",
       "      <td>2.29356</td>\n",
       "      <td>2.95689</td>\n",
       "    </tr>\n",
       "    <tr>\n",
       "      <th>6</th>\n",
       "      <td>3.15950</td>\n",
       "      <td>6.43280</td>\n",
       "      <td>4.83005</td>\n",
       "      <td>7.02433</td>\n",
       "      <td>2.12778</td>\n",
       "      <td>7.21984</td>\n",
       "      <td>4.54796</td>\n",
       "      <td>2.56744</td>\n",
       "      <td>9.29604</td>\n",
       "      <td>2.87856</td>\n",
       "      <td>...</td>\n",
       "      <td>6.84674</td>\n",
       "      <td>6.35986</td>\n",
       "      <td>14.1824</td>\n",
       "      <td>13.6000</td>\n",
       "      <td>2.23884</td>\n",
       "      <td>3.23273</td>\n",
       "      <td>2.84119</td>\n",
       "      <td>2.80179</td>\n",
       "      <td>2.25907</td>\n",
       "      <td>2.90264</td>\n",
       "    </tr>\n",
       "  </tbody>\n",
       "</table>\n",
       "<p>5 rows × 22283 columns</p>\n",
       "</div>"
      ],
      "text/plain": [
       "     0        1        2        3        4        5        6        7      \\\n",
       "2  3.01670  7.97774  4.20728  7.25609  2.20496  7.28437  4.26579  2.69435   \n",
       "3  3.28567  6.53251  4.99497  7.42081  2.33163  6.98359  4.97068  2.91632   \n",
       "4  2.92948  6.38801  4.40160  6.99934  2.13331  6.86337  4.59555  2.57813   \n",
       "5  2.92282  6.46668  4.74711  7.09449  2.18333  6.86597  4.57555  2.65972   \n",
       "6  3.15950  6.43280  4.83005  7.02433  2.12778  7.21984  4.54796  2.56744   \n",
       "\n",
       "      8        9       ...       22273    22274    22275    22276    22277  \\\n",
       "2   3.64630  3.04029   ...     6.28502  5.66261  14.2288  13.7137  2.30830   \n",
       "3   8.81789  3.38487   ...     6.08222  6.18648  15.0424  14.4868  2.38897   \n",
       "4  11.42490  2.95885   ...     6.12891  5.82164  13.9840  13.2874  2.27367   \n",
       "5  10.74740  3.04788   ...     6.17341  6.14553  14.1282  13.7601  2.28065   \n",
       "6   9.29604  2.87856   ...     6.84674  6.35986  14.1824  13.6000  2.23884   \n",
       "\n",
       "     22278    22279    22280    22281    22282  \n",
       "2  3.31593  2.93130  2.92133  2.31095  2.97928  \n",
       "3  3.40424  3.05727  3.21657  2.40820  3.11119  \n",
       "4  3.19368  2.81962  2.77051  2.26641  2.85658  \n",
       "5  3.26930  2.86089  2.87007  2.29356  2.95689  \n",
       "6  3.23273  2.84119  2.80179  2.25907  2.90264  \n",
       "\n",
       "[5 rows x 22283 columns]"
      ]
     },
     "execution_count": 61,
     "metadata": {},
     "output_type": "execute_result"
    }
   ],
   "source": [
    "# Transposing the full data\n",
    "Data = Data.T\n",
    "#Data.reset_index(drop=True)\n",
    "Data.head()"
   ]
  },
  {
   "cell_type": "code",
   "execution_count": 56,
   "metadata": {},
   "outputs": [
    {
     "data": {
      "text/plain": [
       "(64, 22283)"
      ]
     },
     "execution_count": 56,
     "metadata": {},
     "output_type": "execute_result"
    }
   ],
   "source": [
    "# checking the actual dimension of the whole data\n",
    "Data.shape"
   ]
  },
  {
   "cell_type": "code",
   "execution_count": 132,
   "metadata": {},
   "outputs": [
    {
     "data": {
      "text/html": [
       "<div>\n",
       "<style scoped>\n",
       "    .dataframe tbody tr th:only-of-type {\n",
       "        vertical-align: middle;\n",
       "    }\n",
       "\n",
       "    .dataframe tbody tr th {\n",
       "        vertical-align: top;\n",
       "    }\n",
       "\n",
       "    .dataframe thead th {\n",
       "        text-align: right;\n",
       "    }\n",
       "</style>\n",
       "<table border=\"1\" class=\"dataframe\">\n",
       "  <thead>\n",
       "    <tr style=\"text-align: right;\">\n",
       "      <th></th>\n",
       "      <th>0</th>\n",
       "      <th>1</th>\n",
       "      <th>2</th>\n",
       "      <th>3</th>\n",
       "      <th>4</th>\n",
       "      <th>5</th>\n",
       "      <th>6</th>\n",
       "      <th>7</th>\n",
       "      <th>8</th>\n",
       "      <th>9</th>\n",
       "      <th>...</th>\n",
       "      <th>22274</th>\n",
       "      <th>22275</th>\n",
       "      <th>22276</th>\n",
       "      <th>22277</th>\n",
       "      <th>22278</th>\n",
       "      <th>22279</th>\n",
       "      <th>22280</th>\n",
       "      <th>22281</th>\n",
       "      <th>22282</th>\n",
       "      <th>Samples</th>\n",
       "    </tr>\n",
       "  </thead>\n",
       "  <tbody>\n",
       "    <tr>\n",
       "      <th>2</th>\n",
       "      <td>3.01670</td>\n",
       "      <td>7.97774</td>\n",
       "      <td>4.20728</td>\n",
       "      <td>7.25609</td>\n",
       "      <td>2.20496</td>\n",
       "      <td>7.28437</td>\n",
       "      <td>4.26579</td>\n",
       "      <td>2.69435</td>\n",
       "      <td>3.64630</td>\n",
       "      <td>3.04029</td>\n",
       "      <td>...</td>\n",
       "      <td>5.66261</td>\n",
       "      <td>14.2288</td>\n",
       "      <td>13.7137</td>\n",
       "      <td>2.30830</td>\n",
       "      <td>3.31593</td>\n",
       "      <td>2.93130</td>\n",
       "      <td>2.92133</td>\n",
       "      <td>2.31095</td>\n",
       "      <td>2.97928</td>\n",
       "      <td>0</td>\n",
       "    </tr>\n",
       "    <tr>\n",
       "      <th>3</th>\n",
       "      <td>3.28567</td>\n",
       "      <td>6.53251</td>\n",
       "      <td>4.99497</td>\n",
       "      <td>7.42081</td>\n",
       "      <td>2.33163</td>\n",
       "      <td>6.98359</td>\n",
       "      <td>4.97068</td>\n",
       "      <td>2.91632</td>\n",
       "      <td>8.81789</td>\n",
       "      <td>3.38487</td>\n",
       "      <td>...</td>\n",
       "      <td>6.18648</td>\n",
       "      <td>15.0424</td>\n",
       "      <td>14.4868</td>\n",
       "      <td>2.38897</td>\n",
       "      <td>3.40424</td>\n",
       "      <td>3.05727</td>\n",
       "      <td>3.21657</td>\n",
       "      <td>2.40820</td>\n",
       "      <td>3.11119</td>\n",
       "      <td>1</td>\n",
       "    </tr>\n",
       "    <tr>\n",
       "      <th>4</th>\n",
       "      <td>2.92948</td>\n",
       "      <td>6.38801</td>\n",
       "      <td>4.40160</td>\n",
       "      <td>6.99934</td>\n",
       "      <td>2.13331</td>\n",
       "      <td>6.86337</td>\n",
       "      <td>4.59555</td>\n",
       "      <td>2.57813</td>\n",
       "      <td>11.42490</td>\n",
       "      <td>2.95885</td>\n",
       "      <td>...</td>\n",
       "      <td>5.82164</td>\n",
       "      <td>13.9840</td>\n",
       "      <td>13.2874</td>\n",
       "      <td>2.27367</td>\n",
       "      <td>3.19368</td>\n",
       "      <td>2.81962</td>\n",
       "      <td>2.77051</td>\n",
       "      <td>2.26641</td>\n",
       "      <td>2.85658</td>\n",
       "      <td>2</td>\n",
       "    </tr>\n",
       "    <tr>\n",
       "      <th>5</th>\n",
       "      <td>2.92282</td>\n",
       "      <td>6.46668</td>\n",
       "      <td>4.74711</td>\n",
       "      <td>7.09449</td>\n",
       "      <td>2.18333</td>\n",
       "      <td>6.86597</td>\n",
       "      <td>4.57555</td>\n",
       "      <td>2.65972</td>\n",
       "      <td>10.74740</td>\n",
       "      <td>3.04788</td>\n",
       "      <td>...</td>\n",
       "      <td>6.14553</td>\n",
       "      <td>14.1282</td>\n",
       "      <td>13.7601</td>\n",
       "      <td>2.28065</td>\n",
       "      <td>3.26930</td>\n",
       "      <td>2.86089</td>\n",
       "      <td>2.87007</td>\n",
       "      <td>2.29356</td>\n",
       "      <td>2.95689</td>\n",
       "      <td>3</td>\n",
       "    </tr>\n",
       "    <tr>\n",
       "      <th>6</th>\n",
       "      <td>3.15950</td>\n",
       "      <td>6.43280</td>\n",
       "      <td>4.83005</td>\n",
       "      <td>7.02433</td>\n",
       "      <td>2.12778</td>\n",
       "      <td>7.21984</td>\n",
       "      <td>4.54796</td>\n",
       "      <td>2.56744</td>\n",
       "      <td>9.29604</td>\n",
       "      <td>2.87856</td>\n",
       "      <td>...</td>\n",
       "      <td>6.35986</td>\n",
       "      <td>14.1824</td>\n",
       "      <td>13.6000</td>\n",
       "      <td>2.23884</td>\n",
       "      <td>3.23273</td>\n",
       "      <td>2.84119</td>\n",
       "      <td>2.80179</td>\n",
       "      <td>2.25907</td>\n",
       "      <td>2.90264</td>\n",
       "      <td>4</td>\n",
       "    </tr>\n",
       "  </tbody>\n",
       "</table>\n",
       "<p>5 rows × 22284 columns</p>\n",
       "</div>"
      ],
      "text/plain": [
       "         0        1        2        3        4        5        6        7  \\\n",
       "2  3.01670  7.97774  4.20728  7.25609  2.20496  7.28437  4.26579  2.69435   \n",
       "3  3.28567  6.53251  4.99497  7.42081  2.33163  6.98359  4.97068  2.91632   \n",
       "4  2.92948  6.38801  4.40160  6.99934  2.13331  6.86337  4.59555  2.57813   \n",
       "5  2.92282  6.46668  4.74711  7.09449  2.18333  6.86597  4.57555  2.65972   \n",
       "6  3.15950  6.43280  4.83005  7.02433  2.12778  7.21984  4.54796  2.56744   \n",
       "\n",
       "          8        9   ...       22274    22275    22276    22277    22278  \\\n",
       "2   3.64630  3.04029   ...     5.66261  14.2288  13.7137  2.30830  3.31593   \n",
       "3   8.81789  3.38487   ...     6.18648  15.0424  14.4868  2.38897  3.40424   \n",
       "4  11.42490  2.95885   ...     5.82164  13.9840  13.2874  2.27367  3.19368   \n",
       "5  10.74740  3.04788   ...     6.14553  14.1282  13.7601  2.28065  3.26930   \n",
       "6   9.29604  2.87856   ...     6.35986  14.1824  13.6000  2.23884  3.23273   \n",
       "\n",
       "     22279    22280    22281    22282  Samples  \n",
       "2  2.93130  2.92133  2.31095  2.97928        0  \n",
       "3  3.05727  3.21657  2.40820  3.11119        1  \n",
       "4  2.81962  2.77051  2.26641  2.85658        2  \n",
       "5  2.86089  2.87007  2.29356  2.95689        3  \n",
       "6  2.84119  2.80179  2.25907  2.90264        4  \n",
       "\n",
       "[5 rows x 22284 columns]"
      ]
     },
     "execution_count": 132,
     "metadata": {},
     "output_type": "execute_result"
    }
   ],
   "source": [
    "# Adding a separate column for patients\n",
    "# will be used during merging with label\n",
    "patients = [str(i) for i in range(0,len(Data))]\n",
    "Data[\"Samples\"] = patients\n",
    "Data.head()"
   ]
  },
  {
   "cell_type": "code",
   "execution_count": 133,
   "metadata": {},
   "outputs": [
    {
     "data": {
      "text/html": [
       "<div>\n",
       "<style scoped>\n",
       "    .dataframe tbody tr th:only-of-type {\n",
       "        vertical-align: middle;\n",
       "    }\n",
       "\n",
       "    .dataframe tbody tr th {\n",
       "        vertical-align: top;\n",
       "    }\n",
       "\n",
       "    .dataframe thead th {\n",
       "        text-align: right;\n",
       "    }\n",
       "</style>\n",
       "<table border=\"1\" class=\"dataframe\">\n",
       "  <thead>\n",
       "    <tr style=\"text-align: right;\">\n",
       "      <th></th>\n",
       "      <th>Description</th>\n",
       "      <th>Samples</th>\n",
       "    </tr>\n",
       "  </thead>\n",
       "  <tbody>\n",
       "    <tr>\n",
       "      <th>0</th>\n",
       "      <td>Bone Marrow CD34+ selected cells:  n/a. Bone M...</td>\n",
       "      <td>0</td>\n",
       "    </tr>\n",
       "    <tr>\n",
       "      <th>1</th>\n",
       "      <td>Bone Marrow:  n/a. Bone Marrow Mononuclear Cel...</td>\n",
       "      <td>1</td>\n",
       "    </tr>\n",
       "    <tr>\n",
       "      <th>2</th>\n",
       "      <td>Bone Marrow:  n/a. Bone Marrow Mononuclear Cel...</td>\n",
       "      <td>2</td>\n",
       "    </tr>\n",
       "    <tr>\n",
       "      <th>3</th>\n",
       "      <td>Bone Marrow:  n/a. Bone Marrow Mononuclear Cel...</td>\n",
       "      <td>3</td>\n",
       "    </tr>\n",
       "    <tr>\n",
       "      <th>4</th>\n",
       "      <td>Bone Marrow:  n/a. Bone Marrow Mononuclear Cel...</td>\n",
       "      <td>4</td>\n",
       "    </tr>\n",
       "  </tbody>\n",
       "</table>\n",
       "</div>"
      ],
      "text/plain": [
       "                                         Description Samples\n",
       "0  Bone Marrow CD34+ selected cells:  n/a. Bone M...       0\n",
       "1  Bone Marrow:  n/a. Bone Marrow Mononuclear Cel...       1\n",
       "2  Bone Marrow:  n/a. Bone Marrow Mononuclear Cel...       2\n",
       "3  Bone Marrow:  n/a. Bone Marrow Mononuclear Cel...       3\n",
       "4  Bone Marrow:  n/a. Bone Marrow Mononuclear Cel...       4"
      ]
     },
     "execution_count": 133,
     "metadata": {},
     "output_type": "execute_result"
    }
   ],
   "source": [
    "# Reading the labelled data\n",
    "# ONLY the description is needed\n",
    "# also the samples indecies are added\n",
    "Label = pd.read_csv(\"leukemia_label.csv\", usecols=[\"Description\"])\n",
    "Label[\"Samples\"] = patients\n",
    "Label.head()"
   ]
  },
  {
   "cell_type": "code",
   "execution_count": 134,
   "metadata": {},
   "outputs": [
    {
     "data": {
      "text/plain": [
       "(64, 2)"
      ]
     },
     "execution_count": 134,
     "metadata": {},
     "output_type": "execute_result"
    }
   ],
   "source": [
    "Label.shape"
   ]
  },
  {
   "cell_type": "code",
   "execution_count": 135,
   "metadata": {},
   "outputs": [
    {
     "name": "stdout",
     "output_type": "stream",
     "text": [
      "Control: 38 and Cancer: 26\n"
     ]
    }
   ],
   "source": [
    "# Putting in the labels checking from the descriptions\n",
    "# if leukemia, then 1, otherwise 0\n",
    "control = 0\n",
    "labels = []\n",
    "cancer_values = [\"Diagnosis: MDS/AML\",\"Diagnosis: AML\",\"Diagnosis: ET/AML\",\"Diagnosis:AML\",\"Diagnosis: Secondary AML\"]\n",
    "for i in range(0,len(Label)):\n",
    "    description = Label.iloc[i][\"Description\"]\n",
    "    #print (description)\n",
    "    if any(cancer in description for cancer in cancer_values):\n",
    "        label_value = 1\n",
    "    else:\n",
    "        label_value = 0\n",
    "        control += 1\n",
    "    labels.append(label_value)\n",
    "    #print (\"value is: {}\".format(label_value))\n",
    "        \n",
    "Label[\"Label\"] = labels\n",
    "cancer = len(Label) - control\n",
    "print (\"Control: %d and Cancer: %d\" %(control, cancer))"
   ]
  },
  {
   "cell_type": "code",
   "execution_count": 136,
   "metadata": {},
   "outputs": [
    {
     "data": {
      "text/html": [
       "<div>\n",
       "<style scoped>\n",
       "    .dataframe tbody tr th:only-of-type {\n",
       "        vertical-align: middle;\n",
       "    }\n",
       "\n",
       "    .dataframe tbody tr th {\n",
       "        vertical-align: top;\n",
       "    }\n",
       "\n",
       "    .dataframe thead th {\n",
       "        text-align: right;\n",
       "    }\n",
       "</style>\n",
       "<table border=\"1\" class=\"dataframe\">\n",
       "  <thead>\n",
       "    <tr style=\"text-align: right;\">\n",
       "      <th></th>\n",
       "      <th>Samples</th>\n",
       "      <th>Label</th>\n",
       "    </tr>\n",
       "  </thead>\n",
       "  <tbody>\n",
       "    <tr>\n",
       "      <th>13</th>\n",
       "      <td>13</td>\n",
       "      <td>0</td>\n",
       "    </tr>\n",
       "    <tr>\n",
       "      <th>14</th>\n",
       "      <td>14</td>\n",
       "      <td>0</td>\n",
       "    </tr>\n",
       "    <tr>\n",
       "      <th>15</th>\n",
       "      <td>15</td>\n",
       "      <td>0</td>\n",
       "    </tr>\n",
       "    <tr>\n",
       "      <th>16</th>\n",
       "      <td>16</td>\n",
       "      <td>0</td>\n",
       "    </tr>\n",
       "    <tr>\n",
       "      <th>17</th>\n",
       "      <td>17</td>\n",
       "      <td>0</td>\n",
       "    </tr>\n",
       "    <tr>\n",
       "      <th>18</th>\n",
       "      <td>18</td>\n",
       "      <td>1</td>\n",
       "    </tr>\n",
       "    <tr>\n",
       "      <th>19</th>\n",
       "      <td>19</td>\n",
       "      <td>1</td>\n",
       "    </tr>\n",
       "  </tbody>\n",
       "</table>\n",
       "</div>"
      ],
      "text/plain": [
       "   Samples  Label\n",
       "13      13      0\n",
       "14      14      0\n",
       "15      15      0\n",
       "16      16      0\n",
       "17      17      0\n",
       "18      18      1\n",
       "19      19      1"
      ]
     },
     "execution_count": 136,
     "metadata": {},
     "output_type": "execute_result"
    }
   ],
   "source": [
    "# Checking the new labelled data without description now\n",
    "Label = Label.drop(columns=[\"Description\"])\n",
    "Label.iloc[13:20]"
   ]
  },
  {
   "cell_type": "code",
   "execution_count": 151,
   "metadata": {},
   "outputs": [
    {
     "data": {
      "text/html": [
       "<div>\n",
       "<style scoped>\n",
       "    .dataframe tbody tr th:only-of-type {\n",
       "        vertical-align: middle;\n",
       "    }\n",
       "\n",
       "    .dataframe tbody tr th {\n",
       "        vertical-align: top;\n",
       "    }\n",
       "\n",
       "    .dataframe thead th {\n",
       "        text-align: right;\n",
       "    }\n",
       "</style>\n",
       "<table border=\"1\" class=\"dataframe\">\n",
       "  <thead>\n",
       "    <tr style=\"text-align: right;\">\n",
       "      <th></th>\n",
       "      <th>0</th>\n",
       "      <th>1</th>\n",
       "      <th>2</th>\n",
       "      <th>3</th>\n",
       "      <th>4</th>\n",
       "      <th>5</th>\n",
       "      <th>6</th>\n",
       "      <th>7</th>\n",
       "      <th>8</th>\n",
       "      <th>9</th>\n",
       "      <th>...</th>\n",
       "      <th>22275</th>\n",
       "      <th>22276</th>\n",
       "      <th>22277</th>\n",
       "      <th>22278</th>\n",
       "      <th>22279</th>\n",
       "      <th>22280</th>\n",
       "      <th>22281</th>\n",
       "      <th>22282</th>\n",
       "      <th>Samples</th>\n",
       "      <th>Label</th>\n",
       "    </tr>\n",
       "  </thead>\n",
       "  <tbody>\n",
       "    <tr>\n",
       "      <th>0</th>\n",
       "      <td>3.01670</td>\n",
       "      <td>7.97774</td>\n",
       "      <td>4.20728</td>\n",
       "      <td>7.25609</td>\n",
       "      <td>2.20496</td>\n",
       "      <td>7.28437</td>\n",
       "      <td>4.26579</td>\n",
       "      <td>2.69435</td>\n",
       "      <td>3.64630</td>\n",
       "      <td>3.04029</td>\n",
       "      <td>...</td>\n",
       "      <td>14.2288</td>\n",
       "      <td>13.7137</td>\n",
       "      <td>2.30830</td>\n",
       "      <td>3.31593</td>\n",
       "      <td>2.93130</td>\n",
       "      <td>2.92133</td>\n",
       "      <td>2.31095</td>\n",
       "      <td>2.97928</td>\n",
       "      <td>0</td>\n",
       "      <td>0</td>\n",
       "    </tr>\n",
       "    <tr>\n",
       "      <th>1</th>\n",
       "      <td>3.28567</td>\n",
       "      <td>6.53251</td>\n",
       "      <td>4.99497</td>\n",
       "      <td>7.42081</td>\n",
       "      <td>2.33163</td>\n",
       "      <td>6.98359</td>\n",
       "      <td>4.97068</td>\n",
       "      <td>2.91632</td>\n",
       "      <td>8.81789</td>\n",
       "      <td>3.38487</td>\n",
       "      <td>...</td>\n",
       "      <td>15.0424</td>\n",
       "      <td>14.4868</td>\n",
       "      <td>2.38897</td>\n",
       "      <td>3.40424</td>\n",
       "      <td>3.05727</td>\n",
       "      <td>3.21657</td>\n",
       "      <td>2.40820</td>\n",
       "      <td>3.11119</td>\n",
       "      <td>1</td>\n",
       "      <td>0</td>\n",
       "    </tr>\n",
       "    <tr>\n",
       "      <th>2</th>\n",
       "      <td>2.92948</td>\n",
       "      <td>6.38801</td>\n",
       "      <td>4.40160</td>\n",
       "      <td>6.99934</td>\n",
       "      <td>2.13331</td>\n",
       "      <td>6.86337</td>\n",
       "      <td>4.59555</td>\n",
       "      <td>2.57813</td>\n",
       "      <td>11.42490</td>\n",
       "      <td>2.95885</td>\n",
       "      <td>...</td>\n",
       "      <td>13.9840</td>\n",
       "      <td>13.2874</td>\n",
       "      <td>2.27367</td>\n",
       "      <td>3.19368</td>\n",
       "      <td>2.81962</td>\n",
       "      <td>2.77051</td>\n",
       "      <td>2.26641</td>\n",
       "      <td>2.85658</td>\n",
       "      <td>2</td>\n",
       "      <td>0</td>\n",
       "    </tr>\n",
       "    <tr>\n",
       "      <th>3</th>\n",
       "      <td>2.92282</td>\n",
       "      <td>6.46668</td>\n",
       "      <td>4.74711</td>\n",
       "      <td>7.09449</td>\n",
       "      <td>2.18333</td>\n",
       "      <td>6.86597</td>\n",
       "      <td>4.57555</td>\n",
       "      <td>2.65972</td>\n",
       "      <td>10.74740</td>\n",
       "      <td>3.04788</td>\n",
       "      <td>...</td>\n",
       "      <td>14.1282</td>\n",
       "      <td>13.7601</td>\n",
       "      <td>2.28065</td>\n",
       "      <td>3.26930</td>\n",
       "      <td>2.86089</td>\n",
       "      <td>2.87007</td>\n",
       "      <td>2.29356</td>\n",
       "      <td>2.95689</td>\n",
       "      <td>3</td>\n",
       "      <td>0</td>\n",
       "    </tr>\n",
       "    <tr>\n",
       "      <th>4</th>\n",
       "      <td>3.15950</td>\n",
       "      <td>6.43280</td>\n",
       "      <td>4.83005</td>\n",
       "      <td>7.02433</td>\n",
       "      <td>2.12778</td>\n",
       "      <td>7.21984</td>\n",
       "      <td>4.54796</td>\n",
       "      <td>2.56744</td>\n",
       "      <td>9.29604</td>\n",
       "      <td>2.87856</td>\n",
       "      <td>...</td>\n",
       "      <td>14.1824</td>\n",
       "      <td>13.6000</td>\n",
       "      <td>2.23884</td>\n",
       "      <td>3.23273</td>\n",
       "      <td>2.84119</td>\n",
       "      <td>2.80179</td>\n",
       "      <td>2.25907</td>\n",
       "      <td>2.90264</td>\n",
       "      <td>4</td>\n",
       "      <td>0</td>\n",
       "    </tr>\n",
       "  </tbody>\n",
       "</table>\n",
       "<p>5 rows × 22285 columns</p>\n",
       "</div>"
      ],
      "text/plain": [
       "         0        1        2        3        4        5        6        7  \\\n",
       "0  3.01670  7.97774  4.20728  7.25609  2.20496  7.28437  4.26579  2.69435   \n",
       "1  3.28567  6.53251  4.99497  7.42081  2.33163  6.98359  4.97068  2.91632   \n",
       "2  2.92948  6.38801  4.40160  6.99934  2.13331  6.86337  4.59555  2.57813   \n",
       "3  2.92282  6.46668  4.74711  7.09449  2.18333  6.86597  4.57555  2.65972   \n",
       "4  3.15950  6.43280  4.83005  7.02433  2.12778  7.21984  4.54796  2.56744   \n",
       "\n",
       "          8        9  ...      22275    22276    22277    22278    22279  \\\n",
       "0   3.64630  3.04029  ...    14.2288  13.7137  2.30830  3.31593  2.93130   \n",
       "1   8.81789  3.38487  ...    15.0424  14.4868  2.38897  3.40424  3.05727   \n",
       "2  11.42490  2.95885  ...    13.9840  13.2874  2.27367  3.19368  2.81962   \n",
       "3  10.74740  3.04788  ...    14.1282  13.7601  2.28065  3.26930  2.86089   \n",
       "4   9.29604  2.87856  ...    14.1824  13.6000  2.23884  3.23273  2.84119   \n",
       "\n",
       "     22280    22281    22282  Samples  Label  \n",
       "0  2.92133  2.31095  2.97928        0      0  \n",
       "1  3.21657  2.40820  3.11119        1      0  \n",
       "2  2.77051  2.26641  2.85658        2      0  \n",
       "3  2.87007  2.29356  2.95689        3      0  \n",
       "4  2.80179  2.25907  2.90264        4      0  \n",
       "\n",
       "[5 rows x 22285 columns]"
      ]
     },
     "execution_count": 151,
     "metadata": {},
     "output_type": "execute_result"
    }
   ],
   "source": [
    "# Merging the dataframes to get the labeled data together\n",
    "Merged_Data = pd.merge(Data, Label, on=\"Samples\")\n",
    "Merged_Data.head()"
   ]
  },
  {
   "cell_type": "code",
   "execution_count": 153,
   "metadata": {},
   "outputs": [
    {
     "data": {
      "text/plain": [
       "(64, 22284)"
      ]
     },
     "execution_count": 153,
     "metadata": {},
     "output_type": "execute_result"
    }
   ],
   "source": [
    "# NOW the samples column aren't needed since already merged\n",
    "Merged_Data = Merged_Data.drop(columns=[\"Samples\"])\n",
    "Merged_Data.shape"
   ]
  },
  {
   "cell_type": "code",
   "execution_count": 190,
   "metadata": {
    "scrolled": true
   },
   "outputs": [
    {
     "name": "stdout",
     "output_type": "stream",
     "text": [
      "27 16\n"
     ]
    },
    {
     "data": {
      "text/plain": [
       "(22279    3.12408\n",
       " 22280    3.19890\n",
       " 22281    2.46864\n",
       " 22282    3.11268\n",
       " Label    1.00000\n",
       " Name: 27, dtype: float64, 22279    3.28872\n",
       " 22280    3.33805\n",
       " 22281    2.56120\n",
       " 22282    3.22936\n",
       " Label    0.00000\n",
       " Name: 16, dtype: float64)"
      ]
     },
     "execution_count": 190,
     "metadata": {},
     "output_type": "execute_result"
    }
   ],
   "source": [
    "# HERE, we take out 2 samples for prediction purpose of our model later on.\n",
    "# we will train and test our model on 62 samples instead of 64 for this reason.\n",
    "rand_idx1 = random.randint(0, len(Merged_Data))\n",
    "random_sample1 = Merged_Data.iloc[rand_idx1]\n",
    "\n",
    "rand_idx2 = random.randint(0, len(Merged_Data))\n",
    "random_sample2 = Merged_Data.iloc[rand_idx2]\n",
    "\n",
    "# Here we are just printing out their indices and their last 4 gene-values and their labels\n",
    "# so that we can remeber their labels\n",
    "print (rand_idx1, rand_idx2) \n",
    "random_sample1[-5:len(Merged_Data.columns)], random_sample2[-5:len(Merged_Data.columns)]"
   ]
  },
  {
   "cell_type": "code",
   "execution_count": 196,
   "metadata": {},
   "outputs": [
    {
     "data": {
      "text/plain": [
       "(         0        1        2        3        4        5        6        7  \\\n",
       " 0  3.01670  7.97774  4.20728  7.25609  2.20496  7.28437  4.26579  2.69435   \n",
       " 1  3.28567  6.53251  4.99497  7.42081  2.33163  6.98359  4.97068  2.91632   \n",
       " 2  2.92948  6.38801  4.40160  6.99934  2.13331  6.86337  4.59555  2.57813   \n",
       " 3  2.92282  6.46668  4.74711  7.09449  2.18333  6.86597  4.57555  2.65972   \n",
       " 4  3.15950  6.43280  4.83005  7.02433  2.12778  7.21984  4.54796  2.56744   \n",
       " \n",
       "           8        9  ...      22274    22275    22276    22277    22278  \\\n",
       " 0   3.64630  3.04029  ...    5.66261  14.2288  13.7137  2.30830  3.31593   \n",
       " 1   8.81789  3.38487  ...    6.18648  15.0424  14.4868  2.38897  3.40424   \n",
       " 2  11.42490  2.95885  ...    5.82164  13.9840  13.2874  2.27367  3.19368   \n",
       " 3  10.74740  3.04788  ...    6.14553  14.1282  13.7601  2.28065  3.26930   \n",
       " 4   9.29604  2.87856  ...    6.35986  14.1824  13.6000  2.23884  3.23273   \n",
       " \n",
       "      22279    22280    22281    22282  Label  \n",
       " 0  2.93130  2.92133  2.31095  2.97928      0  \n",
       " 1  3.05727  3.21657  2.40820  3.11119      0  \n",
       " 2  2.81962  2.77051  2.26641  2.85658      0  \n",
       " 3  2.86089  2.87007  2.29356  2.95689      0  \n",
       " 4  2.84119  2.80179  2.25907  2.90264      0  \n",
       " \n",
       " [5 rows x 22284 columns], (62, 22284))"
      ]
     },
     "execution_count": 196,
     "metadata": {},
     "output_type": "execute_result"
    }
   ],
   "source": [
    "# We remove these 2 samples from our dataset, creating the final data\n",
    "Full_Data = Merged_Data.drop(Merged_Data.index[[rand_idx1,rand_idx2]])\n",
    "Full_Data.head(), Full_Data.shape"
   ]
  },
  {
   "cell_type": "code",
   "execution_count": 199,
   "metadata": {},
   "outputs": [
    {
     "data": {
      "text/html": [
       "<div>\n",
       "<style scoped>\n",
       "    .dataframe tbody tr th:only-of-type {\n",
       "        vertical-align: middle;\n",
       "    }\n",
       "\n",
       "    .dataframe tbody tr th {\n",
       "        vertical-align: top;\n",
       "    }\n",
       "\n",
       "    .dataframe thead th {\n",
       "        text-align: right;\n",
       "    }\n",
       "</style>\n",
       "<table border=\"1\" class=\"dataframe\">\n",
       "  <thead>\n",
       "    <tr style=\"text-align: right;\">\n",
       "      <th></th>\n",
       "      <th>0</th>\n",
       "      <th>1</th>\n",
       "      <th>2</th>\n",
       "      <th>3</th>\n",
       "      <th>4</th>\n",
       "      <th>5</th>\n",
       "      <th>6</th>\n",
       "      <th>7</th>\n",
       "      <th>8</th>\n",
       "      <th>9</th>\n",
       "      <th>...</th>\n",
       "      <th>22274</th>\n",
       "      <th>22275</th>\n",
       "      <th>22276</th>\n",
       "      <th>22277</th>\n",
       "      <th>22278</th>\n",
       "      <th>22279</th>\n",
       "      <th>22280</th>\n",
       "      <th>22281</th>\n",
       "      <th>22282</th>\n",
       "      <th>Label</th>\n",
       "    </tr>\n",
       "  </thead>\n",
       "  <tbody>\n",
       "    <tr>\n",
       "      <th>0</th>\n",
       "      <td>3.47609</td>\n",
       "      <td>5.91968</td>\n",
       "      <td>5.54136</td>\n",
       "      <td>8.22107</td>\n",
       "      <td>2.33680</td>\n",
       "      <td>7.86227</td>\n",
       "      <td>5.47912</td>\n",
       "      <td>3.17400</td>\n",
       "      <td>7.83701</td>\n",
       "      <td>3.55182</td>\n",
       "      <td>...</td>\n",
       "      <td>5.80145</td>\n",
       "      <td>15.6170</td>\n",
       "      <td>14.8813</td>\n",
       "      <td>2.48950</td>\n",
       "      <td>3.50102</td>\n",
       "      <td>3.30687</td>\n",
       "      <td>3.40412</td>\n",
       "      <td>2.52080</td>\n",
       "      <td>3.19298</td>\n",
       "      <td>1</td>\n",
       "    </tr>\n",
       "    <tr>\n",
       "      <th>1</th>\n",
       "      <td>3.09590</td>\n",
       "      <td>7.32565</td>\n",
       "      <td>5.91496</td>\n",
       "      <td>7.61540</td>\n",
       "      <td>2.24462</td>\n",
       "      <td>7.72538</td>\n",
       "      <td>4.65784</td>\n",
       "      <td>2.76505</td>\n",
       "      <td>3.65097</td>\n",
       "      <td>3.15339</td>\n",
       "      <td>...</td>\n",
       "      <td>4.59146</td>\n",
       "      <td>14.7611</td>\n",
       "      <td>14.2333</td>\n",
       "      <td>2.33941</td>\n",
       "      <td>3.33858</td>\n",
       "      <td>2.97780</td>\n",
       "      <td>3.02034</td>\n",
       "      <td>2.34577</td>\n",
       "      <td>3.03758</td>\n",
       "      <td>0</td>\n",
       "    </tr>\n",
       "    <tr>\n",
       "      <th>2</th>\n",
       "      <td>2.92282</td>\n",
       "      <td>6.46668</td>\n",
       "      <td>4.74711</td>\n",
       "      <td>7.09449</td>\n",
       "      <td>2.18333</td>\n",
       "      <td>6.86597</td>\n",
       "      <td>4.57555</td>\n",
       "      <td>2.65972</td>\n",
       "      <td>10.74740</td>\n",
       "      <td>3.04788</td>\n",
       "      <td>...</td>\n",
       "      <td>6.14553</td>\n",
       "      <td>14.1282</td>\n",
       "      <td>13.7601</td>\n",
       "      <td>2.28065</td>\n",
       "      <td>3.26930</td>\n",
       "      <td>2.86089</td>\n",
       "      <td>2.87007</td>\n",
       "      <td>2.29356</td>\n",
       "      <td>2.95689</td>\n",
       "      <td>0</td>\n",
       "    </tr>\n",
       "    <tr>\n",
       "      <th>3</th>\n",
       "      <td>3.27542</td>\n",
       "      <td>6.69586</td>\n",
       "      <td>4.41097</td>\n",
       "      <td>7.62111</td>\n",
       "      <td>2.27194</td>\n",
       "      <td>7.90378</td>\n",
       "      <td>5.21323</td>\n",
       "      <td>2.80147</td>\n",
       "      <td>6.09898</td>\n",
       "      <td>3.21223</td>\n",
       "      <td>...</td>\n",
       "      <td>5.82044</td>\n",
       "      <td>14.3947</td>\n",
       "      <td>13.9343</td>\n",
       "      <td>2.35704</td>\n",
       "      <td>3.35880</td>\n",
       "      <td>3.03720</td>\n",
       "      <td>3.06965</td>\n",
       "      <td>2.35608</td>\n",
       "      <td>3.08049</td>\n",
       "      <td>1</td>\n",
       "    </tr>\n",
       "    <tr>\n",
       "      <th>4</th>\n",
       "      <td>3.16032</td>\n",
       "      <td>7.66925</td>\n",
       "      <td>4.35115</td>\n",
       "      <td>7.63463</td>\n",
       "      <td>2.22386</td>\n",
       "      <td>7.99853</td>\n",
       "      <td>4.61847</td>\n",
       "      <td>2.92646</td>\n",
       "      <td>4.66255</td>\n",
       "      <td>3.08533</td>\n",
       "      <td>...</td>\n",
       "      <td>5.66891</td>\n",
       "      <td>14.4279</td>\n",
       "      <td>13.7535</td>\n",
       "      <td>2.32361</td>\n",
       "      <td>3.31665</td>\n",
       "      <td>2.92055</td>\n",
       "      <td>2.97599</td>\n",
       "      <td>2.31806</td>\n",
       "      <td>3.01314</td>\n",
       "      <td>0</td>\n",
       "    </tr>\n",
       "  </tbody>\n",
       "</table>\n",
       "<p>5 rows × 22284 columns</p>\n",
       "</div>"
      ],
      "text/plain": [
       "         0        1        2        3        4        5        6        7  \\\n",
       "0  3.47609  5.91968  5.54136  8.22107  2.33680  7.86227  5.47912  3.17400   \n",
       "1  3.09590  7.32565  5.91496  7.61540  2.24462  7.72538  4.65784  2.76505   \n",
       "2  2.92282  6.46668  4.74711  7.09449  2.18333  6.86597  4.57555  2.65972   \n",
       "3  3.27542  6.69586  4.41097  7.62111  2.27194  7.90378  5.21323  2.80147   \n",
       "4  3.16032  7.66925  4.35115  7.63463  2.22386  7.99853  4.61847  2.92646   \n",
       "\n",
       "          8        9  ...      22274    22275    22276    22277    22278  \\\n",
       "0   7.83701  3.55182  ...    5.80145  15.6170  14.8813  2.48950  3.50102   \n",
       "1   3.65097  3.15339  ...    4.59146  14.7611  14.2333  2.33941  3.33858   \n",
       "2  10.74740  3.04788  ...    6.14553  14.1282  13.7601  2.28065  3.26930   \n",
       "3   6.09898  3.21223  ...    5.82044  14.3947  13.9343  2.35704  3.35880   \n",
       "4   4.66255  3.08533  ...    5.66891  14.4279  13.7535  2.32361  3.31665   \n",
       "\n",
       "     22279    22280    22281    22282  Label  \n",
       "0  3.30687  3.40412  2.52080  3.19298      1  \n",
       "1  2.97780  3.02034  2.34577  3.03758      0  \n",
       "2  2.86089  2.87007  2.29356  2.95689      0  \n",
       "3  3.03720  3.06965  2.35608  3.08049      1  \n",
       "4  2.92055  2.97599  2.31806  3.01314      0  \n",
       "\n",
       "[5 rows x 22284 columns]"
      ]
     },
     "execution_count": 199,
     "metadata": {},
     "output_type": "execute_result"
    }
   ],
   "source": [
    "# Now we just shuffle the samples so that cancer_samples does not stay together. same with the other class\n",
    "# then resetting the indices after shuffling\n",
    "Full_Data = sklearn.utils.shuffle(Full_Data)\n",
    "# Full_Data.head()\n",
    "Full_Data = Full_Data.reset_index(drop=True)\n",
    "Full_Data.head()"
   ]
  },
  {
   "cell_type": "code",
   "execution_count": 200,
   "metadata": {},
   "outputs": [
    {
     "data": {
      "text/plain": [
       "((31, 22284), (31, 22284))"
      ]
     },
     "execution_count": 200,
     "metadata": {},
     "output_type": "execute_result"
    }
   ],
   "source": [
    "# Separating the train and test data\n",
    "Train_Data, Test_Data = Full_Data.iloc[:31,:], Full_Data.iloc[31:,:]\n",
    "Train_Data.shape, Test_Data.shape"
   ]
  },
  {
   "cell_type": "markdown",
   "metadata": {},
   "source": [
    "### Now we apply PCA first. \"features\" are X and \"label\" are y as we did in the Kaggle example:\n",
    "### Remeber, this is not needed. This is just a taste of PCA."
   ]
  },
  {
   "cell_type": "code",
   "execution_count": 212,
   "metadata": {},
   "outputs": [
    {
     "data": {
      "text/plain": [
       "(31, 31)"
      ]
     },
     "execution_count": 212,
     "metadata": {},
     "output_type": "execute_result"
    }
   ],
   "source": [
    "Features, label = Train_Data.drop(columns=[\"Label\"]), Train_Data[\"Label\"]\n",
    "\n",
    "test_pca = PCA()\n",
    "Smaller_test_Features = test_pca.fit_transform(Features)\n",
    "Smaller_test_Features.shape"
   ]
  },
  {
   "cell_type": "markdown",
   "metadata": {},
   "source": [
    "### Now the plotting, though optional:"
   ]
  },
  {
   "cell_type": "code",
   "execution_count": 213,
   "metadata": {},
   "outputs": [
    {
     "data": {
      "image/png": "[encoded data removed]",
      "text/plain": [
       "<matplotlib.figure.Figure at 0x24283f40748>"
      ]
     },
     "metadata": {},
     "output_type": "display_data"
    }
   ],
   "source": [
    "fig, axes = plt.subplots(1,2, figsize=(10,5))\n",
    "\n",
    "f = np.vectorize(lambda x: 1 - x)\n",
    "axes[0].plot(f(test_pca.explained_variance_ratio_))\n",
    "axes[0].set_ylim(0,1)\n",
    "axes[0].set_ylabel(\"Explained variance\")\n",
    "axes[0].set_xlabel(\"Component\")\n",
    "\n",
    "colors = lambda x: \"Yellow\" if x==1 else \"Blue\"\n",
    "f = np.vectorize(colors)\n",
    "axes[1].scatter(Smaller_test_Features[:,0], Smaller_test_Features[:,1], c=f(label))\n",
    "\n",
    "plt.show()"
   ]
  },
  {
   "cell_type": "markdown",
   "metadata": {},
   "source": [
    "### NOW, we actually go on to do PCA for our model, as below:"
   ]
  },
  {
   "cell_type": "code",
   "execution_count": 258,
   "metadata": {},
   "outputs": [
    {
     "data": {
      "text/plain": [
       "(31, 20)"
      ]
     },
     "execution_count": 258,
     "metadata": {},
     "output_type": "execute_result"
    }
   ],
   "source": [
    "genes_needed = 20\n",
    "my_pca = PCA(n_components = genes_needed)\n",
    "\n",
    "smaller_Features = my_pca.fit_transform(Features)\n",
    "smaller_Features.shape"
   ]
  },
  {
   "cell_type": "markdown",
   "metadata": {},
   "source": [
    "### NOW we carry on to make our model, with the reduced feature"
   ]
  },
  {
   "cell_type": "code",
   "execution_count": 265,
   "metadata": {},
   "outputs": [
    {
     "data": {
      "text/plain": [
       "GridSearchCV(cv=3, error_score='raise',\n",
       "       estimator=SVC(C=1.0, cache_size=200, class_weight=None, coef0=0.0,\n",
       "  decision_function_shape=None, degree=3, gamma='auto', kernel='rbf',\n",
       "  max_iter=-1, probability=False, random_state=None, shrinking=True,\n",
       "  tol=0.001, verbose=False),\n",
       "       fit_params={}, iid=True, n_jobs=1,\n",
       "       param_grid={'C': [0.2, 0.7, 1.2, 1.7, 2.2, 2.7, 3.2, 3.7, 4.2, 4.7], 'kernel': ['linear', 'rbf', 'poly'], 'gamma': ['auto'], 'decision_function_shape': ['ovo', 'ovr']},\n",
       "       pre_dispatch='2*n_jobs', refit=True, return_train_score=True,\n",
       "       scoring=None, verbose=0)"
      ]
     },
     "execution_count": 265,
     "metadata": {},
     "output_type": "execute_result"
    }
   ],
   "source": [
    "grid = { \"C\": [i/10 for i in range(2, 50, 5)],\n",
    "               \"kernel\": [\"linear\", \"rbf\", \"poly\"],\n",
    "                \"gamma\":[\"auto\"],\n",
    "               \"decision_function_shape\" : [\"ovo\", \"ovr\"],\n",
    "              }\n",
    "\n",
    "# we create the skeleton of our model\n",
    "our_svm_model = GridSearchCV(SVC(), param_grid=grid, cv=3)\n",
    "\n",
    "# Now we put into our reduced featured data\n",
    "our_svm_model.fit(smaller_Features, label)"
   ]
  },
  {
   "cell_type": "code",
   "execution_count": 266,
   "metadata": {},
   "outputs": [
    {
     "name": "stdout",
     "output_type": "stream",
     "text": [
      "C\t0.2\n",
      "cache_size\t200\n",
      "class_weight\tNone\n",
      "coef0\t0.0\n",
      "decision_function_shape\tovo\n",
      "degree\t3\n",
      "gamma\tauto\n",
      "kernel\tlinear\n",
      "max_iter\t-1\n",
      "probability\tFalse\n",
      "random_state\tNone\n",
      "shrinking\tTrue\n",
      "tol\t0.001\n",
      "verbose\tFalse\n"
     ]
    }
   ],
   "source": [
    "# NOW we find our best svm from the range of models just created\n",
    "our_BEST_svm_model = our_svm_model.best_estimator_\n",
    "\n",
    "# we now just print out the actual parameters of this best svm\n",
    "for parameter, value in our_BEST_svm_model.get_params().items():\n",
    "    print(parameter, value, sep='\\t')"
   ]
  },
  {
   "cell_type": "code",
   "execution_count": 268,
   "metadata": {},
   "outputs": [
    {
     "data": {
      "text/plain": [
       "1.0"
      ]
     },
     "execution_count": 268,
     "metadata": {},
     "output_type": "execute_result"
    }
   ],
   "source": [
    "# NOW we find accuracy on the trainng data\n",
    "# THIS WILL BE 100% BCOZ, WE HAVE CONSTRUCTED THE MODEL FROM THIS DATA ITSELF, SO MODEL WILL BE TOO GOOD :D :D :D\n",
    "our_BEST_svm_model.score(X=smaller_Features, y=label)"
   ]
  },
  {
   "cell_type": "code",
   "execution_count": 269,
   "metadata": {},
   "outputs": [
    {
     "data": {
      "text/plain": [
       "0.61290322580645162"
      ]
     },
     "execution_count": 269,
     "metadata": {},
     "output_type": "execute_result"
    }
   ],
   "source": [
    "# FINALLY we test our model using the test_data. \n",
    "# but before we need to use PCA to apply on the model, as we have done exactly with the train_data\n",
    "\n",
    "test_Features, test_label = Test_Data.drop(columns=[\"Label\"]), Test_Data[\"Label\"]\n",
    "\n",
    "smaller_test_Features = my_pca.fit_transform(test_Features)\n",
    "\n",
    "our_BEST_svm_model.score(X = smaller_test_Features, y = test_label)"
   ]
  },
  {
   "cell_type": "markdown",
   "metadata": {},
   "source": [
    "### NOW, we use our 2 random samples in hand to predict their labels using our model\n",
    "### we first pre-process them into a dataframe to work together\n",
    "#### REMEMBER: we can't use PCA in this case, as the n_samples is just 2 for which PCA will result in just 2 prin_components\n",
    "#### So, wew randomly took 20 features from 22283"
   ]
  },
  {
   "cell_type": "code",
   "execution_count": 278,
   "metadata": {},
   "outputs": [
    {
     "data": {
      "text/plain": [
       "(2, 22284)"
      ]
     },
     "execution_count": 278,
     "metadata": {},
     "output_type": "execute_result"
    }
   ],
   "source": [
    "random_sample1 = pd.DataFrame(random_sample1).T\n",
    "random_sample2 = pd.DataFrame(random_sample2).T\n",
    "random_sample = pd.concat([random_sample1,random_sample2], axis=0)\n",
    "random_sample.shape"
   ]
  },
  {
   "cell_type": "code",
   "execution_count": 295,
   "metadata": {},
   "outputs": [
    {
     "data": {
      "text/plain": [
       "(array([1, 1], dtype=int64), 0.5)"
      ]
     },
     "execution_count": 295,
     "metadata": {},
     "output_type": "execute_result"
    }
   ],
   "source": [
    "pred_Features, pred_label = random_sample.drop(columns=[\"Label\"]), random_sample[\"Label\"]\n",
    "\n",
    "rand_idx = random.sample(range(22283), 20)\n",
    "smaller_pred_Features = pred_Features[rand_idx]\n",
    "#smaller_pred_Features.shape\n",
    "our_BEST_svm_model.predict(smaller_pred_Features), our_BEST_svm_model.score(smaller_pred_Features, pred_label)"
   ]
  },
  {
   "cell_type": "markdown",
   "metadata": {},
   "source": [
    "#### So we get one of them right, the other wrong.. so 50% accuracy from these samples.\n",
    "## FALTU MODEL >:O"
   ]
  },
  {
   "cell_type": "code",
   "execution_count": 373,
   "metadata": {},
   "outputs": [
    {
     "name": "stdout",
     "output_type": "stream",
     "text": [
      "C\t0.1\n",
      "cache_size\t200\n",
      "class_weight\tNone\n",
      "coef0\t0.0\n",
      "decision_function_shape\tovo\n",
      "degree\t3\n",
      "gamma\tauto\n",
      "kernel\tlinear\n",
      "max_iter\t-1\n",
      "probability\tFalse\n",
      "random_state\tNone\n",
      "shrinking\tTrue\n",
      "tol\t0.001\n",
      "verbose\tFalse\n"
     ]
    },
    {
     "data": {
      "text/plain": [
       "0.84375"
      ]
     },
     "execution_count": 373,
     "metadata": {},
     "output_type": "execute_result"
    }
   ],
   "source": [
    "### This cell is for working the model WITHOUT the prediction two samples\n",
    "\n",
    "Merged_Data = sklearn.utils.shuffle(Merged_Data).reset_index(drop=True)\n",
    "#Merged_Data.shape\n",
    "\n",
    "#Train_Data, Test_Data = Merged_Data.iloc[:32,:], Merged_Data.iloc[32:,:]\n",
    "#Train_Data.shape, Test_Data.shape\n",
    "Train_Data, Test_Data = sklearn.model_selection.train_test_split(Merged_Data,test_size=32, train_size=32)\n",
    "Features, label = Train_Data.drop(columns=[\"Label\"]), Train_Data[\"Label\"]\n",
    "\n",
    "genes_needed = 20\n",
    "my_pca = PCA(n_components = genes_needed)\n",
    "smaller_Features = my_pca.fit_transform(Features)\n",
    "#smaller_Features.shape\n",
    "\n",
    "grid = { \"C\": [i/10 for i in range(1, 50)],\n",
    "               \"kernel\": [\"linear\", \"rbf\", \"poly\"],\n",
    "                \"gamma\":[\"auto\"],\n",
    "               \"decision_function_shape\" : [\"ovo\", \"ovr\"],\n",
    "              }\n",
    "\n",
    "# we create the skeleton of our model\n",
    "our_svm_model = GridSearchCV(SVC(gamma='scale'), param_grid=grid, cv=3)\n",
    "\n",
    "# Now we put into our reduced featured data\n",
    "our_svm_model.fit(smaller_Features, label)\n",
    "our_BEST_svm_model = our_svm_model.best_estimator_\n",
    "for parameter, value in our_BEST_svm_model.get_params().items():\n",
    "    print(parameter, value, sep='\\t')\n",
    "#our_BEST_svm_model.score(X=smaller_Features, y=label)\n",
    "test_Features, test_label = Test_Data.drop(columns=[\"Label\"]), Test_Data[\"Label\"]\n",
    "smaller_test_Features = my_pca.fit_transform(test_Features)\n",
    "our_BEST_svm_model.score(X = smaller_test_Features, y = test_label)"
   ]
  },
  {
   "cell_type": "markdown",
   "metadata": {},
   "source": [
    "### Far better accuracy is achieved just for the addition of 2 more samples :/\n",
    "\n",
    "### Now, we test using KNearest Neighbors classifiers"
   ]
  },
  {
   "cell_type": "code",
   "execution_count": 401,
   "metadata": {},
   "outputs": [
    {
     "data": {
      "text/plain": [
       "(0.90625, 0.78125)"
      ]
     },
     "execution_count": 401,
     "metadata": {},
     "output_type": "execute_result"
    }
   ],
   "source": [
    "from sklearn.neighbors import KNeighborsClassifier\n",
    "\n",
    "knn = KNeighborsClassifier(n_neighbors=5)\n",
    "\n",
    "knn.fit(smaller_Features, label)\n",
    "\n",
    "knn.score(smaller_Features, label), knn.score(smaller_test_Features, test_label)"
   ]
  },
  {
   "cell_type": "code",
   "execution_count": 403,
   "metadata": {},
   "outputs": [
    {
     "data": {
      "text/plain": [
       "(0.90625, 0.96875)"
      ]
     },
     "execution_count": 403,
     "metadata": {},
     "output_type": "execute_result"
    }
   ],
   "source": [
    "knn.fit(Features, label)\n",
    "\n",
    "knn.score(Features, label), knn.score(test_Features, test_label)"
   ]
  },
  {
   "cell_type": "markdown",
   "metadata": {},
   "source": [
    "### Here, we see not 100% accuracy even for the train data, with which we have built the model\n",
    "### But, we see that if we put all the features instead of jst the reduced ones, accuracy increases\n",
    "\n",
    "### Now, we plot a graph with different number of neighbors, and see their accuracies...in each case we used all features"
   ]
  },
  {
   "cell_type": "code",
   "execution_count": 399,
   "metadata": {},
   "outputs": [
    {
     "name": "stdout",
     "output_type": "stream",
     "text": [
      "[2, 3, 4, 5, 6, 7, 8, 9, 10, 11, 12, 13, 14, 15, 16, 17, 18, 19, 20]\n",
      "for neighbors = 2, accuracy is 0.937500 \n",
      "for neighbors = 3, accuracy is 0.968750 \n",
      "for neighbors = 4, accuracy is 0.937500 \n",
      "for neighbors = 5, accuracy is 0.968750 \n",
      "for neighbors = 6, accuracy is 0.781250 \n",
      "for neighbors = 7, accuracy is 0.843750 \n",
      "for neighbors = 8, accuracy is 0.812500 \n",
      "for neighbors = 9, accuracy is 0.875000 \n",
      "for neighbors = 10, accuracy is 0.843750 \n",
      "for neighbors = 11, accuracy is 0.843750 \n",
      "for neighbors = 12, accuracy is 0.781250 \n",
      "for neighbors = 13, accuracy is 0.750000 \n",
      "for neighbors = 14, accuracy is 0.750000 \n",
      "for neighbors = 15, accuracy is 0.781250 \n",
      "for neighbors = 16, accuracy is 0.812500 \n",
      "for neighbors = 17, accuracy is 0.687500 \n",
      "for neighbors = 18, accuracy is 0.750000 \n",
      "for neighbors = 19, accuracy is 0.718750 \n",
      "for neighbors = 20, accuracy is 0.812500 \n"
     ]
    },
    {
     "data": {
      "image/png": "[encoded data removed]",
      "text/plain": [
       "<matplotlib.figure.Figure at 0x242ad6700b8>"
      ]
     },
     "metadata": {},
     "output_type": "display_data"
    }
   ],
   "source": [
    "k_range = [i for i in range(2,21)]\n",
    "print(k_range)\n",
    "\n",
    "accuracy = []\n",
    "for i in k_range:\n",
    "    new_knn = KNeighborsClassifier(n_neighbors=i)\n",
    "    new_knn.fit(Features, label)\n",
    "    accuracy_curr_knn = new_knn.score(test_Features, test_label)\n",
    "    print (\"for neighbors = %d, accuracy is %f \"%(i,accuracy_curr_knn))\n",
    "    accuracy.append(accuracy_curr_knn)\n",
    "    \n",
    "plt.figure(figsize=(10, 8))\n",
    "plt.bar(k_range, accuracy)\n",
    "plt.ylim(0,1)\n",
    "plt.xlim(0,20)\n",
    "#plt.locator_params(axis='y', nbins=20)\n",
    "plt.locator_params(axis = 'x', nbins = 10)\n",
    "plt.ylabel(\"Accuracy\")\n",
    "plt.xlabel(\"Number of Neighborhoods\")\n",
    "plt.show()"
   ]
  },
  {
   "cell_type": "markdown",
   "metadata": {},
   "source": [
    "### Thus we see for a less number of neighbors, accuracy is better. Overall accuracy is better than SVM\n",
    "\n",
    "### NOW we test against Liinear Regression Analysis:"
   ]
  },
  {
   "cell_type": "code",
   "execution_count": 405,
   "metadata": {},
   "outputs": [
    {
     "data": {
      "text/plain": [
       "(0.99945544933004582, 0.14467536142799109)"
      ]
     },
     "execution_count": 405,
     "metadata": {},
     "output_type": "execute_result"
    }
   ],
   "source": [
    "from sklearn.linear_model import LinearRegression\n",
    "\n",
    "lr = LinearRegression()\n",
    "\n",
    "lr.fit(smaller_Features, label)\n",
    "\n",
    "lr.score(smaller_Features, label), lr.score(smaller_test_Features, test_label)"
   ]
  },
  {
   "cell_type": "code",
   "execution_count": 408,
   "metadata": {},
   "outputs": [
    {
     "data": {
      "text/plain": [
       "(1.0, 0.9160411462610748, 0.92725708734967438)"
      ]
     },
     "execution_count": 408,
     "metadata": {},
     "output_type": "execute_result"
    }
   ],
   "source": [
    "## NOW USING ALL THE FEATURES INSTEAD OF JUST THE OUTPUT OF PCA:\n",
    "lr.fit(Features, label)\n",
    "\n",
    "lr.score(Features, label), lr.score(test_Features, test_label), lr.score(pred_Features, pred_label)"
   ]
  },
  {
   "cell_type": "markdown",
   "metadata": {},
   "source": [
    "#### Similar to knn, much more accuracy for larger number of features.\n",
    "\n",
    "### Using Stochastic Gradient Descent Classifier:"
   ]
  },
  {
   "cell_type": "code",
   "execution_count": 418,
   "metadata": {},
   "outputs": [
    {
     "data": {
      "text/plain": [
       "(1.0, 1.0)"
      ]
     },
     "execution_count": 418,
     "metadata": {},
     "output_type": "execute_result"
    }
   ],
   "source": [
    "from sklearn.linear_model import SGDClassifier\n",
    "\n",
    "\n",
    "sgd = SGDClassifier(loss='perceptron', n_iter=10)\n",
    "\n",
    "sgd.fit(Features, label)\n",
    "\n",
    "sgd.score(Features, label), sgd.score(test_Features, test_label)"
   ]
  },
  {
   "cell_type": "markdown",
   "metadata": {},
   "source": [
    "### NOW we test the SCDClassifier using differnt loss functions and n_iterations and plot"
   ]
  },
  {
   "cell_type": "code",
   "execution_count": 438,
   "metadata": {},
   "outputs": [
    {
     "name": "stdout",
     "output_type": "stream",
     "text": [
      "loss_func: hinge, n_iter: 1, accuracy on train: 0.968750 on test: 0.875000\n",
      "loss_func: hinge, n_iter: 3, accuracy on train: 0.562500 on test: 0.625000\n",
      "loss_func: hinge, n_iter: 5, accuracy on train: 1.000000 on test: 0.968750\n",
      "loss_func: hinge, n_iter: 7, accuracy on train: 1.000000 on test: 0.968750\n",
      "loss_func: hinge, n_iter: 9, accuracy on train: 0.437500 on test: 0.375000\n",
      "loss_func: hinge, n_iter: 11, accuracy on train: 0.968750 on test: 0.812500\n",
      "loss_func: hinge, n_iter: 13, accuracy on train: 1.000000 on test: 0.968750\n",
      "loss_func: hinge, n_iter: 15, accuracy on train: 1.000000 on test: 0.968750\n"
     ]
    },
    {
     "data": {
      "image/png": "[encoded data removed]",
      "text/plain": [
       "<matplotlib.figure.Figure at 0x24283eca6a0>"
      ]
     },
     "metadata": {},
     "output_type": "display_data"
    },
    {
     "name": "stdout",
     "output_type": "stream",
     "text": [
      "loss_func: squared_hinge, n_iter: 1, accuracy on train: 0.656250 on test: 0.718750\n",
      "loss_func: squared_hinge, n_iter: 3, accuracy on train: 0.437500 on test: 0.375000\n",
      "loss_func: squared_hinge, n_iter: 5, accuracy on train: 0.812500 on test: 0.781250\n",
      "loss_func: squared_hinge, n_iter: 7, accuracy on train: 0.625000 on test: 0.656250\n",
      "loss_func: squared_hinge, n_iter: 9, accuracy on train: 1.000000 on test: 0.968750\n",
      "loss_func: squared_hinge, n_iter: 11, accuracy on train: 0.875000 on test: 0.875000\n",
      "loss_func: squared_hinge, n_iter: 13, accuracy on train: 1.000000 on test: 0.937500\n",
      "loss_func: squared_hinge, n_iter: 15, accuracy on train: 1.000000 on test: 0.937500\n"
     ]
    },
    {
     "data": {
      "image/png": "[encoded data removed]",
      "text/plain": [
       "<matplotlib.figure.Figure at 0x24282243080>"
      ]
     },
     "metadata": {},
     "output_type": "display_data"
    },
    {
     "name": "stdout",
     "output_type": "stream",
     "text": [
      "loss_func: log, n_iter: 1, accuracy on train: 0.562500 on test: 0.625000\n",
      "loss_func: log, n_iter: 3, accuracy on train: 0.562500 on test: 0.625000\n",
      "loss_func: log, n_iter: 5, accuracy on train: 0.437500 on test: 0.375000\n",
      "loss_func: log, n_iter: 7, accuracy on train: 0.437500 on test: 0.375000\n",
      "loss_func: log, n_iter: 9, accuracy on train: 0.562500 on test: 0.625000\n",
      "loss_func: log, n_iter: 11, accuracy on train: 0.562500 on test: 0.625000\n",
      "loss_func: log, n_iter: 13, accuracy on train: 1.000000 on test: 0.937500\n",
      "loss_func: log, n_iter: 15, accuracy on train: 1.000000 on test: 0.906250\n"
     ]
    },
    {
     "data": {
      "image/png": "[encoded data removed]",
      "text/plain": [
       "<matplotlib.figure.Figure at 0x242a8a866d8>"
      ]
     },
     "metadata": {},
     "output_type": "display_data"
    }
   ],
   "source": [
    "loss_func = ['hinge', 'squared_hinge', 'log']\n",
    "n_iter_value = [i for i in range(1,16,2)]\n",
    "\n",
    "for i in loss_func:\n",
    "    acc_on_train = []\n",
    "    acc_on_test = []\n",
    "    for j in n_iter_value:\n",
    "        sgd = SGDClassifier(loss=i, n_iter=j)\n",
    "        sgd.fit(Features, label)\n",
    "        on_train = sgd.score(Features, label)\n",
    "        acc_on_train.append(on_train)\n",
    "        on_test = sgd.score(test_Features, test_label)\n",
    "        acc_on_test.append(on_test)\n",
    "        print (\"loss_func: %s, n_iter: %d, accuracy on train: %f on test: %f\"%(i,j,on_train,on_test))\n",
    "    fig, axes = plt.subplots(1,2, figsize=(10,5))\n",
    "    axes[0].bar(n_iter_value, acc_on_train)\n",
    "    axes[0].set_ylim(0,1)\n",
    "    axes[0].set_ylabel(\"Accuracy_on_TRAIN\")\n",
    "    axes[0].set_xlabel(\"Value of n_iter\")\n",
    "    axes[1].bar(n_iter_value, acc_on_test)\n",
    "    axes[1].set_ylim(0,1)\n",
    "    axes[1].set_ylabel(\"Accuracy_on_TEST\")\n",
    "    axes[1].set_xlabel(\"Value of n_iter\")\n",
    "    plt.show()\n",
    "    "
   ]
  },
  {
   "cell_type": "code",
   "execution_count": null,
   "metadata": {
    "collapsed": true
   },
   "outputs": [],
   "source": []
  }
 ],
 "metadata": {
  "kernelspec": {
   "display_name": "Python 3",
   "language": "python",
   "name": "python3"
  },
  "language_info": {
   "codemirror_mode": {
    "name": "ipython",
    "version": 3
   },
   "file_extension": ".py",
   "mimetype": "text/x-python",
   "name": "python",
   "nbconvert_exporter": "python",
   "pygments_lexer": "ipython3",
   "version": "3.6.7"
  }
 },
 "nbformat": 4,
 "nbformat_minor": 2
}
