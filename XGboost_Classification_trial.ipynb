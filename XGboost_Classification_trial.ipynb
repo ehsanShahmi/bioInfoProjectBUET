{
 "cells": [
  {
   "cell_type": "markdown",
   "metadata": {
    "_cell_guid": "a7eb933d-07c2-4e9e-977f-d82296023593",
    "_execution_state": "idle",
    "_uuid": "6a711171dccfd854e935b60d109fa0d2a80e06e8"
   },
   "source": [
    "This notebook is an introduction into the world of Xgboost for Classifcation and Regression. Motivated by the Russia Dataset that I worked on, trained on Random Forest, no ensemble and ended up in the 83% mark"
   ]
  },
  {
   "cell_type": "code",
   "execution_count": 1,
   "metadata": {
    "_cell_guid": "12688f47-9564-4ee2-9bba-97069e60a308",
    "_execution_state": "idle",
    "_uuid": "afddcea42e8847ee1ed6e0da0687aec20f03749c"
   },
   "outputs": [],
   "source": [
    "# This Python 3 environment comes with many helpful analytics libraries installed\n",
    "# It is defined by the kaggle/python docker image: https://github.com/kaggle/docker-python\n",
    "# For example, here's several helpful packages to load in \n",
    "\n",
    "import numpy as np # linear algebra\n",
    "import pandas as pd # data processing, CSV file I/O (e.g. pd.read_csv)\n",
    "import xgboost as xgb\n",
    "from sklearn.model_selection import train_test_split\n",
    "\n",
    "# Input data files are available in the \"../input/\" directory.b\n",
    "# For example, running this (by clicking run or pressing Shift+Enter) will list the files in the input directory\n",
    "\n",
    "#from subprocess import check_output\n",
    "#print(check_output([\"ls\", \"../input\"]).decode(\"utf8\"))\n",
    "\n",
    "# Any results you write to the current directory are saved as output."
   ]
  },
  {
   "cell_type": "code",
   "execution_count": 10,
   "metadata": {
    "_cell_guid": "4707e84f-5895-4b1d-806a-b5ae4641e3d3",
    "_execution_state": "idle",
    "_uuid": "a8adc4b606c9f5e3cb7f700323b46d3f60603f69"
   },
   "outputs": [
    {
     "data": {
      "text/plain": [
       "(8, 17589)"
      ]
     },
     "execution_count": 10,
     "metadata": {},
     "output_type": "execute_result"
    }
   ],
   "source": [
    "#load Dataset\n",
    "data = pd.read_csv('GDS12wNan.csv')\n",
    "data.head()\n",
    "data.shape"
   ]
  },
  {
   "cell_type": "code",
   "execution_count": 11,
   "metadata": {
    "_cell_guid": "50e7dccd-d901-4e05-bf62-1ff7b8d4e18a",
    "_execution_state": "idle",
    "_uuid": "a25872189c0f245a213e5c69cc3a3550957c3b46"
   },
   "outputs": [
    {
     "data": {
      "text/plain": [
       "((8, 17588), (8,))"
      ]
     },
     "execution_count": 11,
     "metadata": {},
     "output_type": "execute_result"
    }
   ],
   "source": [
    "data_full = data.copy()\n",
    "X_data = data_full.drop('Label', axis=1)\n",
    "y = data_full.Label\n",
    "X_data.shape, y.shape"
   ]
  },
  {
   "cell_type": "code",
   "execution_count": 12,
   "metadata": {
    "_cell_guid": "99b0a828-66a6-4cdb-9f52-2d328e6616d2",
    "_execution_state": "idle",
    "_uuid": "05e6f455a9ae50ac5b0c111be9c367cf0dba069c"
   },
   "outputs": [
    {
     "data": {
      "text/html": [
       "<div>\n",
       "<style scoped>\n",
       "    .dataframe tbody tr th:only-of-type {\n",
       "        vertical-align: middle;\n",
       "    }\n",
       "\n",
       "    .dataframe tbody tr th {\n",
       "        vertical-align: top;\n",
       "    }\n",
       "\n",
       "    .dataframe thead th {\n",
       "        text-align: right;\n",
       "    }\n",
       "</style>\n",
       "<table border=\"1\" class=\"dataframe\">\n",
       "  <thead>\n",
       "    <tr style=\"text-align: right;\">\n",
       "      <th></th>\n",
       "      <th>0</th>\n",
       "      <th>1</th>\n",
       "      <th>2</th>\n",
       "      <th>3</th>\n",
       "      <th>4</th>\n",
       "      <th>5</th>\n",
       "      <th>6</th>\n",
       "      <th>7</th>\n",
       "      <th>8</th>\n",
       "      <th>9</th>\n",
       "      <th>...</th>\n",
       "      <th>17578</th>\n",
       "      <th>17579</th>\n",
       "      <th>17580</th>\n",
       "      <th>17581</th>\n",
       "      <th>17582</th>\n",
       "      <th>17583</th>\n",
       "      <th>17584</th>\n",
       "      <th>17585</th>\n",
       "      <th>17586</th>\n",
       "      <th>17587</th>\n",
       "    </tr>\n",
       "  </thead>\n",
       "  <tbody>\n",
       "    <tr>\n",
       "      <th>0</th>\n",
       "      <td>-0.804986</td>\n",
       "      <td>0.493014</td>\n",
       "      <td>0.536014</td>\n",
       "      <td>-0.436986</td>\n",
       "      <td>0.082014</td>\n",
       "      <td>-1.006990</td>\n",
       "      <td>-0.748986</td>\n",
       "      <td>-0.440986</td>\n",
       "      <td>0.850014</td>\n",
       "      <td>-0.544986</td>\n",
       "      <td>...</td>\n",
       "      <td>NaN</td>\n",
       "      <td>NaN</td>\n",
       "      <td>NaN</td>\n",
       "      <td>NaN</td>\n",
       "      <td>NaN</td>\n",
       "      <td>NaN</td>\n",
       "      <td>NaN</td>\n",
       "      <td>NaN</td>\n",
       "      <td>NaN</td>\n",
       "      <td>NaN</td>\n",
       "    </tr>\n",
       "    <tr>\n",
       "      <th>1</th>\n",
       "      <td>-0.844178</td>\n",
       "      <td>1.202820</td>\n",
       "      <td>0.298822</td>\n",
       "      <td>-0.886178</td>\n",
       "      <td>-0.934178</td>\n",
       "      <td>NaN</td>\n",
       "      <td>NaN</td>\n",
       "      <td>NaN</td>\n",
       "      <td>0.581822</td>\n",
       "      <td>-0.723178</td>\n",
       "      <td>...</td>\n",
       "      <td>NaN</td>\n",
       "      <td>NaN</td>\n",
       "      <td>NaN</td>\n",
       "      <td>NaN</td>\n",
       "      <td>NaN</td>\n",
       "      <td>NaN</td>\n",
       "      <td>NaN</td>\n",
       "      <td>NaN</td>\n",
       "      <td>NaN</td>\n",
       "      <td>NaN</td>\n",
       "    </tr>\n",
       "    <tr>\n",
       "      <th>2</th>\n",
       "      <td>-1.241540</td>\n",
       "      <td>0.995462</td>\n",
       "      <td>-0.303538</td>\n",
       "      <td>-0.480538</td>\n",
       "      <td>0.363462</td>\n",
       "      <td>-1.261540</td>\n",
       "      <td>-1.027540</td>\n",
       "      <td>NaN</td>\n",
       "      <td>-0.117538</td>\n",
       "      <td>-0.352538</td>\n",
       "      <td>...</td>\n",
       "      <td>NaN</td>\n",
       "      <td>NaN</td>\n",
       "      <td>NaN</td>\n",
       "      <td>NaN</td>\n",
       "      <td>NaN</td>\n",
       "      <td>NaN</td>\n",
       "      <td>NaN</td>\n",
       "      <td>NaN</td>\n",
       "      <td>NaN</td>\n",
       "      <td>NaN</td>\n",
       "    </tr>\n",
       "    <tr>\n",
       "      <th>3</th>\n",
       "      <td>-1.003590</td>\n",
       "      <td>0.625413</td>\n",
       "      <td>0.181413</td>\n",
       "      <td>-0.456587</td>\n",
       "      <td>-0.005587</td>\n",
       "      <td>-0.857587</td>\n",
       "      <td>-0.626587</td>\n",
       "      <td>NaN</td>\n",
       "      <td>NaN</td>\n",
       "      <td>-0.948587</td>\n",
       "      <td>...</td>\n",
       "      <td>NaN</td>\n",
       "      <td>NaN</td>\n",
       "      <td>NaN</td>\n",
       "      <td>NaN</td>\n",
       "      <td>NaN</td>\n",
       "      <td>NaN</td>\n",
       "      <td>NaN</td>\n",
       "      <td>NaN</td>\n",
       "      <td>NaN</td>\n",
       "      <td>NaN</td>\n",
       "    </tr>\n",
       "    <tr>\n",
       "      <th>4</th>\n",
       "      <td>-0.886741</td>\n",
       "      <td>0.825259</td>\n",
       "      <td>0.433259</td>\n",
       "      <td>-0.860741</td>\n",
       "      <td>-0.633741</td>\n",
       "      <td>-0.552741</td>\n",
       "      <td>-1.021740</td>\n",
       "      <td>NaN</td>\n",
       "      <td>0.412259</td>\n",
       "      <td>-0.190741</td>\n",
       "      <td>...</td>\n",
       "      <td>NaN</td>\n",
       "      <td>NaN</td>\n",
       "      <td>NaN</td>\n",
       "      <td>NaN</td>\n",
       "      <td>NaN</td>\n",
       "      <td>NaN</td>\n",
       "      <td>NaN</td>\n",
       "      <td>NaN</td>\n",
       "      <td>NaN</td>\n",
       "      <td>NaN</td>\n",
       "    </tr>\n",
       "  </tbody>\n",
       "</table>\n",
       "<p>5 rows × 17588 columns</p>\n",
       "</div>"
      ],
      "text/plain": [
       "          0         1         2         3         4         5         6  \\\n",
       "0 -0.804986  0.493014  0.536014 -0.436986  0.082014 -1.006990 -0.748986   \n",
       "1 -0.844178  1.202820  0.298822 -0.886178 -0.934178       NaN       NaN   \n",
       "2 -1.241540  0.995462 -0.303538 -0.480538  0.363462 -1.261540 -1.027540   \n",
       "3 -1.003590  0.625413  0.181413 -0.456587 -0.005587 -0.857587 -0.626587   \n",
       "4 -0.886741  0.825259  0.433259 -0.860741 -0.633741 -0.552741 -1.021740   \n",
       "\n",
       "          7         8         9  ...    17578  17579  17580  17581  17582  \\\n",
       "0 -0.440986  0.850014 -0.544986  ...      NaN    NaN    NaN    NaN    NaN   \n",
       "1       NaN  0.581822 -0.723178  ...      NaN    NaN    NaN    NaN    NaN   \n",
       "2       NaN -0.117538 -0.352538  ...      NaN    NaN    NaN    NaN    NaN   \n",
       "3       NaN       NaN -0.948587  ...      NaN    NaN    NaN    NaN    NaN   \n",
       "4       NaN  0.412259 -0.190741  ...      NaN    NaN    NaN    NaN    NaN   \n",
       "\n",
       "   17583  17584  17585  17586  17587  \n",
       "0    NaN    NaN    NaN    NaN    NaN  \n",
       "1    NaN    NaN    NaN    NaN    NaN  \n",
       "2    NaN    NaN    NaN    NaN    NaN  \n",
       "3    NaN    NaN    NaN    NaN    NaN  \n",
       "4    NaN    NaN    NaN    NaN    NaN  \n",
       "\n",
       "[5 rows x 17588 columns]"
      ]
     },
     "execution_count": 12,
     "metadata": {},
     "output_type": "execute_result"
    }
   ],
   "source": [
    "X_data.head()"
   ]
  },
  {
   "cell_type": "code",
   "execution_count": 13,
   "metadata": {
    "_cell_guid": "1a524d73-d1dc-4895-a9c7-2b95ca0d9a27",
    "_execution_state": "idle",
    "_uuid": "604995c33731c8eee5d2ac9c8812ba89e89bf4a2"
   },
   "outputs": [
    {
     "data": {
      "text/plain": [
       "((8, 17588), (8,), (5, 17588), (3, 17588), (5,), (3,))"
      ]
     },
     "execution_count": 13,
     "metadata": {},
     "output_type": "execute_result"
    }
   ],
   "source": [
    "#Split the dataset into train and Test\n",
    "seed = 7\n",
    "test_size = 0.3\n",
    "X_trian, X_test, y_train, y_test = train_test_split(X_data, y, test_size=test_size, random_state=seed)\n",
    "X_data.shape, y.shape, X_trian.shape, X_test.shape, y_train.shape, y_test.shape"
   ]
  },
  {
   "cell_type": "code",
   "execution_count": 14,
   "metadata": {
    "_cell_guid": "a51435a6-12ee-4328-8156-69cb3dfdf852",
    "_execution_state": "idle",
    "_uuid": "dbc95cf7d02268dbdaebd19babc85cf05d8fa5d2",
    "collapsed": true
   },
   "outputs": [],
   "source": [
    "#Train the XGboost Model for Classification\n",
    "model1 = xgb.XGBClassifier()\n",
    "model2 = xgb.XGBClassifier(n_estimators=100, max_depth=8, learning_rate=0.1, subsample=0.5)\n",
    "\n",
    "train_model1 = model1.fit(X_trian, y_train)\n",
    "train_model2 = model2.fit(X_trian, y_train)"
   ]
  },
  {
   "cell_type": "code",
   "execution_count": 19,
   "metadata": {},
   "outputs": [
    {
     "data": {
      "text/plain": [
       "(0.6, 0.3333333333333333, 0.6, 0.3333333333333333)"
      ]
     },
     "execution_count": 19,
     "metadata": {},
     "output_type": "execute_result"
    }
   ],
   "source": [
    "model1.score(X_trian,y_train), model1.score(X_test,y_test), model2.score(X_trian,y_train), model2.score(X_test,y_test)"
   ]
  },
  {
   "cell_type": "code",
   "execution_count": 15,
   "metadata": {
    "_cell_guid": "5de86a12-216d-4f31-96fd-43f32ea61570",
    "_execution_state": "idle",
    "_uuid": "fd3df6bd3fec8a7e21df914ac2a9d0b78bb03aa3"
   },
   "outputs": [
    {
     "name": "stdout",
     "output_type": "stream",
     "text": [
      "Model 1 XGboost Report '              precision    recall  f1-score   support\\n\\n           0       0.33      1.00      0.50         1\\n           1       0.00      0.00      0.00         2\\n\\n   micro avg       0.33      0.33      0.33         3\\n   macro avg       0.17      0.50      0.25         3\\nweighted avg       0.11      0.33      0.17         3\\n'\n",
      "Model 2 XGboost Report '              precision    recall  f1-score   support\\n\\n           0       0.33      1.00      0.50         1\\n           1       0.00      0.00      0.00         2\\n\\n   micro avg       0.33      0.33      0.33         3\\n   macro avg       0.17      0.50      0.25         3\\nweighted avg       0.11      0.33      0.17         3\\n'\n"
     ]
    },
    {
     "name": "stderr",
     "output_type": "stream",
     "text": [
      "C:\\Users\\user\\Anaconda3\\lib\\site-packages\\sklearn\\metrics\\classification.py:1143: UndefinedMetricWarning: Precision and F-score are ill-defined and being set to 0.0 in labels with no predicted samples.\n",
      "  'precision', 'predicted', average, warn_for)\n"
     ]
    }
   ],
   "source": [
    "#prediction and Classification Report\n",
    "from sklearn.metrics import classification_report\n",
    "\n",
    "pred1 = train_model1.predict(X_test)\n",
    "pred2 = train_model2.predict(X_test)\n",
    "\n",
    "print('Model 1 XGboost Report %r' % (classification_report(y_test, pred1)))\n",
    "print('Model 2 XGboost Report %r' % (classification_report(y_test, pred2)))"
   ]
  },
  {
   "cell_type": "code",
   "execution_count": 16,
   "metadata": {
    "_cell_guid": "244804f4-74ad-403d-bc79-ca1c56c37a2b",
    "_execution_state": "idle",
    "_uuid": "810f7dfc5fcfcbb642d41158a2e2c14e51b84957"
   },
   "outputs": [
    {
     "name": "stdout",
     "output_type": "stream",
     "text": [
      "Accuracy for model 1: 33.33\n",
      "Accuracy for model 2: 33.33\n"
     ]
    }
   ],
   "source": [
    "#Let's use accuracy score\n",
    "from sklearn.metrics import accuracy_score\n",
    "\n",
    "print(\"Accuracy for model 1: %.2f\" % (accuracy_score(y_test, pred1) * 100))\n",
    "print(\"Accuracy for model 2: %.2f\" % (accuracy_score(y_test, pred2) * 100))"
   ]
  },
  {
   "cell_type": "markdown",
   "metadata": {},
   "source": [
    "## Now testing for without NaN values:"
   ]
  },
  {
   "cell_type": "code",
   "execution_count": 22,
   "metadata": {},
   "outputs": [
    {
     "data": {
      "text/plain": [
       "(8, 17589)"
      ]
     },
     "execution_count": 22,
     "metadata": {},
     "output_type": "execute_result"
    }
   ],
   "source": [
    "#load Dataset\n",
    "datawo = pd.read_csv('GDS12woNan.csv')\n",
    "#datawo.head()\n",
    "datawo.shape"
   ]
  },
  {
   "cell_type": "code",
   "execution_count": 23,
   "metadata": {},
   "outputs": [
    {
     "data": {
      "text/plain": [
       "((8, 17588), (8,))"
      ]
     },
     "execution_count": 23,
     "metadata": {},
     "output_type": "execute_result"
    }
   ],
   "source": [
    "data_fullwo = data.copy()\n",
    "X_data_wo = data_fullwo.drop('Label', axis=1)\n",
    "y_wo = data_fullwo.Label\n",
    "X_data_wo.shape, y_wo.shape"
   ]
  },
  {
   "cell_type": "code",
   "execution_count": 24,
   "metadata": {},
   "outputs": [
    {
     "data": {
      "text/plain": [
       "((8, 17588), (8,), (5, 17588), (3, 17588), (5,), (3,))"
      ]
     },
     "execution_count": 24,
     "metadata": {},
     "output_type": "execute_result"
    }
   ],
   "source": [
    "#Split the dataset into train and Test\n",
    "seed = 7\n",
    "test_size = 0.3\n",
    "X_trian, X_test, y_train, y_test = train_test_split(X_data_wo, y_wo, test_size=test_size, random_state=seed)\n",
    "X_data.shape, y.shape, X_trian.shape, X_test.shape, y_train.shape, y_test.shape"
   ]
  },
  {
   "cell_type": "code",
   "execution_count": 26,
   "metadata": {},
   "outputs": [
    {
     "data": {
      "text/plain": [
       "(0.6, 0.3333333333333333)"
      ]
     },
     "execution_count": 26,
     "metadata": {},
     "output_type": "execute_result"
    }
   ],
   "source": [
    "model_wo = xgb.XGBClassifier(n_estimators=100, max_depth=8, learning_rate=0.1, subsample=0.5)\n",
    "train_model_wo = model_wo.fit(X_trian, y_train)\n",
    "model_wo.score(X_trian,y_train), model_wo.score(X_test,y_test)"
   ]
  }
 ],
 "metadata": {
  "kernelspec": {
   "display_name": "Python 3",
   "language": "python",
   "name": "python3"
  },
  "language_info": {
   "codemirror_mode": {
    "name": "ipython",
    "version": 3
   },
   "file_extension": ".py",
   "mimetype": "text/x-python",
   "name": "python",
   "nbconvert_exporter": "python",
   "pygments_lexer": "ipython3",
   "version": "3.6.7"
  }
 },
 "nbformat": 4,
 "nbformat_minor": 1
}
