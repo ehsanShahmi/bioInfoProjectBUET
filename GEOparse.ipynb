{
 "cells": [
  {
   "cell_type": "code",
   "execution_count": 35,
   "metadata": {},
   "outputs": [
    {
     "name": "stderr",
     "output_type": "stream",
     "text": [
      "06-Apr-2019 16:48:46 INFO GEOparse - Parsing ./gds-soft/GDS624.soft.gz: \n",
      "06-Apr-2019 16:48:46 DEBUG GEOparse - DATABASE: Geo\n",
      "06-Apr-2019 16:48:46 DEBUG GEOparse - DATASET: GDS624\n",
      "06-Apr-2019 16:48:46 DEBUG GEOparse - SUBSET: GDS624_1\n",
      "06-Apr-2019 16:48:46 DEBUG GEOparse - SUBSET: GDS624_2\n",
      "06-Apr-2019 16:48:46 DEBUG GEOparse - SUBSET: GDS624_3\n",
      "06-Apr-2019 16:48:46 DEBUG GEOparse - SUBSET: GDS624_4\n",
      "06-Apr-2019 16:48:46 DEBUG GEOparse - DATASET: GDS624\n"
     ]
    },
    {
     "data": {
      "text/plain": [
       "(597, 8)"
      ]
     },
     "execution_count": 35,
     "metadata": {},
     "output_type": "execute_result"
    }
   ],
   "source": [
    "from pathlib import Path\n",
    "import GEOparse\n",
    "import glob\n",
    "import json\n",
    "import os\n",
    "\n",
    "# logger = logging.getLogger('my-logger')\n",
    "# logger.propagate = False\n",
    "\n",
    "gse = GEOparse.get_GEO(filepath=\"./gds-soft/GDS624.soft.gz\")\n",
    "# gse.table[\"IDENTIFIER\"].to_csv('IDENTIFIER_GDS5205.csv', index=False)\n",
    "gse.table.shape\n",
    "\n",
    "\n",
    "# dir_path_rel = Path(os.path.join('.', 'gds-soft'))\n",
    "# dir_path_abs = dir_path_rel.absolute()\n",
    "\n",
    "# file_path = os.path.join(str(dir_path_abs) + '/GDS*.soft.gz')\n",
    "\n",
    "# gds_files = glob.glob(file_path)\n",
    "\n",
    "# print(str(len(gds_files)))\n",
    "\n",
    "# gds_dims = {}\n",
    "# for gds_file in gds_files[0:2]:\n",
    "#     print(gds_file)\n",
    "#     gse = GEOparse.get_GEO(filepath=gds_file)\n",
    "#     gds_dims[gds_file.split('/')[-1]] =  gse.table.shape\n",
    "\n",
    "# for key, value in gds_dims.items():\n",
    "#         print(key + '     ' + str(value))\n"
   ]
  },
  {
   "cell_type": "code",
   "execution_count": null,
   "metadata": {
    "collapsed": true
   },
   "outputs": [],
   "source": []
  }
 ],
 "metadata": {
  "kernelspec": {
   "display_name": "Python 3",
   "language": "python",
   "name": "python3"
  },
  "language_info": {
   "codemirror_mode": {
    "name": "ipython",
    "version": 3
   },
   "file_extension": ".py",
   "mimetype": "text/x-python",
   "name": "python",
   "nbconvert_exporter": "python",
   "pygments_lexer": "ipython3",
   "version": "3.6.7"
  }
 },
 "nbformat": 4,
 "nbformat_minor": 2
}
