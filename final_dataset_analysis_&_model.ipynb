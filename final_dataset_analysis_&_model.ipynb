{
 "cells": [
  {
   "cell_type": "code",
   "execution_count": 2,
   "metadata": {
    "collapsed": true,
    "scrolled": true
   },
   "outputs": [],
   "source": [
    "from pathlib import Path\n",
    "import GEOparse\n",
    "import glob\n",
    "import json\n",
    "import os\n",
    "from statistics import mean\n",
    "import statistics\n",
    "import pandas as pd\n",
    "import numpy as np\n",
    "\n",
    "import matplotlib.pyplot as plt\n",
    "import xgboost as xgb\n",
    "from sklearn.svm import SVC\n",
    "from sklearn.model_selection import GridSearchCV\n",
    "from sklearn.neighbors import KNeighborsClassifier\n",
    "from sklearn.ensemble import RandomForestClassifier\n",
    "from sklearn.ensemble import AdaBoostClassifier\n",
    "\n",
    "from sklearn.utils import shuffle\n",
    "from sklearn.model_selection import train_test_split\n",
    "from sklearn.metrics import classification_report\n",
    "\n",
    "import random\n",
    "from collections import Counter"
   ]
  },
  {
   "cell_type": "code",
   "execution_count": 2,
   "metadata": {},
   "outputs": [
    {
     "data": {
      "text/plain": [
       "(666534, 232)"
      ]
     },
     "execution_count": 2,
     "metadata": {},
     "output_type": "execute_result"
    }
   ],
   "source": [
    "initial_dataset = pd.read_csv(\"final_Dataset.csv\")\n",
    "\n",
    "initial_dataset.shape"
   ]
  },
  {
   "cell_type": "code",
   "execution_count": 3,
   "metadata": {},
   "outputs": [
    {
     "data": {
      "text/html": [
       "<div>\n",
       "<style scoped>\n",
       "    .dataframe tbody tr th:only-of-type {\n",
       "        vertical-align: middle;\n",
       "    }\n",
       "\n",
       "    .dataframe tbody tr th {\n",
       "        vertical-align: top;\n",
       "    }\n",
       "\n",
       "    .dataframe thead th {\n",
       "        text-align: right;\n",
       "    }\n",
       "</style>\n",
       "<table border=\"1\" class=\"dataframe\">\n",
       "  <thead>\n",
       "    <tr style=\"text-align: right;\">\n",
       "      <th></th>\n",
       "      <th>ID_REF_x</th>\n",
       "      <th>IDENTIFIER</th>\n",
       "      <th>GSM1068478</th>\n",
       "      <th>GSM1068479</th>\n",
       "      <th>GSM1068481</th>\n",
       "      <th>GSM1068482</th>\n",
       "      <th>GSM1068483</th>\n",
       "      <th>GSM1068486</th>\n",
       "      <th>GSM1068487</th>\n",
       "      <th>GSM1068488</th>\n",
       "      <th>...</th>\n",
       "      <th>GSM1299160</th>\n",
       "      <th>GSM1299164</th>\n",
       "      <th>GSM1299165</th>\n",
       "      <th>GSM1299166</th>\n",
       "      <th>GSM1299149</th>\n",
       "      <th>GSM1299150</th>\n",
       "      <th>GSM1299151</th>\n",
       "      <th>GSM1299152</th>\n",
       "      <th>GSM1299153</th>\n",
       "      <th>GSM1299154</th>\n",
       "    </tr>\n",
       "  </thead>\n",
       "  <tbody>\n",
       "    <tr>\n",
       "      <th>0</th>\n",
       "      <td>A_23_P100001</td>\n",
       "      <td>FAM174B</td>\n",
       "      <td>11.76500</td>\n",
       "      <td>11.15030</td>\n",
       "      <td>11.82380</td>\n",
       "      <td>10.96300</td>\n",
       "      <td>11.6347</td>\n",
       "      <td>11.07970</td>\n",
       "      <td>11.30700</td>\n",
       "      <td>11.17300</td>\n",
       "      <td>...</td>\n",
       "      <td>812.397</td>\n",
       "      <td>656.582</td>\n",
       "      <td>522.394</td>\n",
       "      <td>726.062</td>\n",
       "      <td>600.269</td>\n",
       "      <td>533.751</td>\n",
       "      <td>536.794</td>\n",
       "      <td>569.076</td>\n",
       "      <td>560.746</td>\n",
       "      <td>540.926</td>\n",
       "    </tr>\n",
       "    <tr>\n",
       "      <th>1</th>\n",
       "      <td>A_23_P100011</td>\n",
       "      <td>AP3S2</td>\n",
       "      <td>6.68845</td>\n",
       "      <td>6.29378</td>\n",
       "      <td>5.77885</td>\n",
       "      <td>6.20746</td>\n",
       "      <td>4.7852</td>\n",
       "      <td>5.38453</td>\n",
       "      <td>5.88975</td>\n",
       "      <td>6.39307</td>\n",
       "      <td>...</td>\n",
       "      <td>239.106</td>\n",
       "      <td>197.459</td>\n",
       "      <td>238.199</td>\n",
       "      <td>243.331</td>\n",
       "      <td>112.387</td>\n",
       "      <td>154.148</td>\n",
       "      <td>157.205</td>\n",
       "      <td>201.557</td>\n",
       "      <td>192.996</td>\n",
       "      <td>170.394</td>\n",
       "    </tr>\n",
       "    <tr>\n",
       "      <th>2</th>\n",
       "      <td>A_23_P100011</td>\n",
       "      <td>AP3S2</td>\n",
       "      <td>6.68845</td>\n",
       "      <td>6.29378</td>\n",
       "      <td>5.77885</td>\n",
       "      <td>6.20746</td>\n",
       "      <td>4.7852</td>\n",
       "      <td>5.38453</td>\n",
       "      <td>5.88975</td>\n",
       "      <td>6.39307</td>\n",
       "      <td>...</td>\n",
       "      <td>6154.430</td>\n",
       "      <td>5666.730</td>\n",
       "      <td>6103.360</td>\n",
       "      <td>5995.370</td>\n",
       "      <td>5491.330</td>\n",
       "      <td>5217.520</td>\n",
       "      <td>4714.480</td>\n",
       "      <td>6680.100</td>\n",
       "      <td>6247.850</td>\n",
       "      <td>5616.060</td>\n",
       "    </tr>\n",
       "    <tr>\n",
       "      <th>3</th>\n",
       "      <td>A_23_P100011</td>\n",
       "      <td>AP3S2</td>\n",
       "      <td>6.68845</td>\n",
       "      <td>6.29378</td>\n",
       "      <td>5.77885</td>\n",
       "      <td>6.20746</td>\n",
       "      <td>4.7852</td>\n",
       "      <td>5.38453</td>\n",
       "      <td>5.88975</td>\n",
       "      <td>6.39307</td>\n",
       "      <td>...</td>\n",
       "      <td>2551.590</td>\n",
       "      <td>2961.370</td>\n",
       "      <td>2860.160</td>\n",
       "      <td>2774.720</td>\n",
       "      <td>1836.510</td>\n",
       "      <td>1692.270</td>\n",
       "      <td>1496.180</td>\n",
       "      <td>530.830</td>\n",
       "      <td>1764.560</td>\n",
       "      <td>1793.680</td>\n",
       "    </tr>\n",
       "    <tr>\n",
       "      <th>4</th>\n",
       "      <td>A_23_P100011</td>\n",
       "      <td>AP3S2</td>\n",
       "      <td>6.68845</td>\n",
       "      <td>6.29378</td>\n",
       "      <td>5.77885</td>\n",
       "      <td>6.20746</td>\n",
       "      <td>4.7852</td>\n",
       "      <td>5.38453</td>\n",
       "      <td>5.88975</td>\n",
       "      <td>6.39307</td>\n",
       "      <td>...</td>\n",
       "      <td>239.106</td>\n",
       "      <td>197.459</td>\n",
       "      <td>238.199</td>\n",
       "      <td>243.331</td>\n",
       "      <td>112.387</td>\n",
       "      <td>154.148</td>\n",
       "      <td>157.205</td>\n",
       "      <td>201.557</td>\n",
       "      <td>192.996</td>\n",
       "      <td>170.394</td>\n",
       "    </tr>\n",
       "    <tr>\n",
       "      <th>5</th>\n",
       "      <td>A_23_P100011</td>\n",
       "      <td>AP3S2</td>\n",
       "      <td>6.68845</td>\n",
       "      <td>6.29378</td>\n",
       "      <td>5.77885</td>\n",
       "      <td>6.20746</td>\n",
       "      <td>4.7852</td>\n",
       "      <td>5.38453</td>\n",
       "      <td>5.88975</td>\n",
       "      <td>6.39307</td>\n",
       "      <td>...</td>\n",
       "      <td>6154.430</td>\n",
       "      <td>5666.730</td>\n",
       "      <td>6103.360</td>\n",
       "      <td>5995.370</td>\n",
       "      <td>5491.330</td>\n",
       "      <td>5217.520</td>\n",
       "      <td>4714.480</td>\n",
       "      <td>6680.100</td>\n",
       "      <td>6247.850</td>\n",
       "      <td>5616.060</td>\n",
       "    </tr>\n",
       "    <tr>\n",
       "      <th>6</th>\n",
       "      <td>A_23_P100011</td>\n",
       "      <td>AP3S2</td>\n",
       "      <td>6.68845</td>\n",
       "      <td>6.29378</td>\n",
       "      <td>5.77885</td>\n",
       "      <td>6.20746</td>\n",
       "      <td>4.7852</td>\n",
       "      <td>5.38453</td>\n",
       "      <td>5.88975</td>\n",
       "      <td>6.39307</td>\n",
       "      <td>...</td>\n",
       "      <td>2551.590</td>\n",
       "      <td>2961.370</td>\n",
       "      <td>2860.160</td>\n",
       "      <td>2774.720</td>\n",
       "      <td>1836.510</td>\n",
       "      <td>1692.270</td>\n",
       "      <td>1496.180</td>\n",
       "      <td>530.830</td>\n",
       "      <td>1764.560</td>\n",
       "      <td>1793.680</td>\n",
       "    </tr>\n",
       "    <tr>\n",
       "      <th>7</th>\n",
       "      <td>A_23_P100011</td>\n",
       "      <td>AP3S2</td>\n",
       "      <td>6.68845</td>\n",
       "      <td>6.29378</td>\n",
       "      <td>5.77885</td>\n",
       "      <td>6.20746</td>\n",
       "      <td>4.7852</td>\n",
       "      <td>5.38453</td>\n",
       "      <td>5.88975</td>\n",
       "      <td>6.39307</td>\n",
       "      <td>...</td>\n",
       "      <td>239.106</td>\n",
       "      <td>197.459</td>\n",
       "      <td>238.199</td>\n",
       "      <td>243.331</td>\n",
       "      <td>112.387</td>\n",
       "      <td>154.148</td>\n",
       "      <td>157.205</td>\n",
       "      <td>201.557</td>\n",
       "      <td>192.996</td>\n",
       "      <td>170.394</td>\n",
       "    </tr>\n",
       "    <tr>\n",
       "      <th>8</th>\n",
       "      <td>A_23_P100011</td>\n",
       "      <td>AP3S2</td>\n",
       "      <td>6.68845</td>\n",
       "      <td>6.29378</td>\n",
       "      <td>5.77885</td>\n",
       "      <td>6.20746</td>\n",
       "      <td>4.7852</td>\n",
       "      <td>5.38453</td>\n",
       "      <td>5.88975</td>\n",
       "      <td>6.39307</td>\n",
       "      <td>...</td>\n",
       "      <td>6154.430</td>\n",
       "      <td>5666.730</td>\n",
       "      <td>6103.360</td>\n",
       "      <td>5995.370</td>\n",
       "      <td>5491.330</td>\n",
       "      <td>5217.520</td>\n",
       "      <td>4714.480</td>\n",
       "      <td>6680.100</td>\n",
       "      <td>6247.850</td>\n",
       "      <td>5616.060</td>\n",
       "    </tr>\n",
       "    <tr>\n",
       "      <th>9</th>\n",
       "      <td>A_23_P100011</td>\n",
       "      <td>AP3S2</td>\n",
       "      <td>6.68845</td>\n",
       "      <td>6.29378</td>\n",
       "      <td>5.77885</td>\n",
       "      <td>6.20746</td>\n",
       "      <td>4.7852</td>\n",
       "      <td>5.38453</td>\n",
       "      <td>5.88975</td>\n",
       "      <td>6.39307</td>\n",
       "      <td>...</td>\n",
       "      <td>2551.590</td>\n",
       "      <td>2961.370</td>\n",
       "      <td>2860.160</td>\n",
       "      <td>2774.720</td>\n",
       "      <td>1836.510</td>\n",
       "      <td>1692.270</td>\n",
       "      <td>1496.180</td>\n",
       "      <td>530.830</td>\n",
       "      <td>1764.560</td>\n",
       "      <td>1793.680</td>\n",
       "    </tr>\n",
       "  </tbody>\n",
       "</table>\n",
       "<p>10 rows × 232 columns</p>\n",
       "</div>"
      ],
      "text/plain": [
       "       ID_REF_x IDENTIFIER  GSM1068478  GSM1068479  GSM1068481  GSM1068482  \\\n",
       "0  A_23_P100001    FAM174B    11.76500    11.15030    11.82380    10.96300   \n",
       "1  A_23_P100011      AP3S2     6.68845     6.29378     5.77885     6.20746   \n",
       "2  A_23_P100011      AP3S2     6.68845     6.29378     5.77885     6.20746   \n",
       "3  A_23_P100011      AP3S2     6.68845     6.29378     5.77885     6.20746   \n",
       "4  A_23_P100011      AP3S2     6.68845     6.29378     5.77885     6.20746   \n",
       "5  A_23_P100011      AP3S2     6.68845     6.29378     5.77885     6.20746   \n",
       "6  A_23_P100011      AP3S2     6.68845     6.29378     5.77885     6.20746   \n",
       "7  A_23_P100011      AP3S2     6.68845     6.29378     5.77885     6.20746   \n",
       "8  A_23_P100011      AP3S2     6.68845     6.29378     5.77885     6.20746   \n",
       "9  A_23_P100011      AP3S2     6.68845     6.29378     5.77885     6.20746   \n",
       "\n",
       "   GSM1068483  GSM1068486  GSM1068487  GSM1068488     ...      GSM1299160  \\\n",
       "0     11.6347    11.07970    11.30700    11.17300     ...         812.397   \n",
       "1      4.7852     5.38453     5.88975     6.39307     ...         239.106   \n",
       "2      4.7852     5.38453     5.88975     6.39307     ...        6154.430   \n",
       "3      4.7852     5.38453     5.88975     6.39307     ...        2551.590   \n",
       "4      4.7852     5.38453     5.88975     6.39307     ...         239.106   \n",
       "5      4.7852     5.38453     5.88975     6.39307     ...        6154.430   \n",
       "6      4.7852     5.38453     5.88975     6.39307     ...        2551.590   \n",
       "7      4.7852     5.38453     5.88975     6.39307     ...         239.106   \n",
       "8      4.7852     5.38453     5.88975     6.39307     ...        6154.430   \n",
       "9      4.7852     5.38453     5.88975     6.39307     ...        2551.590   \n",
       "\n",
       "   GSM1299164  GSM1299165  GSM1299166  GSM1299149  GSM1299150  GSM1299151  \\\n",
       "0     656.582     522.394     726.062     600.269     533.751     536.794   \n",
       "1     197.459     238.199     243.331     112.387     154.148     157.205   \n",
       "2    5666.730    6103.360    5995.370    5491.330    5217.520    4714.480   \n",
       "3    2961.370    2860.160    2774.720    1836.510    1692.270    1496.180   \n",
       "4     197.459     238.199     243.331     112.387     154.148     157.205   \n",
       "5    5666.730    6103.360    5995.370    5491.330    5217.520    4714.480   \n",
       "6    2961.370    2860.160    2774.720    1836.510    1692.270    1496.180   \n",
       "7     197.459     238.199     243.331     112.387     154.148     157.205   \n",
       "8    5666.730    6103.360    5995.370    5491.330    5217.520    4714.480   \n",
       "9    2961.370    2860.160    2774.720    1836.510    1692.270    1496.180   \n",
       "\n",
       "   GSM1299152  GSM1299153  GSM1299154  \n",
       "0     569.076     560.746     540.926  \n",
       "1     201.557     192.996     170.394  \n",
       "2    6680.100    6247.850    5616.060  \n",
       "3     530.830    1764.560    1793.680  \n",
       "4     201.557     192.996     170.394  \n",
       "5    6680.100    6247.850    5616.060  \n",
       "6     530.830    1764.560    1793.680  \n",
       "7     201.557     192.996     170.394  \n",
       "8    6680.100    6247.850    5616.060  \n",
       "9     530.830    1764.560    1793.680  \n",
       "\n",
       "[10 rows x 232 columns]"
      ]
     },
     "execution_count": 3,
     "metadata": {},
     "output_type": "execute_result"
    }
   ],
   "source": [
    "initial_dataset.head(10)"
   ]
  },
  {
   "cell_type": "code",
   "execution_count": 2,
   "metadata": {},
   "outputs": [
    {
     "data": {
      "text/plain": [
       "711"
      ]
     },
     "execution_count": 2,
     "metadata": {},
     "output_type": "execute_result"
    }
   ],
   "source": [
    "# the 711 genes\n",
    "genes711 = []\n",
    "with open('712_known_cancerGenes.txt') as f:\n",
    "    for line in f:\n",
    "        line = line.split('\\n')[0]\n",
    "        genes711.append(line)\n",
    "len(genes711)"
   ]
  },
  {
   "cell_type": "code",
   "execution_count": 3,
   "metadata": {
    "collapsed": true
   },
   "outputs": [],
   "source": [
    "#Lets see how many of these genes are inside 711 genes\n",
    "gene_set = set(genes711)\n",
    "dataset_identifiers = set(initial_dataset.iloc[1:,1])\n",
    "common_in_dataset = list(gene_set.intersection(dataset_identifiers))\n",
    "print (len(common_in_dataset))"
   ]
  },
  {
   "cell_type": "code",
   "execution_count": 6,
   "metadata": {
    "scrolled": true
   },
   "outputs": [
    {
     "data": {
      "text/plain": [
       "ID_REF_x           0\n",
       "IDENTIFIER         0\n",
       "GSM1068478     38509\n",
       "GSM1068479     38509\n",
       "GSM1068481     38509\n",
       "GSM1068482     38509\n",
       "GSM1068483     38509\n",
       "GSM1068486     38509\n",
       "GSM1068487     38509\n",
       "GSM1068488     38509\n",
       "GSM1068490     38509\n",
       "GSM1068491     38509\n",
       "GSM1068492     38509\n",
       "GSM1068493     38509\n",
       "GSM1068494     38509\n",
       "GSM1068495     38509\n",
       "GSM1068496     38509\n",
       "GSM1068498     38509\n",
       "GSM1068499     38509\n",
       "GSM1068500     38509\n",
       "GSM1068502     38509\n",
       "GSM1068503     38509\n",
       "GSM1068505     38509\n",
       "GSM1068506     38509\n",
       "GSM1068507     38509\n",
       "GSM1068508     38509\n",
       "GSM1068510     38509\n",
       "GSM1068512     38509\n",
       "GSM1068513     38509\n",
       "GSM1068514     38509\n",
       "               ...  \n",
       "GSM620760     104445\n",
       "GSM620769     107146\n",
       "GSM620774     195954\n",
       "GSM620778     205679\n",
       "GSM620789     183547\n",
       "GSM620759     105748\n",
       "GSM620773     213696\n",
       "GSM620786     130277\n",
       "GSM620753     126385\n",
       "GSM620761     110523\n",
       "GSM620790     189934\n",
       "ID_REF_y.1         0\n",
       "GSM1299155    124773\n",
       "GSM1299156    126775\n",
       "GSM1299157    112029\n",
       "GSM1299161    110871\n",
       "GSM1299162    151590\n",
       "GSM1299163    123784\n",
       "GSM1299158    181711\n",
       "GSM1299159    133395\n",
       "GSM1299160    134113\n",
       "GSM1299164    144111\n",
       "GSM1299165    172386\n",
       "GSM1299166    175378\n",
       "GSM1299149    108331\n",
       "GSM1299150     94234\n",
       "GSM1299151    103767\n",
       "GSM1299152    121335\n",
       "GSM1299153    103517\n",
       "GSM1299154    106969\n",
       "Length: 232, dtype: int64"
      ]
     },
     "execution_count": 6,
     "metadata": {},
     "output_type": "execute_result"
    }
   ],
   "source": [
    "# NUmber of NaN value in each column\n",
    "initial_nan_column = initial_dataset.shape[0] - 1 - initial_dataset.count()\n",
    "initial_nan_column"
   ]
  },
  {
   "cell_type": "code",
   "execution_count": 7,
   "metadata": {
    "scrolled": true
   },
   "outputs": [
    {
     "data": {
      "text/plain": [
       "0           0\n",
       "1          17\n",
       "2          17\n",
       "3          17\n",
       "4           0\n",
       "5           0\n",
       "6           0\n",
       "7           1\n",
       "8           1\n",
       "9           1\n",
       "10         17\n",
       "11         17\n",
       "12         17\n",
       "13          0\n",
       "14          0\n",
       "15          0\n",
       "16          1\n",
       "17          1\n",
       "18          1\n",
       "19         17\n",
       "20         17\n",
       "21         17\n",
       "22          0\n",
       "23          0\n",
       "24          0\n",
       "25          1\n",
       "26          1\n",
       "27          1\n",
       "28         17\n",
       "29         17\n",
       "         ... \n",
       "666504    227\n",
       "666505    227\n",
       "666506    227\n",
       "666507    227\n",
       "666508    227\n",
       "666509    227\n",
       "666510    227\n",
       "666511    227\n",
       "666512    227\n",
       "666513    227\n",
       "666514    227\n",
       "666515    227\n",
       "666516    227\n",
       "666517    227\n",
       "666518    227\n",
       "666519    227\n",
       "666520    227\n",
       "666521    227\n",
       "666522    227\n",
       "666523    227\n",
       "666524    227\n",
       "666525    227\n",
       "666526    227\n",
       "666527    227\n",
       "666528    227\n",
       "666529    227\n",
       "666530    227\n",
       "666531    227\n",
       "666532    227\n",
       "666533    227\n",
       "Length: 666534, dtype: int64"
      ]
     },
     "execution_count": 7,
     "metadata": {},
     "output_type": "execute_result"
    }
   ],
   "source": [
    "# NUmber of NaN value in each row\n",
    "initial_nan_row = initial_dataset.shape[1] - 2 - (initial_dataset.count(axis=1) - 2)\n",
    "initial_nan_row"
   ]
  },
  {
   "cell_type": "markdown",
   "metadata": {},
   "source": [
    "## NOW we create new dataset from the initial one, with first step of cleaning\n",
    "## which is removing duplicate genes"
   ]
  },
  {
   "cell_type": "code",
   "execution_count": 8,
   "metadata": {},
   "outputs": [
    {
     "data": {
      "text/plain": [
       "(29817, 232)"
      ]
     },
     "execution_count": 8,
     "metadata": {},
     "output_type": "execute_result"
    }
   ],
   "source": [
    "# Let us remove the rows with genes with duplicate Identifiers\n",
    "# and create a new dataframe\n",
    "\n",
    "v1_dataset = initial_dataset.drop_duplicates(subset='IDENTIFIER', keep='first')\n",
    "#v1_dataset = v1_dataset.reset_index(drop=True)\n",
    "v1_dataset.shape"
   ]
  },
  {
   "cell_type": "code",
   "execution_count": 9,
   "metadata": {},
   "outputs": [
    {
     "data": {
      "text/plain": [
       "(ID_REF_x      29816\n",
       " IDENTIFIER    29816\n",
       " GSM1068478    29722\n",
       " GSM1068479    29722\n",
       " GSM1068481    29722\n",
       " GSM1068482    29722\n",
       " GSM1068483    29722\n",
       " GSM1068486    29722\n",
       " GSM1068487    29722\n",
       " GSM1068488    29722\n",
       " GSM1068490    29722\n",
       " GSM1068491    29722\n",
       " GSM1068492    29722\n",
       " GSM1068493    29722\n",
       " GSM1068494    29722\n",
       " GSM1068495    29722\n",
       " GSM1068496    29722\n",
       " GSM1068498    29722\n",
       " GSM1068499    29722\n",
       " GSM1068500    29722\n",
       " GSM1068502    29722\n",
       " GSM1068503    29722\n",
       " GSM1068505    29722\n",
       " GSM1068506    29722\n",
       " GSM1068507    29722\n",
       " GSM1068508    29722\n",
       " GSM1068510    29722\n",
       " GSM1068512    29722\n",
       " GSM1068513    29722\n",
       " GSM1068514    29722\n",
       "               ...  \n",
       " GSM620760     24091\n",
       " GSM620769     24114\n",
       " GSM620774     19055\n",
       " GSM620778     18868\n",
       " GSM620789     20074\n",
       " GSM620759     24832\n",
       " GSM620773     18462\n",
       " GSM620786     23492\n",
       " GSM620753     23271\n",
       " GSM620761     23785\n",
       " GSM620790     19728\n",
       " ID_REF_y.1    29816\n",
       " GSM1299155    21989\n",
       " GSM1299156    21857\n",
       " GSM1299157    23062\n",
       " GSM1299161    22884\n",
       " GSM1299162    20331\n",
       " GSM1299163    21850\n",
       " GSM1299158    18841\n",
       " GSM1299159    21232\n",
       " GSM1299160    21072\n",
       " GSM1299164    20673\n",
       " GSM1299165    18981\n",
       " GSM1299166    18795\n",
       " GSM1299149    23163\n",
       " GSM1299150    24291\n",
       " GSM1299151    23336\n",
       " GSM1299152    22284\n",
       " GSM1299153    23491\n",
       " GSM1299154    23220\n",
       " Length: 232, dtype: int64, 0         232\n",
       " 1         215\n",
       " 82        214\n",
       " 83        151\n",
       " 84        232\n",
       " 85        231\n",
       " 101       223\n",
       " 117       222\n",
       " 133       230\n",
       " 214       223\n",
       " 295       231\n",
       " 296       231\n",
       " 312       223\n",
       " 328       227\n",
       " 329       232\n",
       " 345       232\n",
       " 361       232\n",
       " 362       214\n",
       " 363       203\n",
       " 364       232\n",
       " 380       132\n",
       " 636       232\n",
       " 652       232\n",
       " 653       232\n",
       " 669       232\n",
       " 685       232\n",
       " 686       213\n",
       " 687       232\n",
       " 703       229\n",
       " 704       228\n",
       "          ... \n",
       " 628089     18\n",
       " 628090     14\n",
       " 628091     17\n",
       " 628092     18\n",
       " 628093     19\n",
       " 628094     14\n",
       " 628095     14\n",
       " 628096     13\n",
       " 628097     20\n",
       " 628098      7\n",
       " 628099     13\n",
       " 628100     14\n",
       " 628101     12\n",
       " 628102     17\n",
       " 628103      7\n",
       " 628104     22\n",
       " 628105     12\n",
       " 628106      8\n",
       " 628107     12\n",
       " 628108     23\n",
       " 628109     23\n",
       " 628110     23\n",
       " 628111     15\n",
       " 628112     23\n",
       " 628113     23\n",
       " 628114     23\n",
       " 628115     23\n",
       " 628116     23\n",
       " 628117     23\n",
       " 628118      5\n",
       " Length: 29817, dtype: int64)"
      ]
     },
     "execution_count": 9,
     "metadata": {},
     "output_type": "execute_result"
    }
   ],
   "source": [
    "# Now, calculate non-nan values in each row and column similarly\n",
    "v1_nan_column =  v1_dataset.count()\n",
    "v1_nan_row = v1_dataset.count(axis=1)\n",
    "v1_nan_column, v1_nan_row"
   ]
  },
  {
   "cell_type": "code",
   "execution_count": 10,
   "metadata": {},
   "outputs": [
    {
     "data": {
      "text/plain": [
       "(15832, 0)"
      ]
     },
     "execution_count": 10,
     "metadata": {},
     "output_type": "execute_result"
    }
   ],
   "source": [
    "min(v1_nan_column), min(v1_nan_row)"
   ]
  },
  {
   "cell_type": "code",
   "execution_count": 11,
   "metadata": {
    "collapsed": true
   },
   "outputs": [],
   "source": [
    "# Saving this version to a csv file\n",
    "v1_dataset.to_csv(\"v1_dataset.csv\", index=False)"
   ]
  },
  {
   "cell_type": "markdown",
   "metadata": {},
   "source": [
    "## Now we proceed to our 2nd step of cleaning\n",
    "## This involves in feature selection and few discard of data points with much NaN values"
   ]
  },
  {
   "cell_type": "code",
   "execution_count": 12,
   "metadata": {},
   "outputs": [
    {
     "data": {
      "text/plain": [
       "(29817, 216)"
      ]
     },
     "execution_count": 12,
     "metadata": {},
     "output_type": "execute_result"
    }
   ],
   "source": [
    "v2_dataset = v1_dataset\n",
    "\n",
    "# First we clean out the samples:\n",
    "for sample in v1_nan_column.index:\n",
    "    if v1_nan_column[sample] < 20000:\n",
    "        v2_dataset = v2_dataset.drop(columns=sample, axis=1)\n",
    "v2_dataset.shape"
   ]
  },
  {
   "cell_type": "code",
   "execution_count": 13,
   "metadata": {},
   "outputs": [
    {
     "data": {
      "text/plain": [
       "(15810, 216)"
      ]
     },
     "execution_count": 13,
     "metadata": {},
     "output_type": "execute_result"
    }
   ],
   "source": [
    "# Second we clean out the genes with many NaN values and ALSO NOT present in 711-list:\n",
    "for gene in v1_nan_row.index:\n",
    "    if v1_nan_row[gene] < 220 and initial_dataset.iloc[gene]['IDENTIFIER'] not in genes711:\n",
    "        v2_dataset = v2_dataset.drop([gene], axis=0)\n",
    "v2_dataset.shape"
   ]
  },
  {
   "cell_type": "code",
   "execution_count": 14,
   "metadata": {},
   "outputs": [
    {
     "data": {
      "text/plain": [
       "698"
      ]
     },
     "execution_count": 14,
     "metadata": {},
     "output_type": "execute_result"
    }
   ],
   "source": [
    "dataset_identifiers = set(v2_dataset.iloc[1:,1])\n",
    "common_in_dataset = list(gene_set.intersection(dataset_identifiers))\n",
    "len(common_in_dataset)"
   ]
  },
  {
   "cell_type": "code",
   "execution_count": 15,
   "metadata": {},
   "outputs": [
    {
     "data": {
      "text/plain": [
       "(ID_REF_x      15810\n",
       " IDENTIFIER    15810\n",
       " GSM1068478    15810\n",
       " GSM1068479    15810\n",
       " GSM1068481    15810\n",
       " GSM1068482    15810\n",
       " GSM1068483    15810\n",
       " GSM1068486    15810\n",
       " GSM1068487    15810\n",
       " GSM1068488    15810\n",
       " GSM1068490    15810\n",
       " GSM1068491    15810\n",
       " GSM1068492    15810\n",
       " GSM1068493    15810\n",
       " GSM1068494    15810\n",
       " GSM1068495    15810\n",
       " GSM1068496    15810\n",
       " GSM1068498    15810\n",
       " GSM1068499    15810\n",
       " GSM1068500    15810\n",
       " GSM1068502    15810\n",
       " GSM1068503    15810\n",
       " GSM1068505    15810\n",
       " GSM1068506    15810\n",
       " GSM1068507    15810\n",
       " GSM1068508    15810\n",
       " GSM1068510    15810\n",
       " GSM1068512    15810\n",
       " GSM1068513    15810\n",
       " GSM1068514    15810\n",
       "               ...  \n",
       " GSM620784     14729\n",
       " GSM620765     15211\n",
       " GSM620754     15709\n",
       " GSM620758     15649\n",
       " GSM620785     15490\n",
       " GSM620791     14687\n",
       " GSM620752     15718\n",
       " GSM620760     15669\n",
       " GSM620769     15733\n",
       " GSM620789     14712\n",
       " GSM620759     15704\n",
       " GSM620786     15459\n",
       " GSM620753     15627\n",
       " GSM620761     15633\n",
       " ID_REF_y.1    15810\n",
       " GSM1299155    15575\n",
       " GSM1299156    15561\n",
       " GSM1299157    15670\n",
       " GSM1299161    15666\n",
       " GSM1299162    15238\n",
       " GSM1299163    15602\n",
       " GSM1299159    15527\n",
       " GSM1299160    15518\n",
       " GSM1299164    15367\n",
       " GSM1299149    15632\n",
       " GSM1299150    15727\n",
       " GSM1299151    15705\n",
       " GSM1299152    15602\n",
       " GSM1299153    15707\n",
       " GSM1299154    15682\n",
       " Length: 216, dtype: int64, 0         216\n",
       " 84        216\n",
       " 85        216\n",
       " 101       213\n",
       " 117       214\n",
       " 133       216\n",
       " 214       214\n",
       " 295       216\n",
       " 296       216\n",
       " 312       213\n",
       " 328       213\n",
       " 329       216\n",
       " 345       216\n",
       " 361       216\n",
       " 364       216\n",
       " 380       131\n",
       " 636       216\n",
       " 652       216\n",
       " 653       216\n",
       " 669       216\n",
       " 685       216\n",
       " 687       216\n",
       " 703       216\n",
       " 704       215\n",
       " 960       216\n",
       " 976       215\n",
       " 992       216\n",
       " 1008      214\n",
       " 1089      216\n",
       " 1090      216\n",
       "          ... \n",
       " 627944    215\n",
       " 627950    216\n",
       " 627951    216\n",
       " 627952    216\n",
       " 627953    216\n",
       " 627956    216\n",
       " 627963    216\n",
       " 627964    216\n",
       " 627965    216\n",
       " 627966    213\n",
       " 627967    213\n",
       " 627975    216\n",
       " 627977    216\n",
       " 627983    214\n",
       " 627985    216\n",
       " 627991    215\n",
       " 627992    213\n",
       " 627993    213\n",
       " 627996    216\n",
       " 628000    216\n",
       " 628001    215\n",
       " 628004    216\n",
       " 628005    216\n",
       " 628006    216\n",
       " 628009    216\n",
       " 628011    216\n",
       " 628015    213\n",
       " 628016    216\n",
       " 628018    215\n",
       " 628019    214\n",
       " Length: 15810, dtype: int64, 14684, 116)"
      ]
     },
     "execution_count": 15,
     "metadata": {},
     "output_type": "execute_result"
    }
   ],
   "source": [
    "# Now, LETS AGAIN calculate non-nan values in each row and column similarly\n",
    "v2_nan_column = v2_dataset.count()\n",
    "v2_nan_row = v2_dataset.count(axis=1)\n",
    "v2_nan_column, v2_nan_row, min(v2_nan_column), min(v2_nan_row)"
   ]
  },
  {
   "cell_type": "code",
   "execution_count": 16,
   "metadata": {},
   "outputs": [
    {
     "name": "stdout",
     "output_type": "stream",
     "text": [
      "ID_REF_x\n",
      "ID_REF_y\n",
      "ID_REF_x.1\n",
      "ID_REF_y.1\n"
     ]
    }
   ],
   "source": [
    "# FINAL preprocessing to make the final dataset\n",
    "v2_dataset = v2_dataset.reset_index(drop=True)\n",
    "\n",
    "col_names = v2_dataset.columns.tolist()\n",
    "drop_col = []\n",
    "for each in col_names:\n",
    "    if \"ID_REF\" in each:\n",
    "        drop_col.append(each)\n",
    "        print (each)\n",
    "v2_dataset = v2_dataset.drop(columns=drop_col, axis=1)\n",
    "\n",
    "# Saving this final version to a csv file\n",
    "v2_dataset.to_csv(\"v2_dataset.csv\", index=False)"
   ]
  },
  {
   "cell_type": "code",
   "execution_count": 17,
   "metadata": {},
   "outputs": [
    {
     "data": {
      "text/html": [
       "<div>\n",
       "<style scoped>\n",
       "    .dataframe tbody tr th:only-of-type {\n",
       "        vertical-align: middle;\n",
       "    }\n",
       "\n",
       "    .dataframe tbody tr th {\n",
       "        vertical-align: top;\n",
       "    }\n",
       "\n",
       "    .dataframe thead th {\n",
       "        text-align: right;\n",
       "    }\n",
       "</style>\n",
       "<table border=\"1\" class=\"dataframe\">\n",
       "  <thead>\n",
       "    <tr style=\"text-align: right;\">\n",
       "      <th></th>\n",
       "      <th>IDENTIFIER</th>\n",
       "      <th>GSM1068478</th>\n",
       "      <th>GSM1068479</th>\n",
       "      <th>GSM1068481</th>\n",
       "      <th>GSM1068482</th>\n",
       "      <th>GSM1068483</th>\n",
       "      <th>GSM1068486</th>\n",
       "      <th>GSM1068487</th>\n",
       "      <th>GSM1068488</th>\n",
       "      <th>GSM1068490</th>\n",
       "      <th>...</th>\n",
       "      <th>GSM1299163</th>\n",
       "      <th>GSM1299159</th>\n",
       "      <th>GSM1299160</th>\n",
       "      <th>GSM1299164</th>\n",
       "      <th>GSM1299149</th>\n",
       "      <th>GSM1299150</th>\n",
       "      <th>GSM1299151</th>\n",
       "      <th>GSM1299152</th>\n",
       "      <th>GSM1299153</th>\n",
       "      <th>GSM1299154</th>\n",
       "    </tr>\n",
       "  </thead>\n",
       "  <tbody>\n",
       "    <tr>\n",
       "      <th>0</th>\n",
       "      <td>FAM174B</td>\n",
       "      <td>11.76500</td>\n",
       "      <td>11.15030</td>\n",
       "      <td>11.82380</td>\n",
       "      <td>10.96300</td>\n",
       "      <td>11.63470</td>\n",
       "      <td>11.07970</td>\n",
       "      <td>11.30700</td>\n",
       "      <td>11.17300</td>\n",
       "      <td>11.01220</td>\n",
       "      <td>...</td>\n",
       "      <td>975.662</td>\n",
       "      <td>626.2390</td>\n",
       "      <td>812.397</td>\n",
       "      <td>656.582</td>\n",
       "      <td>600.269</td>\n",
       "      <td>533.7510</td>\n",
       "      <td>536.7940</td>\n",
       "      <td>569.0760</td>\n",
       "      <td>560.7460</td>\n",
       "      <td>540.926</td>\n",
       "    </tr>\n",
       "    <tr>\n",
       "      <th>1</th>\n",
       "      <td>AVEN</td>\n",
       "      <td>9.16313</td>\n",
       "      <td>8.79248</td>\n",
       "      <td>9.41351</td>\n",
       "      <td>9.75378</td>\n",
       "      <td>8.85106</td>\n",
       "      <td>9.07236</td>\n",
       "      <td>9.14032</td>\n",
       "      <td>9.32616</td>\n",
       "      <td>9.34733</td>\n",
       "      <td>...</td>\n",
       "      <td>9315.450</td>\n",
       "      <td>8943.6600</td>\n",
       "      <td>8207.390</td>\n",
       "      <td>7049.390</td>\n",
       "      <td>7991.160</td>\n",
       "      <td>7477.4700</td>\n",
       "      <td>7271.7600</td>\n",
       "      <td>8092.8000</td>\n",
       "      <td>7561.0700</td>\n",
       "      <td>7592.700</td>\n",
       "    </tr>\n",
       "    <tr>\n",
       "      <th>2</th>\n",
       "      <td>ZSCAN29</td>\n",
       "      <td>6.59184</td>\n",
       "      <td>6.33201</td>\n",
       "      <td>6.46551</td>\n",
       "      <td>6.29518</td>\n",
       "      <td>6.99030</td>\n",
       "      <td>6.87607</td>\n",
       "      <td>6.69913</td>\n",
       "      <td>7.10535</td>\n",
       "      <td>6.38505</td>\n",
       "      <td>...</td>\n",
       "      <td>306.320</td>\n",
       "      <td>400.4340</td>\n",
       "      <td>339.712</td>\n",
       "      <td>376.919</td>\n",
       "      <td>424.629</td>\n",
       "      <td>427.5310</td>\n",
       "      <td>466.0520</td>\n",
       "      <td>492.4640</td>\n",
       "      <td>403.1410</td>\n",
       "      <td>361.980</td>\n",
       "    </tr>\n",
       "    <tr>\n",
       "      <th>3</th>\n",
       "      <td>VPS39</td>\n",
       "      <td>6.94390</td>\n",
       "      <td>7.25954</td>\n",
       "      <td>6.47927</td>\n",
       "      <td>7.03616</td>\n",
       "      <td>7.03942</td>\n",
       "      <td>6.99538</td>\n",
       "      <td>6.66769</td>\n",
       "      <td>6.81098</td>\n",
       "      <td>7.53420</td>\n",
       "      <td>...</td>\n",
       "      <td>212.552</td>\n",
       "      <td>136.4690</td>\n",
       "      <td>216.170</td>\n",
       "      <td>182.511</td>\n",
       "      <td>117.328</td>\n",
       "      <td>90.9205</td>\n",
       "      <td>83.9713</td>\n",
       "      <td>98.8445</td>\n",
       "      <td>91.6663</td>\n",
       "      <td>101.091</td>\n",
       "    </tr>\n",
       "    <tr>\n",
       "      <th>4</th>\n",
       "      <td>CHP1</td>\n",
       "      <td>6.87904</td>\n",
       "      <td>6.68519</td>\n",
       "      <td>6.35302</td>\n",
       "      <td>6.63985</td>\n",
       "      <td>7.18989</td>\n",
       "      <td>6.67616</td>\n",
       "      <td>6.27004</td>\n",
       "      <td>6.76326</td>\n",
       "      <td>6.27334</td>\n",
       "      <td>...</td>\n",
       "      <td>239.436</td>\n",
       "      <td>93.8249</td>\n",
       "      <td>123.738</td>\n",
       "      <td>177.081</td>\n",
       "      <td>177.630</td>\n",
       "      <td>152.3810</td>\n",
       "      <td>172.4520</td>\n",
       "      <td>131.5090</td>\n",
       "      <td>136.8120</td>\n",
       "      <td>150.658</td>\n",
       "    </tr>\n",
       "  </tbody>\n",
       "</table>\n",
       "<p>5 rows × 212 columns</p>\n",
       "</div>"
      ],
      "text/plain": [
       "  IDENTIFIER  GSM1068478  GSM1068479  GSM1068481  GSM1068482  GSM1068483  \\\n",
       "0    FAM174B    11.76500    11.15030    11.82380    10.96300    11.63470   \n",
       "1       AVEN     9.16313     8.79248     9.41351     9.75378     8.85106   \n",
       "2    ZSCAN29     6.59184     6.33201     6.46551     6.29518     6.99030   \n",
       "3      VPS39     6.94390     7.25954     6.47927     7.03616     7.03942   \n",
       "4       CHP1     6.87904     6.68519     6.35302     6.63985     7.18989   \n",
       "\n",
       "   GSM1068486  GSM1068487  GSM1068488  GSM1068490     ...      GSM1299163  \\\n",
       "0    11.07970    11.30700    11.17300    11.01220     ...         975.662   \n",
       "1     9.07236     9.14032     9.32616     9.34733     ...        9315.450   \n",
       "2     6.87607     6.69913     7.10535     6.38505     ...         306.320   \n",
       "3     6.99538     6.66769     6.81098     7.53420     ...         212.552   \n",
       "4     6.67616     6.27004     6.76326     6.27334     ...         239.436   \n",
       "\n",
       "   GSM1299159  GSM1299160  GSM1299164  GSM1299149  GSM1299150  GSM1299151  \\\n",
       "0    626.2390     812.397     656.582     600.269    533.7510    536.7940   \n",
       "1   8943.6600    8207.390    7049.390    7991.160   7477.4700   7271.7600   \n",
       "2    400.4340     339.712     376.919     424.629    427.5310    466.0520   \n",
       "3    136.4690     216.170     182.511     117.328     90.9205     83.9713   \n",
       "4     93.8249     123.738     177.081     177.630    152.3810    172.4520   \n",
       "\n",
       "   GSM1299152  GSM1299153  GSM1299154  \n",
       "0    569.0760    560.7460     540.926  \n",
       "1   8092.8000   7561.0700    7592.700  \n",
       "2    492.4640    403.1410     361.980  \n",
       "3     98.8445     91.6663     101.091  \n",
       "4    131.5090    136.8120     150.658  \n",
       "\n",
       "[5 rows x 212 columns]"
      ]
     },
     "execution_count": 17,
     "metadata": {},
     "output_type": "execute_result"
    }
   ],
   "source": [
    "v2_dataset.head()"
   ]
  },
  {
   "cell_type": "markdown",
   "metadata": {},
   "source": [
    "## WE NOW MOVE ON TO MODEL TRAINING WITHIS FINAL VERSION OF THE DATASET"
   ]
  },
  {
   "cell_type": "code",
   "execution_count": 4,
   "metadata": {
    "scrolled": true
   },
   "outputs": [
    {
     "data": {
      "text/html": [
       "<div>\n",
       "<style scoped>\n",
       "    .dataframe tbody tr th:only-of-type {\n",
       "        vertical-align: middle;\n",
       "    }\n",
       "\n",
       "    .dataframe tbody tr th {\n",
       "        vertical-align: top;\n",
       "    }\n",
       "\n",
       "    .dataframe thead th {\n",
       "        text-align: right;\n",
       "    }\n",
       "</style>\n",
       "<table border=\"1\" class=\"dataframe\">\n",
       "  <thead>\n",
       "    <tr style=\"text-align: right;\">\n",
       "      <th></th>\n",
       "      <th>0</th>\n",
       "      <th>1</th>\n",
       "      <th>2</th>\n",
       "      <th>3</th>\n",
       "      <th>4</th>\n",
       "      <th>5</th>\n",
       "      <th>6</th>\n",
       "      <th>7</th>\n",
       "      <th>8</th>\n",
       "      <th>9</th>\n",
       "      <th>...</th>\n",
       "      <th>202</th>\n",
       "      <th>203</th>\n",
       "      <th>204</th>\n",
       "      <th>205</th>\n",
       "      <th>206</th>\n",
       "      <th>207</th>\n",
       "      <th>208</th>\n",
       "      <th>209</th>\n",
       "      <th>210</th>\n",
       "      <th>211</th>\n",
       "    </tr>\n",
       "  </thead>\n",
       "  <tbody>\n",
       "    <tr>\n",
       "      <th>0</th>\n",
       "      <td>FAM174B</td>\n",
       "      <td>11.76500</td>\n",
       "      <td>11.15030</td>\n",
       "      <td>11.82380</td>\n",
       "      <td>10.96300</td>\n",
       "      <td>11.63470</td>\n",
       "      <td>11.07970</td>\n",
       "      <td>11.30700</td>\n",
       "      <td>11.17300</td>\n",
       "      <td>11.01220</td>\n",
       "      <td>...</td>\n",
       "      <td>975.662</td>\n",
       "      <td>626.2390</td>\n",
       "      <td>812.397</td>\n",
       "      <td>656.582</td>\n",
       "      <td>600.269</td>\n",
       "      <td>533.7510</td>\n",
       "      <td>536.7940</td>\n",
       "      <td>569.0760</td>\n",
       "      <td>560.7460</td>\n",
       "      <td>540.926</td>\n",
       "    </tr>\n",
       "    <tr>\n",
       "      <th>1</th>\n",
       "      <td>AVEN</td>\n",
       "      <td>9.16313</td>\n",
       "      <td>8.79248</td>\n",
       "      <td>9.41351</td>\n",
       "      <td>9.75378</td>\n",
       "      <td>8.85106</td>\n",
       "      <td>9.07236</td>\n",
       "      <td>9.14032</td>\n",
       "      <td>9.32616</td>\n",
       "      <td>9.34733</td>\n",
       "      <td>...</td>\n",
       "      <td>9315.450</td>\n",
       "      <td>8943.6600</td>\n",
       "      <td>8207.390</td>\n",
       "      <td>7049.390</td>\n",
       "      <td>7991.160</td>\n",
       "      <td>7477.4700</td>\n",
       "      <td>7271.7600</td>\n",
       "      <td>8092.8000</td>\n",
       "      <td>7561.0700</td>\n",
       "      <td>7592.700</td>\n",
       "    </tr>\n",
       "    <tr>\n",
       "      <th>2</th>\n",
       "      <td>ZSCAN29</td>\n",
       "      <td>6.59184</td>\n",
       "      <td>6.33201</td>\n",
       "      <td>6.46551</td>\n",
       "      <td>6.29518</td>\n",
       "      <td>6.99030</td>\n",
       "      <td>6.87607</td>\n",
       "      <td>6.69913</td>\n",
       "      <td>7.10535</td>\n",
       "      <td>6.38505</td>\n",
       "      <td>...</td>\n",
       "      <td>306.320</td>\n",
       "      <td>400.4340</td>\n",
       "      <td>339.712</td>\n",
       "      <td>376.919</td>\n",
       "      <td>424.629</td>\n",
       "      <td>427.5310</td>\n",
       "      <td>466.0520</td>\n",
       "      <td>492.4640</td>\n",
       "      <td>403.1410</td>\n",
       "      <td>361.980</td>\n",
       "    </tr>\n",
       "    <tr>\n",
       "      <th>3</th>\n",
       "      <td>VPS39</td>\n",
       "      <td>6.94390</td>\n",
       "      <td>7.25954</td>\n",
       "      <td>6.47927</td>\n",
       "      <td>7.03616</td>\n",
       "      <td>7.03942</td>\n",
       "      <td>6.99538</td>\n",
       "      <td>6.66769</td>\n",
       "      <td>6.81098</td>\n",
       "      <td>7.53420</td>\n",
       "      <td>...</td>\n",
       "      <td>212.552</td>\n",
       "      <td>136.4690</td>\n",
       "      <td>216.170</td>\n",
       "      <td>182.511</td>\n",
       "      <td>117.328</td>\n",
       "      <td>90.9205</td>\n",
       "      <td>83.9713</td>\n",
       "      <td>98.8445</td>\n",
       "      <td>91.6663</td>\n",
       "      <td>101.091</td>\n",
       "    </tr>\n",
       "    <tr>\n",
       "      <th>4</th>\n",
       "      <td>CHP1</td>\n",
       "      <td>6.87904</td>\n",
       "      <td>6.68519</td>\n",
       "      <td>6.35302</td>\n",
       "      <td>6.63985</td>\n",
       "      <td>7.18989</td>\n",
       "      <td>6.67616</td>\n",
       "      <td>6.27004</td>\n",
       "      <td>6.76326</td>\n",
       "      <td>6.27334</td>\n",
       "      <td>...</td>\n",
       "      <td>239.436</td>\n",
       "      <td>93.8249</td>\n",
       "      <td>123.738</td>\n",
       "      <td>177.081</td>\n",
       "      <td>177.630</td>\n",
       "      <td>152.3810</td>\n",
       "      <td>172.4520</td>\n",
       "      <td>131.5090</td>\n",
       "      <td>136.8120</td>\n",
       "      <td>150.658</td>\n",
       "    </tr>\n",
       "  </tbody>\n",
       "</table>\n",
       "<p>5 rows × 212 columns</p>\n",
       "</div>"
      ],
      "text/plain": [
       "       0         1         2         3         4         5         6    \\\n",
       "0  FAM174B  11.76500  11.15030  11.82380  10.96300  11.63470  11.07970   \n",
       "1     AVEN   9.16313   8.79248   9.41351   9.75378   8.85106   9.07236   \n",
       "2  ZSCAN29   6.59184   6.33201   6.46551   6.29518   6.99030   6.87607   \n",
       "3    VPS39   6.94390   7.25954   6.47927   7.03616   7.03942   6.99538   \n",
       "4     CHP1   6.87904   6.68519   6.35302   6.63985   7.18989   6.67616   \n",
       "\n",
       "        7         8         9      ...          202        203       204  \\\n",
       "0  11.30700  11.17300  11.01220    ...      975.662   626.2390   812.397   \n",
       "1   9.14032   9.32616   9.34733    ...     9315.450  8943.6600  8207.390   \n",
       "2   6.69913   7.10535   6.38505    ...      306.320   400.4340   339.712   \n",
       "3   6.66769   6.81098   7.53420    ...      212.552   136.4690   216.170   \n",
       "4   6.27004   6.76326   6.27334    ...      239.436    93.8249   123.738   \n",
       "\n",
       "        205       206        207        208        209        210       211  \n",
       "0   656.582   600.269   533.7510   536.7940   569.0760   560.7460   540.926  \n",
       "1  7049.390  7991.160  7477.4700  7271.7600  8092.8000  7561.0700  7592.700  \n",
       "2   376.919   424.629   427.5310   466.0520   492.4640   403.1410   361.980  \n",
       "3   182.511   117.328    90.9205    83.9713    98.8445    91.6663   101.091  \n",
       "4   177.081   177.630   152.3810   172.4520   131.5090   136.8120   150.658  \n",
       "\n",
       "[5 rows x 212 columns]"
      ]
     },
     "execution_count": 4,
     "metadata": {},
     "output_type": "execute_result"
    }
   ],
   "source": [
    "#WE LOAD THE DATASET FROM A CSV FILE\n",
    "final_dataset = pd.read_csv('v2_dataset.csv', header=None, skiprows=[0])\n",
    "final_dataset.head()"
   ]
  },
  {
   "cell_type": "code",
   "execution_count": 5,
   "metadata": {},
   "outputs": [
    {
     "data": {
      "text/plain": [
       "698"
      ]
     },
     "execution_count": 5,
     "metadata": {},
     "output_type": "execute_result"
    }
   ],
   "source": [
    "dataset_identifiers = set(final_dataset.iloc[:,0])\n",
    "common_in_dataset = list(gene_set.intersection(dataset_identifiers))\n",
    "len(common_in_dataset)"
   ]
  },
  {
   "cell_type": "code",
   "execution_count": 6,
   "metadata": {
    "collapsed": true,
    "scrolled": true
   },
   "outputs": [],
   "source": [
    "# OUR FIRST TASK IS TO ADD LABEL COLUMN IN THE DATASET\n",
    "\n",
    "label = []\n",
    "for i in range(final_dataset.shape[0]):\n",
    "    if final_dataset.iloc[i][0] in genes711:\n",
    "        label.append(1)\n",
    "    else:\n",
    "        label.append(0)\n",
    "final_dataset['Label'] = label"
   ]
  },
  {
   "cell_type": "code",
   "execution_count": 7,
   "metadata": {},
   "outputs": [
    {
     "data": {
      "text/plain": [
       "698"
      ]
     },
     "execution_count": 7,
     "metadata": {},
     "output_type": "execute_result"
    }
   ],
   "source": [
    "# CHECK IF THE LABELS WERE ADDED RIGHT\n",
    "count = 0\n",
    "for gene in final_dataset.values:\n",
    "    if gene[-1]==1:\n",
    "        count += 1\n",
    "count"
   ]
  },
  {
   "cell_type": "code",
   "execution_count": 8,
   "metadata": {},
   "outputs": [
    {
     "data": {
      "text/html": [
       "<div>\n",
       "<style scoped>\n",
       "    .dataframe tbody tr th:only-of-type {\n",
       "        vertical-align: middle;\n",
       "    }\n",
       "\n",
       "    .dataframe tbody tr th {\n",
       "        vertical-align: top;\n",
       "    }\n",
       "\n",
       "    .dataframe thead th {\n",
       "        text-align: right;\n",
       "    }\n",
       "</style>\n",
       "<table border=\"1\" class=\"dataframe\">\n",
       "  <thead>\n",
       "    <tr style=\"text-align: right;\">\n",
       "      <th></th>\n",
       "      <th>1</th>\n",
       "      <th>2</th>\n",
       "      <th>3</th>\n",
       "      <th>4</th>\n",
       "      <th>5</th>\n",
       "      <th>6</th>\n",
       "      <th>7</th>\n",
       "      <th>8</th>\n",
       "      <th>9</th>\n",
       "      <th>10</th>\n",
       "      <th>...</th>\n",
       "      <th>203</th>\n",
       "      <th>204</th>\n",
       "      <th>205</th>\n",
       "      <th>206</th>\n",
       "      <th>207</th>\n",
       "      <th>208</th>\n",
       "      <th>209</th>\n",
       "      <th>210</th>\n",
       "      <th>211</th>\n",
       "      <th>Label</th>\n",
       "    </tr>\n",
       "  </thead>\n",
       "  <tbody>\n",
       "    <tr>\n",
       "      <th>0</th>\n",
       "      <td>11.76500</td>\n",
       "      <td>11.15030</td>\n",
       "      <td>11.82380</td>\n",
       "      <td>10.96300</td>\n",
       "      <td>11.63470</td>\n",
       "      <td>11.07970</td>\n",
       "      <td>11.30700</td>\n",
       "      <td>11.17300</td>\n",
       "      <td>11.01220</td>\n",
       "      <td>11.12380</td>\n",
       "      <td>...</td>\n",
       "      <td>626.2390</td>\n",
       "      <td>812.397</td>\n",
       "      <td>656.582</td>\n",
       "      <td>600.269</td>\n",
       "      <td>533.7510</td>\n",
       "      <td>536.7940</td>\n",
       "      <td>569.0760</td>\n",
       "      <td>560.7460</td>\n",
       "      <td>540.926</td>\n",
       "      <td>0</td>\n",
       "    </tr>\n",
       "    <tr>\n",
       "      <th>1</th>\n",
       "      <td>9.16313</td>\n",
       "      <td>8.79248</td>\n",
       "      <td>9.41351</td>\n",
       "      <td>9.75378</td>\n",
       "      <td>8.85106</td>\n",
       "      <td>9.07236</td>\n",
       "      <td>9.14032</td>\n",
       "      <td>9.32616</td>\n",
       "      <td>9.34733</td>\n",
       "      <td>8.71094</td>\n",
       "      <td>...</td>\n",
       "      <td>8943.6600</td>\n",
       "      <td>8207.390</td>\n",
       "      <td>7049.390</td>\n",
       "      <td>7991.160</td>\n",
       "      <td>7477.4700</td>\n",
       "      <td>7271.7600</td>\n",
       "      <td>8092.8000</td>\n",
       "      <td>7561.0700</td>\n",
       "      <td>7592.700</td>\n",
       "      <td>0</td>\n",
       "    </tr>\n",
       "    <tr>\n",
       "      <th>2</th>\n",
       "      <td>6.59184</td>\n",
       "      <td>6.33201</td>\n",
       "      <td>6.46551</td>\n",
       "      <td>6.29518</td>\n",
       "      <td>6.99030</td>\n",
       "      <td>6.87607</td>\n",
       "      <td>6.69913</td>\n",
       "      <td>7.10535</td>\n",
       "      <td>6.38505</td>\n",
       "      <td>6.89743</td>\n",
       "      <td>...</td>\n",
       "      <td>400.4340</td>\n",
       "      <td>339.712</td>\n",
       "      <td>376.919</td>\n",
       "      <td>424.629</td>\n",
       "      <td>427.5310</td>\n",
       "      <td>466.0520</td>\n",
       "      <td>492.4640</td>\n",
       "      <td>403.1410</td>\n",
       "      <td>361.980</td>\n",
       "      <td>0</td>\n",
       "    </tr>\n",
       "    <tr>\n",
       "      <th>3</th>\n",
       "      <td>6.94390</td>\n",
       "      <td>7.25954</td>\n",
       "      <td>6.47927</td>\n",
       "      <td>7.03616</td>\n",
       "      <td>7.03942</td>\n",
       "      <td>6.99538</td>\n",
       "      <td>6.66769</td>\n",
       "      <td>6.81098</td>\n",
       "      <td>7.53420</td>\n",
       "      <td>7.16548</td>\n",
       "      <td>...</td>\n",
       "      <td>136.4690</td>\n",
       "      <td>216.170</td>\n",
       "      <td>182.511</td>\n",
       "      <td>117.328</td>\n",
       "      <td>90.9205</td>\n",
       "      <td>83.9713</td>\n",
       "      <td>98.8445</td>\n",
       "      <td>91.6663</td>\n",
       "      <td>101.091</td>\n",
       "      <td>0</td>\n",
       "    </tr>\n",
       "    <tr>\n",
       "      <th>4</th>\n",
       "      <td>6.87904</td>\n",
       "      <td>6.68519</td>\n",
       "      <td>6.35302</td>\n",
       "      <td>6.63985</td>\n",
       "      <td>7.18989</td>\n",
       "      <td>6.67616</td>\n",
       "      <td>6.27004</td>\n",
       "      <td>6.76326</td>\n",
       "      <td>6.27334</td>\n",
       "      <td>6.83764</td>\n",
       "      <td>...</td>\n",
       "      <td>93.8249</td>\n",
       "      <td>123.738</td>\n",
       "      <td>177.081</td>\n",
       "      <td>177.630</td>\n",
       "      <td>152.3810</td>\n",
       "      <td>172.4520</td>\n",
       "      <td>131.5090</td>\n",
       "      <td>136.8120</td>\n",
       "      <td>150.658</td>\n",
       "      <td>0</td>\n",
       "    </tr>\n",
       "  </tbody>\n",
       "</table>\n",
       "<p>5 rows × 212 columns</p>\n",
       "</div>"
      ],
      "text/plain": [
       "          1         2         3         4         5         6         7  \\\n",
       "0  11.76500  11.15030  11.82380  10.96300  11.63470  11.07970  11.30700   \n",
       "1   9.16313   8.79248   9.41351   9.75378   8.85106   9.07236   9.14032   \n",
       "2   6.59184   6.33201   6.46551   6.29518   6.99030   6.87607   6.69913   \n",
       "3   6.94390   7.25954   6.47927   7.03616   7.03942   6.99538   6.66769   \n",
       "4   6.87904   6.68519   6.35302   6.63985   7.18989   6.67616   6.27004   \n",
       "\n",
       "          8         9        10  ...          203       204       205  \\\n",
       "0  11.17300  11.01220  11.12380  ...     626.2390   812.397   656.582   \n",
       "1   9.32616   9.34733   8.71094  ...    8943.6600  8207.390  7049.390   \n",
       "2   7.10535   6.38505   6.89743  ...     400.4340   339.712   376.919   \n",
       "3   6.81098   7.53420   7.16548  ...     136.4690   216.170   182.511   \n",
       "4   6.76326   6.27334   6.83764  ...      93.8249   123.738   177.081   \n",
       "\n",
       "        206        207        208        209        210       211  Label  \n",
       "0   600.269   533.7510   536.7940   569.0760   560.7460   540.926      0  \n",
       "1  7991.160  7477.4700  7271.7600  8092.8000  7561.0700  7592.700      0  \n",
       "2   424.629   427.5310   466.0520   492.4640   403.1410   361.980      0  \n",
       "3   117.328    90.9205    83.9713    98.8445    91.6663   101.091      0  \n",
       "4   177.630   152.3810   172.4520   131.5090   136.8120   150.658      0  \n",
       "\n",
       "[5 rows x 212 columns]"
      ]
     },
     "execution_count": 8,
     "metadata": {},
     "output_type": "execute_result"
    }
   ],
   "source": [
    "final_dataset = final_dataset.drop(columns=[0], axis=1)\n",
    "#final_dataset = final_dataset.T.reset_index(drop=True).T\n",
    "final_dataset.head()"
   ]
  },
  {
   "cell_type": "code",
   "execution_count": 9,
   "metadata": {},
   "outputs": [
    {
     "data": {
      "text/plain": [
       "(15810, 212)"
      ]
     },
     "execution_count": 9,
     "metadata": {},
     "output_type": "execute_result"
    }
   ],
   "source": [
    "final_dataset = shuffle(final_dataset)\n",
    "final_dataset.shape"
   ]
  },
  {
   "cell_type": "code",
   "execution_count": 10,
   "metadata": {},
   "outputs": [
    {
     "data": {
      "text/html": [
       "<div>\n",
       "<style scoped>\n",
       "    .dataframe tbody tr th:only-of-type {\n",
       "        vertical-align: middle;\n",
       "    }\n",
       "\n",
       "    .dataframe tbody tr th {\n",
       "        vertical-align: top;\n",
       "    }\n",
       "\n",
       "    .dataframe thead th {\n",
       "        text-align: right;\n",
       "    }\n",
       "</style>\n",
       "<table border=\"1\" class=\"dataframe\">\n",
       "  <thead>\n",
       "    <tr style=\"text-align: right;\">\n",
       "      <th></th>\n",
       "      <th>1</th>\n",
       "      <th>2</th>\n",
       "      <th>3</th>\n",
       "      <th>4</th>\n",
       "      <th>5</th>\n",
       "      <th>6</th>\n",
       "      <th>7</th>\n",
       "      <th>8</th>\n",
       "      <th>9</th>\n",
       "      <th>10</th>\n",
       "      <th>...</th>\n",
       "      <th>203</th>\n",
       "      <th>204</th>\n",
       "      <th>205</th>\n",
       "      <th>206</th>\n",
       "      <th>207</th>\n",
       "      <th>208</th>\n",
       "      <th>209</th>\n",
       "      <th>210</th>\n",
       "      <th>211</th>\n",
       "      <th>Label</th>\n",
       "    </tr>\n",
       "  </thead>\n",
       "  <tbody>\n",
       "    <tr>\n",
       "      <th>0</th>\n",
       "      <td>6.36441</td>\n",
       "      <td>7.37260</td>\n",
       "      <td>6.26814</td>\n",
       "      <td>6.09706</td>\n",
       "      <td>7.05856</td>\n",
       "      <td>6.31862</td>\n",
       "      <td>6.57151</td>\n",
       "      <td>5.91383</td>\n",
       "      <td>6.73745</td>\n",
       "      <td>6.86263</td>\n",
       "      <td>...</td>\n",
       "      <td>127.7870</td>\n",
       "      <td>138.5230</td>\n",
       "      <td>73.9008</td>\n",
       "      <td>207.3520</td>\n",
       "      <td>193.9900</td>\n",
       "      <td>208.0270</td>\n",
       "      <td>107.0100</td>\n",
       "      <td>128.834</td>\n",
       "      <td>121.4740</td>\n",
       "      <td>0</td>\n",
       "    </tr>\n",
       "    <tr>\n",
       "      <th>1</th>\n",
       "      <td>7.55826</td>\n",
       "      <td>7.35444</td>\n",
       "      <td>8.09900</td>\n",
       "      <td>7.57750</td>\n",
       "      <td>8.02048</td>\n",
       "      <td>7.36084</td>\n",
       "      <td>7.29708</td>\n",
       "      <td>7.59820</td>\n",
       "      <td>7.38986</td>\n",
       "      <td>7.52050</td>\n",
       "      <td>...</td>\n",
       "      <td>672.7210</td>\n",
       "      <td>849.9600</td>\n",
       "      <td>1137.1500</td>\n",
       "      <td>19.6171</td>\n",
       "      <td>716.6830</td>\n",
       "      <td>645.6200</td>\n",
       "      <td>577.9990</td>\n",
       "      <td>864.897</td>\n",
       "      <td>810.5570</td>\n",
       "      <td>0</td>\n",
       "    </tr>\n",
       "    <tr>\n",
       "      <th>2</th>\n",
       "      <td>6.80472</td>\n",
       "      <td>5.32035</td>\n",
       "      <td>7.11983</td>\n",
       "      <td>6.85328</td>\n",
       "      <td>6.34554</td>\n",
       "      <td>6.79680</td>\n",
       "      <td>6.62494</td>\n",
       "      <td>5.73633</td>\n",
       "      <td>6.18556</td>\n",
       "      <td>6.22889</td>\n",
       "      <td>...</td>\n",
       "      <td>221.5480</td>\n",
       "      <td>166.4690</td>\n",
       "      <td>252.9690</td>\n",
       "      <td>257.0880</td>\n",
       "      <td>201.2710</td>\n",
       "      <td>177.9520</td>\n",
       "      <td>244.9480</td>\n",
       "      <td>238.958</td>\n",
       "      <td>240.1130</td>\n",
       "      <td>0</td>\n",
       "    </tr>\n",
       "    <tr>\n",
       "      <th>3</th>\n",
       "      <td>5.08001</td>\n",
       "      <td>4.34091</td>\n",
       "      <td>5.81966</td>\n",
       "      <td>7.37776</td>\n",
       "      <td>5.80495</td>\n",
       "      <td>5.11652</td>\n",
       "      <td>5.15362</td>\n",
       "      <td>5.52761</td>\n",
       "      <td>5.19836</td>\n",
       "      <td>5.21364</td>\n",
       "      <td>...</td>\n",
       "      <td>21.5585</td>\n",
       "      <td>21.2376</td>\n",
       "      <td>20.2521</td>\n",
       "      <td>28.4325</td>\n",
       "      <td>22.6241</td>\n",
       "      <td>26.8765</td>\n",
       "      <td>12.3572</td>\n",
       "      <td>12.591</td>\n",
       "      <td>12.9551</td>\n",
       "      <td>0</td>\n",
       "    </tr>\n",
       "    <tr>\n",
       "      <th>4</th>\n",
       "      <td>10.61220</td>\n",
       "      <td>10.34100</td>\n",
       "      <td>10.50780</td>\n",
       "      <td>10.43370</td>\n",
       "      <td>10.95640</td>\n",
       "      <td>10.02630</td>\n",
       "      <td>10.93620</td>\n",
       "      <td>10.47960</td>\n",
       "      <td>10.31360</td>\n",
       "      <td>10.46560</td>\n",
       "      <td>...</td>\n",
       "      <td>5474.3100</td>\n",
       "      <td>5165.5500</td>\n",
       "      <td>5589.3200</td>\n",
       "      <td>5554.2400</td>\n",
       "      <td>5104.0800</td>\n",
       "      <td>5104.0800</td>\n",
       "      <td>6709.7600</td>\n",
       "      <td>5234.580</td>\n",
       "      <td>4099.6300</td>\n",
       "      <td>1</td>\n",
       "    </tr>\n",
       "  </tbody>\n",
       "</table>\n",
       "<p>5 rows × 212 columns</p>\n",
       "</div>"
      ],
      "text/plain": [
       "          1         2         3         4         5         6         7  \\\n",
       "0   6.36441   7.37260   6.26814   6.09706   7.05856   6.31862   6.57151   \n",
       "1   7.55826   7.35444   8.09900   7.57750   8.02048   7.36084   7.29708   \n",
       "2   6.80472   5.32035   7.11983   6.85328   6.34554   6.79680   6.62494   \n",
       "3   5.08001   4.34091   5.81966   7.37776   5.80495   5.11652   5.15362   \n",
       "4  10.61220  10.34100  10.50780  10.43370  10.95640  10.02630  10.93620   \n",
       "\n",
       "          8         9        10  ...          203        204        205  \\\n",
       "0   5.91383   6.73745   6.86263  ...     127.7870   138.5230    73.9008   \n",
       "1   7.59820   7.38986   7.52050  ...     672.7210   849.9600  1137.1500   \n",
       "2   5.73633   6.18556   6.22889  ...     221.5480   166.4690   252.9690   \n",
       "3   5.52761   5.19836   5.21364  ...      21.5585    21.2376    20.2521   \n",
       "4  10.47960  10.31360  10.46560  ...    5474.3100  5165.5500  5589.3200   \n",
       "\n",
       "         206        207        208        209       210        211  Label  \n",
       "0   207.3520   193.9900   208.0270   107.0100   128.834   121.4740      0  \n",
       "1    19.6171   716.6830   645.6200   577.9990   864.897   810.5570      0  \n",
       "2   257.0880   201.2710   177.9520   244.9480   238.958   240.1130      0  \n",
       "3    28.4325    22.6241    26.8765    12.3572    12.591    12.9551      0  \n",
       "4  5554.2400  5104.0800  5104.0800  6709.7600  5234.580  4099.6300      1  \n",
       "\n",
       "[5 rows x 212 columns]"
      ]
     },
     "execution_count": 10,
     "metadata": {},
     "output_type": "execute_result"
    }
   ],
   "source": [
    "final_dataset = final_dataset.reset_index(drop=True)\n",
    "final_dataset.head()"
   ]
  },
  {
   "cell_type": "markdown",
   "metadata": {},
   "source": [
    "### OUR DATASET IS READY. NOW WE PROCEED FOR TEST AND TRAIN:"
   ]
  },
  {
   "cell_type": "code",
   "execution_count": 11,
   "metadata": {},
   "outputs": [
    {
     "data": {
      "text/plain": [
       "((15810, 211), (15810,))"
      ]
     },
     "execution_count": 11,
     "metadata": {},
     "output_type": "execute_result"
    }
   ],
   "source": [
    "X_data, y_label = final_dataset.iloc[:,:-1], final_dataset.iloc[:,-1]\n",
    "X_data.shape, y_label.shape"
   ]
  },
  {
   "cell_type": "code",
   "execution_count": 12,
   "metadata": {},
   "outputs": [
    {
     "name": "stdout",
     "output_type": "stream",
     "text": [
      "(9486, 211) (9486,)\n",
      "(6324, 211) (6324,)\n"
     ]
    }
   ],
   "source": [
    "seed = 50\n",
    "test_size = 0.4\n",
    "X_train, X_test, y_train, y_test = train_test_split(X_data, y_label, test_size=test_size, random_state=seed)\n",
    "print (X_train.shape, y_train.shape)\n",
    "print (X_test.shape, y_test.shape)"
   ]
  },
  {
   "cell_type": "markdown",
   "metadata": {},
   "source": [
    "### Some models cant deal with NaN values. so we changed NaN with something"
   ]
  },
  {
   "cell_type": "code",
   "execution_count": 13,
   "metadata": {},
   "outputs": [
    {
     "name": "stdout",
     "output_type": "stream",
     "text": [
      "13795 7970\n"
     ]
    },
    {
     "name": "stderr",
     "output_type": "stream",
     "text": [
      "C:\\Users\\user\\Anaconda3\\lib\\site-packages\\pandas\\core\\indexing.py:630: SettingWithCopyWarning: \n",
      "A value is trying to be set on a copy of a slice from a DataFrame.\n",
      "Try using .loc[row_indexer,col_indexer] = value instead\n",
      "\n",
      "See the caveats in the documentation: http://pandas.pydata.org/pandas-docs/stable/indexing.html#indexing-view-versus-copy\n",
      "  self.obj[item_labels[indexer[info_axis]]] = value\n"
     ]
    },
    {
     "name": "stdout",
     "output_type": "stream",
     "text": [
      "0 0\n"
     ]
    }
   ],
   "source": [
    "print (sum(list(X_train.iloc[:,:].isnull().sum())), sum(list(X_test.iloc[:,:].isnull().sum())))\n",
    "\n",
    "X_train_woNan = X_train\n",
    "X_test_woNan = X_test\n",
    "for i in range(len(X_train.columns)):\n",
    "    X_train_woNan.iloc[:,i] = X_train_woNan.iloc[:,i].fillna(X_train_woNan.iloc[:,i].mean())\n",
    "    X_test_woNan.iloc[:,i] = X_test_woNan.iloc[:,i].fillna(X_test_woNan.iloc[:,i].mean())\n",
    "    \n",
    "print (sum(list(X_train_woNan.iloc[:,:].isnull().sum())), sum(list(X_test_woNan.iloc[:,:].isnull().sum())))"
   ]
  },
  {
   "cell_type": "markdown",
   "metadata": {},
   "source": [
    "## THis is a representation of our final_dataset using just first 3 features"
   ]
  },
  {
   "cell_type": "code",
   "execution_count": 26,
   "metadata": {},
   "outputs": [
    {
     "data": {
      "image/png": "[encoded data removed]",
      "text/plain": [
       "<Figure size 432x288 with 1 Axes>"
      ]
     },
     "metadata": {},
     "output_type": "display_data"
    }
   ],
   "source": [
    "colors = lambda x: \"Yellow\" if x==1 else \"Blue\"\n",
    "f = np.vectorize(colors)\n",
    "fig = plt.figure()\n",
    "plt.scatter(X_data.iloc[:,0], X_data.iloc[:,100], c=f(y_label), alpha=0.75, marker='p')\n",
    "plt.show()\n",
    "fig.savefig(\"dataset.eps\")"
   ]
  },
  {
   "cell_type": "markdown",
   "metadata": {},
   "source": [
    "### NOW we have 2 more X sets without any NaN values in them"
   ]
  },
  {
   "cell_type": "code",
   "execution_count": 15,
   "metadata": {
    "collapsed": true
   },
   "outputs": [],
   "source": [
    "### AN ARRAY SAVING ALL THE AVERAGES OF THE RUN MODELS ON THE TEST SET\n",
    "avg_test_set = []\n",
    "# Sequence of execution will be: xgboost, RF, Adaboost, KNN, svm"
   ]
  },
  {
   "cell_type": "code",
   "execution_count": 41,
   "metadata": {
    "collapsed": true
   },
   "outputs": [],
   "source": [
    "avg_train_set = []"
   ]
  },
  {
   "cell_type": "markdown",
   "metadata": {},
   "source": [
    "### OUR FIRST MODEL IS XGBOOST:\n",
    "#### We have used all three types of booster\n",
    "see [this](https://xgboost.readthedocs.io/en/latest/parameter.html#parameters-for-tree-booster) for **report**"
   ]
  },
  {
   "cell_type": "code",
   "execution_count": 28,
   "metadata": {},
   "outputs": [
    {
     "name": "stdout",
     "output_type": "stream",
     "text": [
      "Accuracy on Train set: 0.979760, Accuracy on Test set: 0.961259\n",
      "\n",
      "              precision    recall  f1-score   support\n",
      "\n",
      "Unknown gene       0.96      1.00      0.98      6054\n",
      " Cancer gene       0.84      0.11      0.20       270\n",
      "\n",
      "   micro avg       0.96      0.96      0.96      6324\n",
      "   macro avg       0.90      0.56      0.59      6324\n",
      "weighted avg       0.96      0.96      0.95      6324\n",
      "\n",
      "Accuracy on Train set: 0.954881, Accuracy on Test set: 0.957306\n",
      "\n",
      "              precision    recall  f1-score   support\n",
      "\n",
      "Unknown gene       0.96      1.00      0.98      6054\n",
      " Cancer gene       0.00      0.00      0.00       270\n",
      "\n",
      "   micro avg       0.96      0.96      0.96      6324\n",
      "   macro avg       0.48      0.50      0.49      6324\n",
      "weighted avg       0.92      0.96      0.94      6324\n",
      "\n"
     ]
    },
    {
     "name": "stderr",
     "output_type": "stream",
     "text": [
      "C:\\Users\\user\\Anaconda3\\lib\\site-packages\\sklearn\\metrics\\classification.py:1143: UndefinedMetricWarning: Precision and F-score are ill-defined and being set to 0.0 in labels with no predicted samples.\n",
      "  'precision', 'predicted', average, warn_for)\n"
     ]
    },
    {
     "name": "stdout",
     "output_type": "stream",
     "text": [
      "Accuracy on Train set: 0.978916, Accuracy on Test set: 0.961259\n",
      "\n",
      "              precision    recall  f1-score   support\n",
      "\n",
      "Unknown gene       0.96      1.00      0.98      6054\n",
      " Cancer gene       0.80      0.12      0.21       270\n",
      "\n",
      "   micro avg       0.96      0.96      0.96      6324\n",
      "   macro avg       0.88      0.56      0.60      6324\n",
      "weighted avg       0.96      0.96      0.95      6324\n",
      "\n"
     ]
    }
   ],
   "source": [
    "boosters = ['gbtree', 'gblinear', 'dart']\n",
    "class_labels = ['Unknown gene', 'Cancer gene']\n",
    "accXGBtrain = []\n",
    "accXGBtest = []\n",
    "\n",
    "for booster in boosters:\n",
    "    xgb_model = xgb.XGBClassifier(max_depth=10, learning_rate=0.1, subsample=0.3, booster=booster, max_delta_step=6)\n",
    "    xgb_model.fit(X_train, y_train)\n",
    "    accTrain = xgb_model.score(X_train, y_train)\n",
    "    accXGBtrain.append(accTrain)\n",
    "    accTest = xgb_model.score(X_test, y_test)\n",
    "    accXGBtest.append(accTest)\n",
    "    print (\"Accuracy on Train set: %f, Accuracy on Test set: %f\\n\"%(accTrain, accTest))\n",
    "    \n",
    "    pred = xgb_model.predict(X_test)\n",
    "    print (classification_report(y_true=y_test, y_pred=pred, target_names=class_labels))"
   ]
  },
  {
   "cell_type": "code",
   "execution_count": 29,
   "metadata": {},
   "outputs": [
    {
     "data": {
      "image/png": "[encoded data removed]",
      "text/plain": [
       "<Figure size 720x360 with 2 Axes>"
      ]
     },
     "metadata": {},
     "output_type": "display_data"
    }
   ],
   "source": [
    "fig, axes = plt.subplots(1,2, figsize=(10,5))\n",
    "\n",
    "axes[0].bar(boosters, accXGBtrain)\n",
    "plt.locator_params(axis='y', nbins=5)\n",
    "axes[0].set_ylim(0.95,1)\n",
    "axes[0].set_ylabel(\"Accuracy_on_TRAIN\")\n",
    "axes[0].set_xlabel(\"Boosters applied\")\n",
    "labeltrain = []\n",
    "for i in accXGBtrain:\n",
    "    labeltrain.append(str(i)[:6])\n",
    "for i in range(len(boosters)):\n",
    "    axes[0].text(x = boosters[i] , y = accXGBtrain[i]+0.001, s = labeltrain[i], size = 10, ha='center')\n",
    "    \n",
    "axes[1].bar(boosters, accXGBtest, color='green')\n",
    "plt.locator_params(axis='y', nbins=5)\n",
    "axes[1].set_ylim(0.95,1)\n",
    "axes[1].set_ylabel(\"Accuracy_on_TEST\")\n",
    "axes[1].set_xlabel(\"Boosters applied\")\n",
    "labeltest = []\n",
    "for i in accXGBtest:\n",
    "    labeltest.append(str(i)[:6])\n",
    "for i in range(len(boosters)):\n",
    "    axes[1].text(x = boosters[i] , y = accXGBtest[i]+0.001, s = labeltest[i], size = 10, ha='center')\n",
    "    \n",
    "plt.show()\n",
    "fig.savefig('xgboost.eps', bbox_inches='tight')"
   ]
  },
  {
   "cell_type": "code",
   "execution_count": 30,
   "metadata": {
    "collapsed": true
   },
   "outputs": [],
   "source": [
    "avg_test_set.append(mean(accXGBtest))"
   ]
  },
  {
   "cell_type": "markdown",
   "metadata": {},
   "source": [
    "### OUR SECOND MODEL: RANDOM FOREST\n",
    "see [this](https://scikit-learn.org/stable/modules/generated/sklearn.ensemble.RandomForestClassifier.html) for report and [this](https://scikit-learn.org/stable/modules/ensemble.html#forest) \n",
    "\n",
    "FOR MANY POINTS OF Random Forest, in report [this](http://docs.h2o.ai/h2o/latest-stable/h2o-docs/data-science/drf.html#faq)"
   ]
  },
  {
   "cell_type": "code",
   "execution_count": 31,
   "metadata": {
    "scrolled": false
   },
   "outputs": [
    {
     "name": "stdout",
     "output_type": "stream",
     "text": [
      "Accuracies for n_trees = 100 and depth_tree = 6 are\n",
      "Train: 0.963736 Test: 0.960942\n",
      "\n",
      "\n",
      "Accuracies for n_trees = 100 and depth_tree = 8 are\n",
      "Train: 0.964369 Test: 0.960942\n",
      "\n",
      "\n",
      "Accuracies for n_trees = 100 and depth_tree = 10 are\n",
      "Train: 0.965106 Test: 0.961101\n",
      "\n",
      "\n"
     ]
    },
    {
     "data": {
      "image/png": "[encoded data removed]",
      "text/plain": [
       "<Figure size 720x360 with 2 Axes>"
      ]
     },
     "metadata": {},
     "output_type": "display_data"
    },
    {
     "name": "stdout",
     "output_type": "stream",
     "text": [
      "Accuracies for n_trees = 200 and depth_tree = 6 are\n",
      "Train: 0.963841 Test: 0.960784\n",
      "\n",
      "\n",
      "Accuracies for n_trees = 200 and depth_tree = 8 are\n",
      "Train: 0.964685 Test: 0.960784\n",
      "\n",
      "\n",
      "Accuracies for n_trees = 200 and depth_tree = 10 are\n",
      "Train: 0.965106 Test: 0.961101\n",
      "\n",
      "\n"
     ]
    },
    {
     "data": {
      "image/png": "[encoded data removed]",
      "text/plain": [
       "<Figure size 720x360 with 2 Axes>"
      ]
     },
     "metadata": {},
     "output_type": "display_data"
    }
   ],
   "source": [
    "n_trees = [i for i in range(100,300,100)]\n",
    "depth_trees = [i for i in range(6,11,2)]\n",
    "\n",
    "accRFtest = []\n",
    "\n",
    "for i in n_trees:\n",
    "    accRFtrain = []\n",
    "    accRFtest2 = []\n",
    "    for j in depth_trees:\n",
    "        rfc = RandomForestClassifier(n_estimators=i, max_depth=j, max_features=X_data.shape[1], oob_score=True, random_state=50)\n",
    "        rfc.fit(X_train_woNan, y_train)\n",
    "        acc_train = rfc.score(X_train_woNan, y_train)\n",
    "        acc_test = rfc.score(X_test_woNan, y_test)\n",
    "        print (\"Accuracies for n_trees = %d and depth_tree = %d are\\nTrain: %f Test: %f\\n\\n\"%(i,j,acc_train,acc_test))\n",
    "        accRFtrain.append(acc_train)\n",
    "        accRFtest2.append(acc_test)\n",
    "        accRFtest.append(acc_test)\n",
    "    \n",
    "    fig, axes = plt.subplots(1,2, figsize=(10,5))\n",
    "    plt.locator_params(axis='y', nbins=5)\n",
    "\n",
    "    axes[0].bar(depth_trees, accRFtrain, color='red')\n",
    "    axes[0].set_ylim(0.95,0.98)\n",
    "    axes[0].set_ylabel(\"Accuracy_on_TRAIN\")\n",
    "    axes[0].set_xlabel(\"Depth of trees\")\n",
    "\n",
    "    labeltrain = []\n",
    "    for k in accRFtrain:\n",
    "        labeltrain.append(str(k)[:6])\n",
    "    for k in range(len(depth_trees)):\n",
    "        axes[0].text(x = depth_trees[k]-0.3 , y = accRFtrain[k]+0.001, s = labeltrain[k], size = 10)\n",
    "\n",
    "    axes[1].bar(depth_trees, accRFtest2, color='y')\n",
    "    plt.locator_params(axis='y', nbins=5)\n",
    "    axes[1].set_ylim(0.95,0.98)\n",
    "    axes[1].set_ylabel(\"Accuracy_on_TEST\")\n",
    "    axes[1].set_xlabel(\"Depth of trees\")\n",
    "\n",
    "    labeltest = []\n",
    "    for l in accRFtest2:\n",
    "        labeltest.append(str(l)[:6])\n",
    "    for l in range(len(depth_trees)):\n",
    "        axes[1].text(x = depth_trees[l]-0.3 , y = accRFtest2[l]+0.001, s = labeltest[l], size = 10)\n",
    "    plt.show()\n",
    "    name = str(i) + \"RF.eps\"\n",
    "    fig.savefig(name, bbox_inches='tight')"
   ]
  },
  {
   "cell_type": "code",
   "execution_count": 32,
   "metadata": {
    "collapsed": true
   },
   "outputs": [],
   "source": [
    "avg_test_set.append(mean(accRFtest))"
   ]
  },
  {
   "cell_type": "markdown",
   "metadata": {},
   "source": [
    "### OUR THIRD MODEL: ADABOOST\n",
    "see [this](https://scikit-learn.org/stable/modules/ensemble.html#adaboost) for report"
   ]
  },
  {
   "cell_type": "code",
   "execution_count": 33,
   "metadata": {},
   "outputs": [
    {
     "name": "stdout",
     "output_type": "stream",
     "text": [
      "Accuracy on train: 0.960468, Accuracy on test: 0.957622\n",
      "\n",
      "Accuracy on train: 0.961101, Accuracy on test: 0.959203\n",
      "\n",
      "Accuracy on train: 0.963631, Accuracy on test: 0.959203\n",
      "\n",
      "Accuracy on train: 0.964685, Accuracy on test: 0.958729\n",
      "\n",
      "Accuracy on train: 0.966266, Accuracy on test: 0.958571\n",
      "\n"
     ]
    },
    {
     "data": {
      "image/png": "[encoded data removed]",
      "text/plain": [
       "<Figure size 432x288 with 1 Axes>"
      ]
     },
     "metadata": {},
     "output_type": "display_data"
    }
   ],
   "source": [
    "n_estimators = [i for i in range(50, 260, 50)]\n",
    "accADAtrain = []\n",
    "accADAtest = []\n",
    "for n in n_estimators:\n",
    "    ada = AdaBoostClassifier(n_estimators=n, random_state=50)\n",
    "    ada.fit(X_train_woNan, y_train)\n",
    "    acctr = ada.score(X_train_woNan, y_train)\n",
    "    accte = ada.score(X_test_woNan, y_test)\n",
    "    accADAtrain.append(acctr)\n",
    "    accADAtest.append(accte)\n",
    "    print (\"Accuracy on train: %f, Accuracy on test: %f\\n\"%(acctr, accte))\n",
    "\n",
    "fig = plt.figure()\n",
    "plt.axis([40,260,0.95,0.97])\n",
    "x_axis = np.linspace(50,250,5)\n",
    "plt.xlabel(\"Number of estimators used at max\")\n",
    "plt.ylabel(\"Accuracy\")\n",
    "plt.scatter(n_estimators, accADAtrain, color='green')\n",
    "plt.plot(x_axis, accADAtrain, color='green', label=\"on Train set\")\n",
    "plt.scatter(n_estimators, accADAtest, color='red')\n",
    "plt.plot(x_axis, accADAtest, color='red', label=\"on Test set\")\n",
    "plt.legend()\n",
    "plt.show()\n",
    "fig.savefig(\"adaboost.eps\", bbox_inches='tight')"
   ]
  },
  {
   "cell_type": "code",
   "execution_count": 34,
   "metadata": {
    "collapsed": true
   },
   "outputs": [],
   "source": [
    "avg_test_set.append(mean(accADAtest))"
   ]
  },
  {
   "cell_type": "markdown",
   "metadata": {},
   "source": [
    "### OUR FOURTH MODEL: KNN"
   ]
  },
  {
   "cell_type": "code",
   "execution_count": 35,
   "metadata": {},
   "outputs": [
    {
     "name": "stdout",
     "output_type": "stream",
     "text": [
      "[2, 4, 6, 8, 10, 12, 14, 16, 18, 20]\n",
      "for neighbors = 2, accuracy_train is 0.961838 accuracy_test is :0.957464\n",
      "for neighbors = 4, accuracy_train is 0.957833 accuracy_test is :0.958254\n",
      "for neighbors = 6, accuracy_train is 0.956568 accuracy_test is :0.958571\n",
      "for neighbors = 8, accuracy_train is 0.955830 accuracy_test is :0.957780\n",
      "for neighbors = 10, accuracy_train is 0.955197 accuracy_test is :0.957306\n",
      "for neighbors = 12, accuracy_train is 0.954565 accuracy_test is :0.957306\n",
      "for neighbors = 14, accuracy_train is 0.954354 accuracy_test is :0.957306\n",
      "for neighbors = 16, accuracy_train is 0.954143 accuracy_test is :0.957147\n",
      "for neighbors = 18, accuracy_train is 0.953827 accuracy_test is :0.956831\n",
      "for neighbors = 20, accuracy_train is 0.953405 accuracy_test is :0.956673\n"
     ]
    }
   ],
   "source": [
    "k_range = [i for i in range(2,21,2)]\n",
    "print(k_range)\n",
    "accKNNtrain = []\n",
    "accKNNtest = []\n",
    "\n",
    "for i in k_range:\n",
    "    new_knn = KNeighborsClassifier(n_neighbors=i)\n",
    "    new_knn.fit(X_train_woNan, y_train)\n",
    "    accuracy_tr_knn = new_knn.score(X_train_woNan, y_train)\n",
    "    accuracy_te_knn = new_knn.score(X_test_woNan, y_test)\n",
    "    print (\"for neighbors = %d, accuracy_train is %f accuracy_test is :%f\"%(i,accuracy_tr_knn,accuracy_te_knn))\n",
    "    accKNNtrain.append(accuracy_tr_knn)\n",
    "    accKNNtest.append(accuracy_te_knn)"
   ]
  },
  {
   "cell_type": "code",
   "execution_count": 36,
   "metadata": {},
   "outputs": [
    {
     "data": {
      "image/png": "[encoded data removed]",
      "text/plain": [
       "<Figure size 432x288 with 1 Axes>"
      ]
     },
     "metadata": {},
     "output_type": "display_data"
    }
   ],
   "source": [
    "fig = plt.figure()\n",
    "plt.axis([0,22,0.95,0.97])\n",
    "x_axis = np.linspace(2,21,10)\n",
    "plt.xlabel(\"Number of neighbors\")\n",
    "plt.ylabel(\"Accuracy\")\n",
    "plt.scatter(k_range, accKNNtrain, color='blue')\n",
    "plt.plot(x_axis, accKNNtrain, color='blue', label=\"on Train set\")\n",
    "plt.scatter(k_range, accKNNtest, color='red')\n",
    "plt.plot(x_axis, accKNNtest, color='red', label=\"on Test set\")\n",
    "plt.legend()\n",
    "plt.show()\n",
    "fig.savefig(\"knn.eps\", bbox_inches='tight')"
   ]
  },
  {
   "cell_type": "code",
   "execution_count": 37,
   "metadata": {
    "collapsed": true
   },
   "outputs": [],
   "source": [
    "avg_test_set.append(mean(accKNNtest))"
   ]
  },
  {
   "cell_type": "markdown",
   "metadata": {},
   "source": [
    "### OUR LAST MODEL: SVM\n",
    "\n",
    "for SVC see [this](https://scikit-learn.org/stable/modules/svm.html)\n",
    "for gridSearch see [this](https://scikit-learn.org/stable/modules/generated/sklearn.model_selection.GridSearchCV.html)"
   ]
  },
  {
   "cell_type": "code",
   "execution_count": 19,
   "metadata": {},
   "outputs": [
    {
     "name": "stdout",
     "output_type": "stream",
     "text": [
      "(for C=0.100000) Acc on train: 0.954881 on test: 0.957306\n",
      "\n",
      "(for C=0.300000) Acc on train: 0.956040 on test: 0.957306\n",
      "\n",
      "(for C=0.500000) Acc on train: 0.956357 on test: 0.957306\n",
      "\n",
      "(for C=0.700000) Acc on train: 0.956357 on test: 0.957306\n",
      "\n",
      "(for C=0.900000) Acc on train: 0.956884 on test: 0.957306\n",
      "\n",
      "(for C=1.100000) Acc on train: 1.000000 on test: 0.957306\n",
      "\n",
      "(for C=1.300000) Acc on train: 1.000000 on test: 0.957306\n",
      "\n",
      "(for C=1.500000) Acc on train: 1.000000 on test: 0.957306\n",
      "\n",
      "(for C=1.700000) Acc on train: 1.000000 on test: 0.957306\n",
      "\n",
      "(for C=1.900000) Acc on train: 1.000000 on test: 0.957306\n",
      "\n"
     ]
    }
   ],
   "source": [
    "accSVMtest = []\n",
    "accSVMtrain = []\n",
    "#accSVMtests2 = []\n",
    "c_values = [i/10 for i in range(1,20,2)]\n",
    "\n",
    "for i in c_values:\n",
    "    lsvm = SVC(gamma='auto', C=i, random_state=50)\n",
    "    lsvm.fit(X_train_woNan, y_train)\n",
    "    train_sc = lsvm.score(X_train_woNan, y_train)\n",
    "    test_sc = lsvm.score(X_test_woNan, y_test)\n",
    "    accSVMtest.append(test_sc)\n",
    "    accSVMtrain.append(train_sc)\n",
    "    print (\"(for C=%f) Acc on train: %f on test: %f\\n\"%(i, train_sc, test_sc))"
   ]
  },
  {
   "cell_type": "code",
   "execution_count": 3,
   "metadata": {},
   "outputs": [
    {
     "ename": "NameError",
     "evalue": "name 'c_values' is not defined",
     "output_type": "error",
     "traceback": [
      "\u001b[1;31m---------------------------------------------------------------------------\u001b[0m",
      "\u001b[1;31mNameError\u001b[0m                                 Traceback (most recent call last)",
      "\u001b[1;32m<ipython-input-3-fa0f94fb518e>\u001b[0m in \u001b[0;36m<module>\u001b[1;34m()\u001b[0m\n\u001b[0;32m      4\u001b[0m \u001b[0mplt\u001b[0m\u001b[1;33m.\u001b[0m\u001b[0mxlabel\u001b[0m\u001b[1;33m(\u001b[0m\u001b[1;34m\"Variation of hyperparameter C\"\u001b[0m\u001b[1;33m)\u001b[0m\u001b[1;33m\u001b[0m\u001b[1;33m\u001b[0m\u001b[0m\n\u001b[0;32m      5\u001b[0m \u001b[0mplt\u001b[0m\u001b[1;33m.\u001b[0m\u001b[0mylabel\u001b[0m\u001b[1;33m(\u001b[0m\u001b[1;34m\"Accuracy\"\u001b[0m\u001b[1;33m)\u001b[0m\u001b[1;33m\u001b[0m\u001b[1;33m\u001b[0m\u001b[0m\n\u001b[1;32m----> 6\u001b[1;33m \u001b[0mplt\u001b[0m\u001b[1;33m.\u001b[0m\u001b[0mscatter\u001b[0m\u001b[1;33m(\u001b[0m\u001b[0mc_values\u001b[0m\u001b[1;33m,\u001b[0m \u001b[0maccSVMtrain\u001b[0m\u001b[1;33m,\u001b[0m \u001b[0mcolor\u001b[0m\u001b[1;33m=\u001b[0m\u001b[1;34m'blue'\u001b[0m\u001b[1;33m)\u001b[0m\u001b[1;33m\u001b[0m\u001b[1;33m\u001b[0m\u001b[0m\n\u001b[0m\u001b[0;32m      7\u001b[0m \u001b[0mplt\u001b[0m\u001b[1;33m.\u001b[0m\u001b[0mplot\u001b[0m\u001b[1;33m(\u001b[0m\u001b[0mx_axis\u001b[0m\u001b[1;33m,\u001b[0m \u001b[0maccSVMtrain\u001b[0m\u001b[1;33m,\u001b[0m \u001b[0mcolor\u001b[0m\u001b[1;33m=\u001b[0m\u001b[1;34m'blue'\u001b[0m\u001b[1;33m,\u001b[0m \u001b[0mlabel\u001b[0m\u001b[1;33m=\u001b[0m\u001b[1;34m\"on Train set\"\u001b[0m\u001b[1;33m)\u001b[0m\u001b[1;33m\u001b[0m\u001b[1;33m\u001b[0m\u001b[0m\n\u001b[0;32m      8\u001b[0m \u001b[0mplt\u001b[0m\u001b[1;33m.\u001b[0m\u001b[0mscatter\u001b[0m\u001b[1;33m(\u001b[0m\u001b[0mc_values\u001b[0m\u001b[1;33m,\u001b[0m \u001b[0maccSVMtest\u001b[0m\u001b[1;33m,\u001b[0m \u001b[0mcolor\u001b[0m\u001b[1;33m=\u001b[0m\u001b[1;34m'y'\u001b[0m\u001b[1;33m)\u001b[0m\u001b[1;33m\u001b[0m\u001b[1;33m\u001b[0m\u001b[0m\n",
      "\u001b[1;31mNameError\u001b[0m: name 'c_values' is not defined"
     ]
    }
   ],
   "source": [
    "fig = plt.figure()\n",
    "plt.axis([0.05,1.95,0.95,1])\n",
    "x_axis = np.linspace(0,2,10)\n",
    "plt.xlabel(\"Variation of hyperparameter C\")\n",
    "plt.ylabel(\"Accuracy\")\n",
    "plt.scatter(c_values, accSVMtrain, color='blue')\n",
    "plt.plot(x_axis, accSVMtrain, color='blue', label=\"on Train set\")\n",
    "plt.scatter(c_values, accSVMtest, color='y')\n",
    "plt.plot(x_axis, accSVMtest, color='y', label=\"on Test set\")\n",
    "plt.legend()\n",
    "plt.show()\n",
    "fig.savefig(\"svm.eps\", bbox_inches='tight')"
   ]
  },
  {
   "cell_type": "code",
   "execution_count": 39,
   "metadata": {},
   "outputs": [
    {
     "data": {
      "text/plain": [
       "[0.9599409656335652,\n",
       " 0.9609424414927261,\n",
       " 0.9586654016445288,\n",
       " 0.9574636306135358,\n",
       " 0.9573055028462998,\n",
       " 0.9573055028462998]"
      ]
     },
     "execution_count": 39,
     "metadata": {},
     "output_type": "execute_result"
    }
   ],
   "source": [
    "avg_test_set.append(mean(accSVMtest))\n",
    "avg_test_set"
   ]
  },
  {
   "cell_type": "code",
   "execution_count": 40,
   "metadata": {},
   "outputs": [
    {
     "data": {
      "text/plain": [
       "[0.9599409656335652,\n",
       " 0.9609424414927261,\n",
       " 0.9586654016445288,\n",
       " 0.9574636306135358,\n",
       " 0.9573055028462998]"
      ]
     },
     "execution_count": 40,
     "metadata": {},
     "output_type": "execute_result"
    }
   ],
   "source": [
    "avg_test_set=avg_test_set[:-1]\n",
    "avg_test_set"
   ]
  },
  {
   "cell_type": "code",
   "execution_count": 42,
   "metadata": {},
   "outputs": [
    {
     "data": {
      "text/plain": [
       "[0.9711856068592312,\n",
       " 0.9645442406353222,\n",
       " 0.9632300231920725,\n",
       " 0.9557558507273878,\n",
       " 0.9780518659076534]"
      ]
     },
     "execution_count": 42,
     "metadata": {},
     "output_type": "execute_result"
    }
   ],
   "source": [
    "avg_train_set.append(mean(accXGBtrain))\n",
    "avg_train_set.append(mean(accRFtrain))\n",
    "avg_train_set.append(mean(accADAtrain))\n",
    "avg_train_set.append(mean(accKNNtrain))\n",
    "avg_train_set.append(mean(accSVMtrain))\n",
    "avg_train_set"
   ]
  },
  {
   "cell_type": "code",
   "execution_count": 49,
   "metadata": {},
   "outputs": [
    {
     "data": {
      "text/plain": [
       "([0.9711856068592312,\n",
       "  0.9645442406353222,\n",
       "  0.9632300231920725,\n",
       "  0.9557558507273878,\n",
       "  0.9780518659076534],\n",
       " [0.9599409656335652,\n",
       "  0.9609424414927261,\n",
       "  0.9586654016445288,\n",
       "  0.9574636306135358,\n",
       "  0.9573055028462998])"
      ]
     },
     "execution_count": 49,
     "metadata": {},
     "output_type": "execute_result"
    }
   ],
   "source": [
    "avg_train_set, avg_test_set"
   ]
  },
  {
   "cell_type": "code",
   "execution_count": null,
   "metadata": {
    "collapsed": true
   },
   "outputs": [],
   "source": []
  }
 ],
 "metadata": {
  "kernelspec": {
   "display_name": "Python 3",
   "language": "python",
   "name": "python3"
  },
  "language_info": {
   "codemirror_mode": {
    "name": "ipython",
    "version": 3
   },
   "file_extension": ".py",
   "mimetype": "text/x-python",
   "name": "python",
   "nbconvert_exporter": "python",
   "pygments_lexer": "ipython3",
   "version": "3.6.7"
  }
 },
 "nbformat": 4,
 "nbformat_minor": 2
}
